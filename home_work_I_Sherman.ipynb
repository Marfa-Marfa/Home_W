{
 "cells": [
  {
   "cell_type": "code",
   "execution_count": 3,
   "id": "b96080bd",
   "metadata": {},
   "outputs": [
    {
     "name": "stdout",
     "output_type": "stream",
     "text": [
      "3\n",
      "14\n",
      "4\n",
      "2\n"
     ]
    }
   ],
   "source": [
    "# Задача 1 от 20_03_2023 (I вариант)\n",
    "\n",
    "n = int(input()) \n",
    "k = int(input())  \n",
    "x = k // n\n",
    "y = k % n\n",
    "print(x)\n",
    "print(y)"
   ]
  },
  {
   "cell_type": "code",
   "execution_count": null,
   "id": "c265b3f0",
   "metadata": {},
   "outputs": [],
   "source": [
    "# Задача 1 от 20_03_2023 (II вариант)\n",
    "     \n",
    "def share_bread(n, k):\n",
    "    x = k // n   # возвращает неполное частное от деления в виде целого числа\n",
    "    y = k % n    # % - оператор выводит остаток от деления\n",
    "    return x, y\n",
    "\n",
    "# если в функции всё верно, то после выполнения этой строчки, не должно выскакивать ошибок\n",
    "assert share_bread(n = 3, k = 14) == (4, 2)"
   ]
  },
  {
   "cell_type": "code",
   "execution_count": 6,
   "id": "d6c1933c",
   "metadata": {},
   "outputs": [
    {
     "name": "stdout",
     "output_type": "stream",
     "text": [
      "5\n",
      "YOU SHALL NOT PASS\n"
     ]
    }
   ],
   "source": [
    "#Задача 2 (вариант I)\n",
    "year = int(input())\n",
    "if year % 4 == 0 and year % 100 != 0 or year % 400 == 0:\n",
    "    print(\"YOU SHALL PASS\")\n",
    "else:\n",
    "    print(\"YOU SHALL NOT PASS\")"
   ]
  },
  {
   "cell_type": "code",
   "execution_count": 4,
   "id": "cab04516",
   "metadata": {},
   "outputs": [],
   "source": [
    "# Задача 2 (вариант II)\n",
    "def leap_year(year): \n",
    "    if (year % 4) == 0: \n",
    "        if (year % 100) == 0: \n",
    "            if (year % 400) == 0: \n",
    "                return \"YOU SHALL PASS\"\n",
    "            else: \n",
    "                return \"YOU SHALL NOT PASS\"\n",
    "        else: \n",
    "             return \"YOU SHALL PASS\"\n",
    "    else: \n",
    "        return \"YOU SHALL NOT PASS\" \n",
    "\n",
    "assert leap_year(5) == \"YOU SHALL NOT PASS\""
   ]
  },
  {
   "cell_type": "code",
   "execution_count": 5,
   "id": "f1cb2284",
   "metadata": {},
   "outputs": [
    {
     "name": "stdout",
     "output_type": "stream",
     "text": [
      "3\n",
      "4\n",
      "5\n",
      "6.0\n"
     ]
    }
   ],
   "source": [
    "#Задача 3 (вариант I)\n",
    "a, b, c = int(input()), int(input()), int(input()) \n",
    "p = (a + b + c) / 2 \n",
    "s = (p * (p - a) * (p - b) * (p - c)) ** 0.5 \n",
    "print(s)"
   ]
  },
  {
   "cell_type": "code",
   "execution_count": 7,
   "id": "b780ffba",
   "metadata": {},
   "outputs": [],
   "source": [
    "#Задача 3 (вариант II)\n",
    "def amulet_area(a, b, c):\n",
    "    #a, b, c = int(input()), int(input()), int(input()) \n",
    "    p = (a + b + c) / 2 \n",
    "    s = (p * (p - a) * (p - b) * (p - c)) ** 0.5 \n",
    "    return s\n",
    "\n",
    "assert amulet_area(3, 4, 5) == 6"
   ]
  },
  {
   "cell_type": "code",
   "execution_count": 19,
   "id": "191a19ce",
   "metadata": {},
   "outputs": [],
   "source": [
    "#Задача 4 (I вариант - через мат.формулы)\n",
    "\n",
    "import numpy as np\n",
    "\n",
    "def cal_euclidean(a, b): \n",
    "    distance1 = np.sqrt(np.sum(np.square(a-b)))\n",
    "    return distance1\n",
    "\n",
    "def cal_manhattan(a, b):    \n",
    "    distance2 = np.sum(np.abs(a - b))\n",
    "    return distance2\n",
    "\n",
    "def cal_cosine(a, b):    \n",
    "    distance3 = np.dot(a,b)/(np.linalg.norm(a)*(np.linalg.norm(b))) \n",
    "    return distance3"
   ]
  },
  {
   "cell_type": "code",
   "execution_count": 20,
   "id": "110ca066",
   "metadata": {},
   "outputs": [
    {
     "name": "stdout",
     "output_type": "stream",
     "text": [
      "26.362852652928137\n",
      "57\n",
      "-0.0451312066164497\n"
     ]
    }
   ],
   "source": [
    "a = np.random.randint(-10, 10, size=10)\n",
    "b = np.random.randint(-10, 10, size=10)\n",
    "print(cal_euclidean(a, b))\n",
    "print(cal_manhattan(a, b))\n",
    "print(cal_cosine(a, b))"
   ]
  },
  {
   "cell_type": "code",
   "execution_count": 21,
   "id": "fe6c54e9",
   "metadata": {},
   "outputs": [],
   "source": [
    "#Задача 4 (II вариант - через функцию np.linalg.norm())\n",
    "\n",
    "import numpy as np\n",
    "\n",
    "def cal_euclidean(a, b): \n",
    "    distance1 = np.linalg.norm(a - b)\n",
    "    return distance1\n",
    "\n",
    "def cal_manhattan(a, b):    \n",
    "    distance2 = np.linalg.norm(a-b,ord=1)\n",
    "    return distance2\n",
    "\n",
    "def cal_cosine(a, b):    \n",
    "    distance3 = np.dot(a,b)/(np.linalg.norm(a)*(np.linalg.norm(b))) \n",
    "    return distance3"
   ]
  },
  {
   "cell_type": "code",
   "execution_count": 17,
   "id": "61956945",
   "metadata": {},
   "outputs": [
    {
     "name": "stdout",
     "output_type": "stream",
     "text": [
      "22.045407685048602\n",
      "22.045407685048602\n",
      "0.2522435388362116\n"
     ]
    }
   ],
   "source": [
    "a = np.random.randint(-10, 10, size=10)\n",
    "b = np.random.randint(-10, 10, size=10)\n",
    "print(cal_euclidean(a, b))\n",
    "print(cal_manhattan(a, b))\n",
    "print(cal_cosine(a, b))"
   ]
  },
  {
   "cell_type": "code",
   "execution_count": 10,
   "id": "5e6682d9",
   "metadata": {},
   "outputs": [
    {
     "name": "stdout",
     "output_type": "stream",
     "text": [
      "Наибольшее число: 1.0 Наименьшее число: 0.0\n",
      "[0.81857048 0.58018394 0.74721422 0.0866675  0.47053374 0.62211647\n",
      " 0.97924155 0.51801878 0.75907614 0.9000502  0.86719696 0.32047031\n",
      " 0.44880534 0.3733723  0.90200499 0.70087008 0.49416385 1.\n",
      " 0.68320533 0.96614712 0.56060937 0.17840081 0.20951962 0.66956765\n",
      " 0.21309011 0.95092394 0.05225372 0.13791931 0.33352573 0.36680129\n",
      " 0.491167   0.44317074 0.33556889 0.42104336 0.41716131 0.16151237\n",
      " 0.49823227 0.57521588 0.33827742 0.79749364 0.50791194 0.02380672\n",
      " 0.50837322 0.38139279 0.01955524 0.30235936 0.25215882 0.9876022\n",
      " 0.44394554 0.75993045 0.04520238 0.02990122 0.43181657 0.96041017\n",
      " 0.77151462 0.2718761  0.78470171 0.22248741 0.4950831  0.11209014\n",
      " 0.14685616 0.40460269 0.20574267 0.27500409 0.37875077 0.31737516\n",
      " 0.3960418  0.76602641 0.8676071  0.32878169 0.37225644 0.25832913\n",
      " 0.36621445 0.20663194 0.57768746 0.64295431 0.43685035 0.68362063\n",
      " 0.08406103 0.36108803 0.13341377 0.63958689 0.2192511  0.43715021\n",
      " 0.22630994 0.54222933 0.31634258 0.77953645 0.84803864 0.75507686\n",
      " 0.87337587 0.84315161 0.81030906 0.8816025  0.17501156 0.8720399\n",
      " 0.16334979 0.83917924 0.         0.77178052]\n"
     ]
    }
   ],
   "source": [
    "#Задача 5.1\n",
    "import numpy as np\n",
    "my_array = np.random.rand(100)\n",
    "\n",
    "# Находим max элемент массива и заменяем его 1\n",
    "my_array[np.where(my_array == my_array.max())] = 1\n",
    "\n",
    "# Находим min элемент массива и заменяем его 0\n",
    "my_array[np.where(my_array == my_array.min())] = 0\n",
    "\n",
    "print(\"Наибольшее число:\", np.max(my_array), \"Наименьшее число:\",np.min(my_array))\n",
    "print(my_array)\n"
   ]
  },
  {
   "cell_type": "code",
   "execution_count": 11,
   "id": "caaac2e5",
   "metadata": {},
   "outputs": [
    {
     "name": "stdout",
     "output_type": "stream",
     "text": [
      "Shape:  (5, 6)\n",
      "Array\n",
      "[[21 29 28 21  4  0]\n",
      " [43  5 21  2 19 36]\n",
      " [ 1 14 28 46 35  8]\n",
      " [21 15 16 25 42 42]\n",
      " [29 45  7 46 20  4]]\n",
      "[21  2 46 25 46]\n"
     ]
    }
   ],
   "source": [
    "#Задача 5.2 (6)\n",
    "import numpy as np\n",
    "my_array = np.random.randint(0,50,(5,6))\n",
    "# нам нужен столбец, поэтому перебираем сверху вниз и кладем axis = 0\n",
    "selected_column = my_array[:, np.argmax(my_array.max(axis = 0))]\n",
    "print('Shape: ',my_array.shape)\n",
    "print('Array')\n",
    "print(my_array)\n",
    "print(selected_column)"
   ]
  },
  {
   "cell_type": "code",
   "execution_count": 32,
   "id": "d5625c11",
   "metadata": {},
   "outputs": [],
   "source": [
    "#Задача 5.3 (7)\n",
    "def get_unique_rows(X):\n",
    "    # преобразовываем каждую строку (список) в кортеж. [Помещаем все строки(список) в набор,\n",
    "    # потому что набор содержит уникальные значения.\n",
    "    # Поскольку list является нехешируемым типом для set, потому что он изменяемый,\n",
    "    # поэтому сначала мы преобразуем каждую строку (список) в кортеж, а затем помещаем весь кортеж в set]\n",
    "    # сопоставляем функцию кортежа с каждой строкой входной матрицы\n",
    "    X = map(tuple, X)\n",
    " \n",
    "    # Результирующий набор будет содержать только кортежи с уникальными значениями (строками)\n",
    "    # помещаем все строки в set\n",
    "    result = set(X)\n",
    " \n",
    "    # печатаем все уникальные строки\n",
    "    for row in list(result):\n",
    "        print (row)\n",
    "    return "
   ]
  },
  {
   "cell_type": "code",
   "execution_count": 33,
   "id": "8b2bb191",
   "metadata": {},
   "outputs": [
    {
     "name": "stdout",
     "output_type": "stream",
     "text": [
      "[[4 4 4]\n",
      " [5 4 5]\n",
      " [5 5 5]\n",
      " [4 4 5]\n",
      " [5 4 4]\n",
      " [5 4 4]\n",
      " [5 5 5]\n",
      " [4 4 5]\n",
      " [4 4 5]\n",
      " [4 5 4]]\n"
     ]
    }
   ],
   "source": [
    "X = np.random.randint(4, 6, size=(10,3))\n",
    "print(X)"
   ]
  },
  {
   "cell_type": "code",
   "execution_count": 34,
   "id": "b1a27d87",
   "metadata": {},
   "outputs": [
    {
     "name": "stdout",
     "output_type": "stream",
     "text": [
      "(5, 4, 5)\n",
      "(5, 5, 5)\n",
      "(4, 5, 4)\n",
      "(4, 4, 5)\n",
      "(5, 4, 4)\n",
      "(4, 4, 4)\n"
     ]
    }
   ],
   "source": [
    "get_unique_rows(X)"
   ]
  },
  {
   "cell_type": "code",
   "execution_count": null,
   "id": "2c0e1a9d",
   "metadata": {},
   "outputs": [],
   "source": []
  }
 ],
 "metadata": {
  "kernelspec": {
   "display_name": "Python 3 (ipykernel)",
   "language": "python",
   "name": "python3"
  },
  "language_info": {
   "codemirror_mode": {
    "name": "ipython",
    "version": 3
   },
   "file_extension": ".py",
   "mimetype": "text/x-python",
   "name": "python",
   "nbconvert_exporter": "python",
   "pygments_lexer": "ipython3",
   "version": "3.9.16"
  }
 },
 "nbformat": 4,
 "nbformat_minor": 5
}
