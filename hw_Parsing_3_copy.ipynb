{
 "cells": [
  {
   "cell_type": "code",
   "execution_count": 1,
   "metadata": {},
   "outputs": [],
   "source": [
    "#!pip install fake_useragent"
   ]
  },
  {
   "cell_type": "code",
   "execution_count": 2,
   "metadata": {},
   "outputs": [],
   "source": [
    "import pandas as pd\n",
    "import numpy as np\n",
    "import requests\n",
    "import time\n",
    "from bs4 import BeautifulSoup\n",
    "from fake_useragent import UserAgent\n",
    "from tqdm import tqdm_notebook"
   ]
  },
  {
   "cell_type": "code",
   "execution_count": 3,
   "metadata": {},
   "outputs": [],
   "source": [
    "# подгрузим один из методов этой библиотеки\n",
    "from fake_useragent import UserAgent"
   ]
  },
  {
   "cell_type": "code",
   "execution_count": 4,
   "metadata": {},
   "outputs": [
    {
     "data": {
      "text/plain": [
       "'Mozilla/5.0 (Windows NT 10.0; Win64; x64) AppleWebKit/537.36 (KHTML, like Gecko) Chrome/113.0.0.0 Safari/537.36'"
      ]
     },
     "execution_count": 4,
     "metadata": {},
     "output_type": "execute_result"
    }
   ],
   "source": [
    "UserAgent().chrome"
   ]
  },
  {
   "cell_type": "markdown",
   "metadata": {},
   "source": [
    "## Описание задачи\n",
    "\n",
    "Парсинг сайта https://topliba.com/ с целью сбора данных (рейтинг, название фильма, описание, жанр, год выпуска) по жанру Фэнтези. Дело в том, что большинство современных книжный сайтов не предоставляют возможности делать сквозной  поиск по всем страницам, а только в рамках делений по жанрам. Наиболее представленный жанр н данном сайте - фэнтези (783 страницы поиска) по нему и будем делать парсинг. На данном сайте список фильмов подгружается динамически по страницам. Обратимся к странице Фэнтези, и запишем запрос к данной странице."
   ]
  },
  {
   "cell_type": "code",
   "execution_count": 5,
   "metadata": {},
   "outputs": [],
   "source": [
    "page_link = 'https://topliba.com/genres/12090?p=1'"
   ]
  },
  {
   "cell_type": "code",
   "execution_count": 6,
   "metadata": {},
   "outputs": [
    {
     "data": {
      "text/plain": [
       "<Response [200]>"
      ]
     },
     "execution_count": 6,
     "metadata": {},
     "output_type": "execute_result"
    }
   ],
   "source": [
    "response = requests.get(page_link, headers={'User-Agent': UserAgent().chrome})\n",
    "response"
   ]
  },
  {
   "cell_type": "code",
   "execution_count": 7,
   "metadata": {},
   "outputs": [],
   "source": [
    "html = response.content"
   ]
  },
  {
   "cell_type": "markdown",
   "metadata": {},
   "source": [
    "### Получение ссылок с фильмами\n",
    "\n",
    "С помощью библиотеки BeautifulSoup распарсим страницу и найдем ссылки к фильмам. \n",
    "Ссылки к фильмам находятся в теге div с классом discovery-grids-container."
   ]
  },
  {
   "cell_type": "code",
   "execution_count": 8,
   "metadata": {},
   "outputs": [],
   "source": [
    "soup = BeautifulSoup(response.content, 'html.parser')"
   ]
  },
  {
   "cell_type": "code",
   "execution_count": 9,
   "metadata": {},
   "outputs": [
    {
     "data": {
      "text/plain": [
       "b'<!DOCTYPE html>\\n<html lang=\"ru\">\\n    <head>\\n        <meta charset=\"utf-8\">\\n        <meta http-equiv=\"X-UA-Compatible\" content=\"IE=edge\">\\n        <meta name=\"viewport\" content=\"width=device-width, initial-scale=1\">\\n        <title>\\xd0\\xa4\\xd1\\x8d\\xd0\\xbd\\xd1\\x82\\xd0\\xb5\\xd0\\xb7\\xd0\\xb8: \\xd1\\x81\\xd0\\xba\\xd0\\xb0\\xd1\\x87\\xd0\\xb0\\xd1\\x82\\xd1\\x8c \\xd0\\xba\\xd0\\xbd\\xd0\\xb8\\xd0\\xb3\\xd0\\xb8 \\xd0\\xb2 fb2, \\xd1\\x87\\xd0\\xb8\\xd1\\x82\\xd0\\xb0\\xd1\\x82\\xd1\\x8c \\xd0\\xbe\\xd0\\xbd\\xd0\\xbb\\xd0\\xb0\\xd0\\xb9\\xd0\\xbd \\xe2\\x80\\xa2 \\xd0\\xa1\\xd1\\x82\\xd1\\x80\\xd0\\xb0\\xd0\\xbd\\xd0\\xb8\\xd1\\x86\\xd0\\xb0 1</title>\\n        <meta name=\"description\" content=\"\\xd0\\x9a\\xd0\\xbd\\xd0\\xb8\\xd0\\xb3\\xd0\\xb8 \\xd0\\xb6\\xd0\\xb0\\xd0\\xbd\\xd1\\x80\\xd0\\xb0 \\xd0\\xa4\\xd1\\x8d\\xd0\\xbd\\xd1\\x82\\xd0\\xb5\\xd0\\xb7\\xd0\\xb8 \\xd0\\xb4\\xd0\\xbe\\xd1\\x81\\xd1\\x82\\xd1\\x83\\xd0\\xbf\\xd0\\xbd\\xd1\\x8b\\xd0\\xb5 \\xd0\\xb2 \\xd1\\x84\\xd0\\xbe\\xd1\\x80\\xd0\\xbc\\xd0\\xb0\\xd1\\x82\\xd0\\xb5 fb2, \\xd0\\xb0 \\xd1\\x82\\xd0\\xb0\\xd0\\xba\\xd0\\xb6\\xd0\\xb5 \\xd0\\xb4\\xd0\\xbb\\xd1\\x8f \\xd1\\x87\\xd1\\x82\\xd0\\xb5\\xd0\\xbd\\xd0\\xb8\\xd1\\x8f \\xd0\\xbe\\xd0\\xbd\\xd0\\xbb\\xd0\\xb0\\xd0\\xb9\\xd0\\xbd \\xe2\\x80\\xa2 \\xd0\\xa1\\xd1\\x82\\xd1\\x80\\xd0\\xb0\\xd0\\xbd\\xd0\\xb8\\xd1\\x86\\xd0\\xb0 1 \\xe2\\x80\\xa2 \\xd0\\xa1\\xd0\\xbe\\xd1\\x80\\xd1\\x82\\xd0\\xb8\\xd1\\x80\\xd0\\xbe\\xd0\\xb2\\xd0\\xba\\xd0\\xb0 \\xd0\\xbf\\xd0\\xbe \\xd0\\xb4\\xd0\\xb0\\xd1\\x82\\xd0\\xb5 \\xd0\\xb4\\xd0\\xbe\\xd0\\xb1\\xd0\\xb0\\xd0\\xb2\\xd0\\xbb\\xd0\\xb5\\xd0\\xbd\\xd0\\xb8\\xd1\\x8f \\xe2\\x87\\xa3\" />\\n        <meta name=\"robots\" content=\"all\" />\\n                <link rel=\"alternate\" type=\"application/rss+xml\" title=\"RSS\" href=\"https://topliba.com/rss.xml\" />\\n        <link rel=\"apple-touch-icon\" sizes=\"180x180\" href=\"/images/apple-touch-icon.png\">\\n        <link rel=\"icon\" type=\"image/png\" sizes=\"32x32\" href=\"/images/favicon-32x32.png\">\\n        <link rel=\"icon\" type=\"image/png\" sizes=\"16x16\" href=\"/im'"
      ]
     },
     "execution_count": 9,
     "metadata": {},
     "output_type": "execute_result"
    }
   ],
   "source": [
    "response = requests.get(page_link, headers={'User-Agent': UserAgent().chrome})\n",
    "html = response.content\n",
    "html[:1000]"
   ]
  },
  {
   "cell_type": "code",
   "execution_count": 10,
   "metadata": {},
   "outputs": [
    {
     "data": {
      "text/plain": [
       "[<a class=\"book-title\" href=\"https://topliba.com/books/898208\" title=\"Скачать книгу Земная\">Земная</a>,\n",
       " <a class=\"book-title\" href=\"https://topliba.com/books/898197\" title=\"Скачать книгу Проклятая\">Проклятая</a>,\n",
       " <a class=\"book-title\" href=\"https://topliba.com/books/898032\" title=\"Скачать книгу Этот лот (не) продается!!!\">Этот лот (не) продается!!!</a>,\n",
       " <a class=\"book-title\" href=\"https://topliba.com/books/897776\" title=\"Скачать книгу Дитя солнца\">Дитя солнца</a>,\n",
       " <a class=\"book-title\" href=\"https://topliba.com/books/898031\" title=\"Скачать книгу Проклятье чёрной луны\">Проклятье чёрной луны</a>]"
      ]
     },
     "execution_count": 10,
     "metadata": {},
     "output_type": "execute_result"
    }
   ],
   "source": [
    "book_container = soup.findAll(lambda tag: tag.name == 'a' and tag.get('class') == ['book-title'])\n",
    "book_container[:5]"
   ]
  },
  {
   "cell_type": "code",
   "execution_count": 11,
   "metadata": {},
   "outputs": [
    {
     "data": {
      "text/plain": [
       "['https://topliba.com/books/898208',\n",
       " 'https://topliba.com/books/898197',\n",
       " 'https://topliba.com/books/898032',\n",
       " 'https://topliba.com/books/897776',\n",
       " 'https://topliba.com/books/898031']"
      ]
     },
     "execution_count": 11,
     "metadata": {},
     "output_type": "execute_result"
    }
   ],
   "source": [
    "# Cписок ссылок на каждую книгу со страницы\n",
    "book_links = [link.attrs['href'] for link in \n",
    "                  soup.findAll(lambda tag: tag.name == 'a' and tag.get('class') == ['book-title'])]\n",
    "book_links[:5]"
   ]
  },
  {
   "cell_type": "markdown",
   "metadata": {},
   "source": [
    "На сайте https://topliba.com/ book_links уже выводятся полностью, вместе с названием сайта, поэтому вместо ['https://topliba.com' + link.attrs['href'] for link in book_links] будем подставлять только ['link.attrs['href'] for link in book_links]"
   ]
  },
  {
   "cell_type": "code",
   "execution_count": 12,
   "metadata": {},
   "outputs": [],
   "source": [
    "def getPageLinks(page_number):\n",
    "    \"\"\"\n",
    "        Возвращает список ссылок на книги, полученный с текущей страницы\n",
    "        \n",
    "        Параметры:\n",
    "            page_number: int/string - номер страницы для парсинга            \n",
    "    \"\"\"\n",
    "    # составляем ссылку на страницу поиска\n",
    "    page_link = 'https://topliba.com/genres/12090?p={}'.format(page_number)\n",
    "    \n",
    "    # запрашиваем данные о ней\n",
    "    response = requests.get(page_link, headers={'User-Agent': UserAgent().chrome})\n",
    "        \n",
    "    if not response.ok:\n",
    "        # если сервер нам отказал, вернем пустой лист для текущей страницы\n",
    "        print('Сервер ничего не вернул')\n",
    "        return [] \n",
    "    \n",
    "    # получаем содержимое страницы и переводим в суп\n",
    "    soup = BeautifulSoup(response.content, 'html.parser')\n",
    "    \n",
    "    # ищем ссылки на книги и формируем полные ссылки\n",
    "    book_links = soup.findAll(lambda tag: tag.name == 'a' and tag.get('class') == ['book-title'])\n",
    "    book_links = [link.attrs['href'] for link in book_links]\n",
    "    \n",
    "    return book_links"
   ]
  },
  {
   "cell_type": "code",
   "execution_count": 13,
   "metadata": {},
   "outputs": [
    {
     "data": {
      "text/plain": [
       "['https://topliba.com/books/893175',\n",
       " 'https://topliba.com/books/892994',\n",
       " 'https://topliba.com/books/891273',\n",
       " 'https://topliba.com/books/891793',\n",
       " 'https://topliba.com/books/891792',\n",
       " 'https://topliba.com/books/891095',\n",
       " 'https://topliba.com/books/891044',\n",
       " 'https://topliba.com/books/890657',\n",
       " 'https://topliba.com/books/890813',\n",
       " 'https://topliba.com/books/889932',\n",
       " 'https://topliba.com/books/889824',\n",
       " 'https://topliba.com/books/889772',\n",
       " 'https://topliba.com/books/889771',\n",
       " 'https://topliba.com/books/883986',\n",
       " 'https://topliba.com/books/887325',\n",
       " 'https://topliba.com/books/883928',\n",
       " 'https://topliba.com/books/889619',\n",
       " 'https://topliba.com/books/889141',\n",
       " 'https://topliba.com/books/889278',\n",
       " 'https://topliba.com/books/889169',\n",
       " 'https://topliba.com/books/888662',\n",
       " 'https://topliba.com/books/888765',\n",
       " 'https://topliba.com/books/888636',\n",
       " 'https://topliba.com/books/888704']"
      ]
     },
     "execution_count": 13,
     "metadata": {},
     "output_type": "execute_result"
    }
   ],
   "source": [
    "book_links = getPageLinks(3)\n",
    "book_links"
   ]
  },
  {
   "cell_type": "markdown",
   "metadata": {},
   "source": [
    "### Получим информации о книге\n",
    "Обратимся к странице с фильмом Сердце Дракона. Том 2 и достанем следующую информацию:\n",
    "- Название книги.\n",
    "- Автор книги\n",
    "- Оценка книги\n",
    "- Аннотация/Описание\n",
    "- Количество читателей\n",
    "- Количество комментариев/отзывов"
   ]
  },
  {
   "cell_type": "code",
   "execution_count": 14,
   "metadata": {},
   "outputs": [],
   "source": [
    "book_page = 'https://topliba.com/books/736796'\n",
    "response = requests.get(book_page, headers={'User-Agent': UserAgent().chrome})\n",
    "\n",
    "html = response.content\n",
    "soup = BeautifulSoup(response.content, 'html.parser')"
   ]
  },
  {
   "cell_type": "markdown",
   "metadata": {},
   "source": [
    "### Получим название книги"
   ]
  },
  {
   "cell_type": "code",
   "execution_count": 15,
   "metadata": {},
   "outputs": [
    {
     "data": {
      "text/plain": [
       "<div class=\"row\">\n",
       "<div class=\"header-background\"><div style=\"background: url(https://topliba.com/covers/736796.jpg?t=1705317373)\"></div></div>\n",
       "<div class=\"col-xs-12 col-sm-3 cover\">\n",
       "<div itemscope=\"\" itemtype=\"http://schema.org/ImageObject\" style=\"position: relative\">\n",
       "<meta content=\"Лисина Александра - Щит императора\" itemprop=\"name\">\n",
       "<img alt=\"Лисина Александра - Щит императора\" itemprop=\"contentUrl\" src=\"https://topliba.com/covers/736796.jpg?t=1705317373\" title=\"Лисина Александра - Щит императора\"/>\n",
       "</meta></div>\n",
       "</div>\n",
       "<div class=\"col-xs-12 col-sm-9 book-title\">\n",
       "<h1 itemprop=\"name\">Щит императора</h1>\n",
       "<h2 class=\"book-author\" itemprop=\"author\">\n",
       "<a href=\"https://topliba.com/authors/2142\" title=\"Книги Александра Лисина\">Александра Лисина</a>\n",
       "</h2>\n",
       "</div>\n",
       "</div>"
      ]
     },
     "execution_count": 15,
     "metadata": {},
     "output_type": "execute_result"
    }
   ],
   "source": [
    "book_title = soup.find(lambda tag: tag.name == 'div' and tag.get('class') == ['row'])\n",
    "book_title"
   ]
  },
  {
   "cell_type": "markdown",
   "metadata": {},
   "source": [
    "Заголовок книги находится в теге h1, который имеет атрибут itemprop=\"name\". "
   ]
  },
  {
   "cell_type": "code",
   "execution_count": 16,
   "metadata": {},
   "outputs": [
    {
     "data": {
      "text/plain": [
       "'Щит императора'"
      ]
     },
     "execution_count": 16,
     "metadata": {},
     "output_type": "execute_result"
    }
   ],
   "source": [
    "book_title = soup.find('h1', itemprop='name').text\n",
    "book_title"
   ]
  },
  {
   "cell_type": "code",
   "execution_count": 17,
   "metadata": {},
   "outputs": [],
   "source": [
    "#book_title = soup.find(lambda tag: tag.name == 'h1') # and tag.get('itemprop') == ['name'])\n",
    "#book_title = film_title.text\n",
    "#book_title"
   ]
  },
  {
   "cell_type": "markdown",
   "metadata": {},
   "source": [
    "### Получим автора книги"
   ]
  },
  {
   "cell_type": "code",
   "execution_count": 18,
   "metadata": {},
   "outputs": [
    {
     "data": {
      "text/plain": [
       "'Александра Лисина'"
      ]
     },
     "execution_count": 18,
     "metadata": {},
     "output_type": "execute_result"
    }
   ],
   "source": [
    "book_author = soup.find(lambda tag: tag.name == 'h2' and tag.get('class') == ['book-author'])\n",
    "book_author = book_author.text.replace(\"\\n\", \"\")\n",
    "book_author"
   ]
  },
  {
   "cell_type": "markdown",
   "metadata": {},
   "source": [
    "### Получим аннотацию к книге"
   ]
  },
  {
   "cell_type": "code",
   "execution_count": 19,
   "metadata": {},
   "outputs": [
    {
     "data": {
      "text/plain": [
       "'После смерти великого императора Орриана на престол вступает его единственный сын, которому в наследство достается не только страна, но и телохранитель. Карриану не нужен такой довесок к короне, однако нарушить волю отца он не рискует. Мару тоже не нравится это решение, но приказ хозяина для него превыше собственных предпочтений. Для двух врагов подобное соседство — худшее, что только можно измыслить. Тень, не желающая оберегать нового императора, и император, ненавидящий свою тень… Казалось бы, у этих двоих нет и не может быть ничего общего. Но жизнь все расставляет по своим местам.'"
      ]
     },
     "execution_count": 19,
     "metadata": {},
     "output_type": "execute_result"
    }
   ],
   "source": [
    "book_announs = soup.find(lambda tag: tag.name == 'div' and tag.get('class') == ['description']).text\n",
    "book_announs = book_announs.strip()\n",
    "book_announs"
   ]
  },
  {
   "cell_type": "markdown",
   "metadata": {},
   "source": [
    "### Получим рейтинг книги \n",
    "\n",
    "Рейтинги книг хранятся в аттрибутах тега div class=\"col-lg-12\". Посмотрим на структуру данного тега."
   ]
  },
  {
   "cell_type": "code",
   "execution_count": 20,
   "metadata": {},
   "outputs": [
    {
     "data": {
      "text/plain": [
       "<div class=\"col-lg-12\">\n",
       "<rating _avgrating=\"4.75\" _rating=\"0\" _ratingsnumber=\"251\" _showavgrating=\"true\" _showavgratingtext=\"true\" _url=\"/books/736796/ratings\" _user=\"\" class=\"pull-left\"></rating>\n",
       "<meta content=\"1\" itemprop=\"worstRating\"/>\n",
       "<meta content=\"5\" itemprop=\"bestRating\"/>\n",
       "<meta content=\"251\" itemprop=\"ratingCount\"/>\n",
       "<meta content=\"4.75\" itemprop=\"ratingValue\"/>\n",
       "</div>"
      ]
     },
     "execution_count": 20,
     "metadata": {},
     "output_type": "execute_result"
    }
   ],
   "source": [
    "scoreboard = soup.find(lambda tag: tag.name == 'div' and tag.get('class') == ['col-lg-12'])\n",
    "scoreboard"
   ]
  },
  {
   "cell_type": "code",
   "execution_count": 21,
   "metadata": {},
   "outputs": [],
   "source": [
    "def getRating(soup, rate):\n",
    "    try:\n",
    "        obj = soup.find('rating', attrs={'class':'pull-left'})\n",
    "        obj = obj.get(rate)\n",
    "    except:\n",
    "        obj=None\n",
    "    \n",
    "    return obj"
   ]
  },
  {
   "cell_type": "code",
   "execution_count": 22,
   "metadata": {},
   "outputs": [
    {
     "data": {
      "text/plain": [
       "'4.75'"
      ]
     },
     "execution_count": 22,
     "metadata": {},
     "output_type": "execute_result"
    }
   ],
   "source": [
    "getRating(soup, '_avgrating')"
   ]
  },
  {
   "cell_type": "markdown",
   "metadata": {},
   "source": [
    "### Получим количество читателей книги и количества комментариев (отзывов)\n",
    "\n",
    "Сведения о читателях хранятся в book-readers"
   ]
  },
  {
   "cell_type": "code",
   "execution_count": 23,
   "metadata": {},
   "outputs": [
    {
     "data": {
      "text/plain": [
       "<div class=\"book-readers\">\n",
       "<div class=\"col-lg-8 col-sm-12 well-sm\">\n",
       "<div class=\"col-sm-2 col-xs-4 book-readers-status\">\n",
       "<span class=\"book-readers-status-count\">490</span>\n",
       "<span>читателей</span>\n",
       "</div>\n",
       "<div class=\"col-sm-2 col-xs-4 book-readers-status\">\n",
       "<a href=\"https://topliba.com/books/736796/impressions\">\n",
       "<span class=\"book-readers-status-count\">88</span>\n",
       "<span>отзывов</span>\n",
       "</a>\n",
       "</div>\n",
       "<div class=\"col-sm-2 col-xs-4 book-readers-status\">\n",
       "<a href=\"https://topliba.com/books/736796/quotes\">\n",
       "<span class=\"book-readers-status-count\">20</span>\n",
       "<span>цитат</span>\n",
       "</a>\n",
       "</div>\n",
       "</div>\n",
       "</div>"
      ]
     },
     "execution_count": 23,
     "metadata": {},
     "output_type": "execute_result"
    }
   ],
   "source": [
    "book_readers = soup.find(lambda tag: tag.name == 'div' and tag.get('class') == ['book-readers'])\n",
    "book_readers"
   ]
  },
  {
   "cell_type": "code",
   "execution_count": 24,
   "metadata": {},
   "outputs": [
    {
     "name": "stdout",
     "output_type": "stream",
     "text": [
      "Количество читателей: 490\n",
      "Количество отзывов: 88\n"
     ]
    }
   ],
   "source": [
    "# Находим все span элементы с классом 'book-readers-status-count'\n",
    "readers_count_elements = soup.find_all('span', class_='book-readers-status-count')\n",
    "\n",
    "film_readership_count = readers_count_elements[0].string  \n",
    "film_comment_count = readers_count_elements[1].string  \n",
    "\n",
    "print(\"Количество читателей:\", film_readership_count)\n",
    "print(\"Количество отзывов:\", film_comment_count)"
   ]
  },
  {
   "cell_type": "markdown",
   "metadata": {},
   "source": [
    "### Получение данных о жанре и годе издания"
   ]
  },
  {
   "cell_type": "code",
   "execution_count": 25,
   "metadata": {},
   "outputs": [
    {
     "data": {
      "text/plain": [
       "[<div class=\"col-lg-12\">\n",
       " <rating _avgrating=\"4.75\" _rating=\"0\" _ratingsnumber=\"251\" _showavgrating=\"true\" _showavgratingtext=\"true\" _url=\"/books/736796/ratings\" _user=\"\" class=\"pull-left\"></rating>\n",
       " <meta content=\"1\" itemprop=\"worstRating\"/>\n",
       " <meta content=\"5\" itemprop=\"bestRating\"/>\n",
       " <meta content=\"251\" itemprop=\"ratingCount\"/>\n",
       " <meta content=\"4.75\" itemprop=\"ratingValue\"/>\n",
       " </div>,\n",
       " <div class=\"col-lg-12\">\n",
       " <a href=\"https://topliba.com/genres/12090\" title=\"Книги жанра Фэнтези\">Фэнтези</a>, <a href=\"https://topliba.com/genres/12147\" title=\"Книги жанра Попаданцы\">Попаданцы</a>\n",
       " </div>,\n",
       " <div class=\"col-lg-12\">\n",
       "         Год выхода: <a href=\"https://topliba.com/years/2020\" title=\"Книги 2020 года\">2020</a>\n",
       " </div>,\n",
       " <div class=\"col-lg-12\">\n",
       "             Серия: <a href=\"https://topliba.com/series/267\" title='Книги серии \"Магия фэнтези\"'>Магия фэнтези</a>, <a href=\"https://topliba.com/series/370269\" title='Книги серии \"Слуга императора\"'>Слуга императора</a> (#2)\n",
       "         </div>,\n",
       " <div class=\"col-lg-12\">\n",
       " <a href=\"https://topliba.com/tags/%D0%BF%D0%BE%D0%BF%D0%B0%D0%B4%D0%B0%D0%BD%D0%BA%D0%B0%20%D0%B2%20%D0%B4%D0%B5%D1%82%D1%81%D0%BA%D0%BE%D0%B5%20%D1%82%D0%B5%D0%BB%D0%BE\" title='Книги по тегу \"попаданка в детское тело\"'>#попаданка в детское тело</a>, <a href=\"https://topliba.com/tags/%D0%BF%D0%BE%D0%BF%D0%B0%D0%B4%D0%B0%D0%BD%D0%BA%D0%B0%20%D0%B2%20%D1%82%D0%B5%D0%BB%D0%BE%20%D0%BC%D1%83%D0%B6%D1%87%D0%B8%D0%BD%D1%8B\" title='Книги по тегу \"попаданка в тело мужчины\"'>#попаданка в тело мужчины</a>, <a href=\"https://topliba.com/tags/%D1%81%D0%B8%D0%BB%D1%8C%D0%BD%D0%B0%D1%8F%20%D0%B3%D0%B5%D1%80%D0%BE%D0%B8%D0%BD%D1%8F\" title='Книги по тегу \"сильная героиня\"'>#сильная героиня</a>, <a href=\"https://topliba.com/tags/%D1%82%D0%B5%D0%BB%D0%BE%D1%85%D1%80%D0%B0%D0%BD%D0%B8%D1%82%D0%B5%D0%BB%D1%8C\" title='Книги по тегу \"телохранитель\"'>#телохранитель</a>\n",
       " </div>,\n",
       " <div class=\"col-lg-12\">\n",
       " <i aria-hidden=\"true\" class=\"fa fa-clock-o\"></i> примерно 350 стр., прочитаете за 35 дней (10 стр./день)\n",
       "                         </div>,\n",
       " <div class=\"col-lg-12\">\n",
       " <div class=\"emotion-rating emotion-rating_small\">\n",
       " <ul class=\"emotion-rating__list\">\n",
       " <li class=\"emotion-rating__item\" title=\"\">\n",
       " <img alt=\"Советую\" class=\"emotion-rating__img\" height=\"20\" src=\"/images/emotions/thumbsup.png\"/>\n",
       " <span class=\"emotion-rating__count\">72</span>\n",
       " </li>\n",
       " <li class=\"emotion-rating__item\" title=\"не оторваться\">\n",
       " <img alt=\"Советую\" class=\"emotion-rating__img\" height=\"20\" src=\"/images/emotions/rocket.png\"/>\n",
       " <span class=\"emotion-rating__count\">66</span>\n",
       " </li>\n",
       " <li class=\"emotion-rating__item\" title=\"до слез\">\n",
       " <img alt=\"Советую\" class=\"emotion-rating__img\" height=\"20\" src=\"/images/emotions/droplet.png\"/>\n",
       " <span class=\"emotion-rating__count\">14</span>\n",
       " </li>\n",
       " </ul>\n",
       " </div>\n",
       " </div>,\n",
       " <div class=\"col-lg-12\">\n",
       " <ul class=\"nav nav-tabs\" role=\"tablist\">\n",
       " <li class=\"active\" role=\"presentation\"><a aria-controls=\"description\" data-toggle=\"tab\" href=\"#description\" role=\"tab\">Аннотация</a></li>\n",
       " </ul>\n",
       " <div class=\"tab-content\">\n",
       " <div class=\"tab-pane fade in active\" id=\"description\" itemprop=\"description\" role=\"tabpanel\" v-pre=\"\">\n",
       " <div class=\"description\"><p>После смерти великого императора Орриана на престол вступает его единственный сын, которому в наследство достается не только страна, но и телохранитель. Карриану не нужен такой довесок к короне, однако нарушить волю отца он не рискует. Мару тоже не нравится это решение, но приказ хозяина для него превыше собственных предпочтений. Для двух врагов подобное соседство — худшее, что только можно измыслить. Тень, не желающая оберегать нового императора, и император, ненавидящий свою тень… Казалось бы, у этих двоих нет и не может быть ничего общего. Но жизнь все расставляет по своим местам.</p></div>\n",
       " </div>\n",
       " </div>\n",
       " </div>,\n",
       " <div class=\"col-lg-12\">\n",
       " <div class=\"alert-info\">\n",
       " <i class=\"fa fa-exclamation-circle\"></i>\n",
       "                 Доступен ознакомительный фрагмент\n",
       "             </div>\n",
       " <noindex>\n",
       " </noindex>\n",
       " <p></p>\n",
       " <noindex>\n",
       " <a class=\"download-btn\" href=\"https://topliba.com/books/736796/trial/fb2\" rel=\"nofollow\" title=\"Скачать книгу Лисина Александра - Щит императора (fb2)\">Скачать fb2</a>\n",
       " <a class=\"download-btn\" href=\"https://topliba.com/books/736796/trial/epub\" rel=\"nofollow\" title=\"Скачать книгу Лисина Александра - Щит императора (epub)\">Скачать epub</a>\n",
       " <a class=\"download-btn\" href=\"https://topliba.com/books/736796/full\" rel=\"nofollow\" target=\"_blank\" title=\"Скачать книгу Лисина Александра - Щит императора\">Скачать полную версию</a>\n",
       " </noindex>\n",
       " <p></p>\n",
       " <noindex>\n",
       " <div class=\"litres_fragment_body\" style=\"width: 100%; height: auto;\"></div>\n",
       " </noindex>\n",
       " </div>,\n",
       " <div class=\"col-lg-12\">\n",
       " <div class=\"book-readers\">\n",
       " <div class=\"col-lg-8 col-sm-12 well-sm\">\n",
       " <div class=\"col-sm-2 col-xs-4 book-readers-status\">\n",
       " <span class=\"book-readers-status-count\">490</span>\n",
       " <span>читателей</span>\n",
       " </div>\n",
       " <div class=\"col-sm-2 col-xs-4 book-readers-status\">\n",
       " <a href=\"https://topliba.com/books/736796/impressions\">\n",
       " <span class=\"book-readers-status-count\">88</span>\n",
       " <span>отзывов</span>\n",
       " </a>\n",
       " </div>\n",
       " <div class=\"col-sm-2 col-xs-4 book-readers-status\">\n",
       " <a href=\"https://topliba.com/books/736796/quotes\">\n",
       " <span class=\"book-readers-status-count\">20</span>\n",
       " <span>цитат</span>\n",
       " </a>\n",
       " </div>\n",
       " </div>\n",
       " </div>\n",
       " </div>,\n",
       " <div class=\"col-lg-12\">\n",
       " <div class=\"panel panel-default\">\n",
       " <div class=\"panel-body\">\n",
       " <div id=\"impression-627846-comments\"></div>\n",
       " </div>\n",
       " </div>\n",
       " </div>,\n",
       " <div class=\"col-lg-12\">\n",
       " <div class=\"panel panel-default\">\n",
       " <div class=\"panel-body\">\n",
       " <div id=\"impression-622352-comments\"></div>\n",
       " </div>\n",
       " </div>\n",
       " </div>,\n",
       " <div class=\"col-lg-12\">\n",
       " <div class=\"panel panel-default\">\n",
       " <div class=\"panel-body\">\n",
       " <div id=\"impression-606403-comments\"></div>\n",
       " </div>\n",
       " </div>\n",
       " </div>,\n",
       " <div class=\"col-lg-12\">\n",
       " <div class=\"panel panel-default\">\n",
       " <div class=\"panel-body\">\n",
       " <div id=\"impression-549366-comments\"></div>\n",
       " </div>\n",
       " </div>\n",
       " </div>,\n",
       " <div class=\"col-lg-12\">\n",
       " <div class=\"panel panel-default\">\n",
       " <div class=\"panel-body\">\n",
       " <div id=\"impression-525900-comments\"></div>\n",
       " </div>\n",
       " </div>\n",
       " </div>,\n",
       " <div class=\"col-lg-12\">\n",
       " <div class=\"panel panel-default\">\n",
       " <div class=\"panel-body\">\n",
       " <div id=\"impression-522924-comments\"></div>\n",
       " </div>\n",
       " </div>\n",
       " </div>,\n",
       " <div class=\"col-lg-12\">\n",
       " <div class=\"panel panel-default\">\n",
       " <div class=\"panel-body\">\n",
       " <div id=\"impression-515729-comments\"></div>\n",
       " </div>\n",
       " </div>\n",
       " </div>,\n",
       " <div class=\"col-lg-12\">\n",
       " <div class=\"contacts\">\n",
       " <noindex>\n",
       "                         ©2024 ТопЛиба • по всем вопросам писать на <a href=\"mailto:contact@topliba.com\" rel=\"nofollow\">contact@topliba.com</a>\n",
       " </noindex>\n",
       " </div>\n",
       " </div>]"
      ]
     },
     "execution_count": 25,
     "metadata": {},
     "output_type": "execute_result"
    }
   ],
   "source": [
    "# Находим все теги div с классом 'col-lg-12'\n",
    "search_elements = soup.find_all('div', class_='col-lg-12')\n",
    "search_elements"
   ]
  },
  {
   "cell_type": "code",
   "execution_count": 26,
   "metadata": {},
   "outputs": [
    {
     "data": {
      "text/plain": [
       "'\\ngenre = search_elements[1].text.replace(\\'\\n\\', \\'\\')  \\nyear = search_elements[2].text.replace(\\'\\n\\', \\'\\')\\n\\nprint(\"Жанры:\", genre)\\nprint(\"Год:\", year)\\n'"
      ]
     },
     "execution_count": 26,
     "metadata": {},
     "output_type": "execute_result"
    }
   ],
   "source": [
    "\"\"\"\n",
    "genre = search_elements[1].text.replace('\\n', '')  \n",
    "year = search_elements[2].text.replace('\\n', '')\n",
    "\n",
    "print(\"Жанры:\", genre)\n",
    "print(\"Год:\", year)\n",
    "\"\"\""
   ]
  },
  {
   "cell_type": "markdown",
   "metadata": {},
   "source": [
    "Запишем итоговую функцию для сбора данных по книге."
   ]
  },
  {
   "cell_type": "code",
   "execution_count": 27,
   "metadata": {},
   "outputs": [],
   "source": [
    "def getBookData(book_page):\n",
    "    book_data = pd.DataFrame(columns=['Title', 'Author', 'Description', 'Raiting', 'Readers', 'Comments'], index=[0])\n",
    "    \n",
    "    response = requests.get(book_page, headers={'User-Agent': UserAgent().chrome})\n",
    "    \n",
    "    if not response.ok:\n",
    "        # если сервер нам отказал, вернем статус ошибки \n",
    "        return response.status_code\n",
    "    \n",
    "    # получаем содержимое страницы и переводим в суп\n",
    "    soup = BeautifulSoup(response.content, 'html.parser')\n",
    "     \n",
    "    book_title = soup.find('h1', itemprop='name').text\n",
    "    book_data['Title'] = book_title  \n",
    "                \n",
    "    book_author = soup.find(lambda tag: tag.name == 'h2' and tag.get('class') == ['book-author'])\n",
    "    book_author = book_author.text.replace(\"\\n\", \"\")\n",
    "    book_data['Author'] = book_author\n",
    "    \n",
    "    book_announs = soup.find(lambda tag: tag.name == 'div' and tag.get('class') == ['description']).text\n",
    "    book_announs = book_announs.replace('\\n', '')\n",
    "    book_announs = book_announs.strip()\n",
    "    book_data['Description']= book_announs\n",
    "      \n",
    "    book_data['Raiting'] = getRating(soup=soup, rate='_avgrating')\n",
    "    \n",
    "    readers_count_elements = soup.find_all('span', class_='book-readers-status-count')\n",
    "\n",
    "    book_readership_count = readers_count_elements[0].string  \n",
    "    book_data['Readers'] = book_readership_count\n",
    "    \n",
    "    book_comment_count = readers_count_elements[1].string  \n",
    "    book_data['Comments'] = book_comment_count\n",
    "    \n",
    "    #search_elements = soup.find_all('div', class_='col-lg-12')\n",
    "    #genre = search_elements[1].text\n",
    "    #book_data['Genre']=genre\n",
    "    \n",
    "    return book_data"
   ]
  },
  {
   "cell_type": "code",
   "execution_count": 28,
   "metadata": {},
   "outputs": [
    {
     "data": {
      "text/html": [
       "<div>\n",
       "<style scoped>\n",
       "    .dataframe tbody tr th:only-of-type {\n",
       "        vertical-align: middle;\n",
       "    }\n",
       "\n",
       "    .dataframe tbody tr th {\n",
       "        vertical-align: top;\n",
       "    }\n",
       "\n",
       "    .dataframe thead th {\n",
       "        text-align: right;\n",
       "    }\n",
       "</style>\n",
       "<table border=\"1\" class=\"dataframe\">\n",
       "  <thead>\n",
       "    <tr style=\"text-align: right;\">\n",
       "      <th></th>\n",
       "      <th>Title</th>\n",
       "      <th>Author</th>\n",
       "      <th>Description</th>\n",
       "      <th>Raiting</th>\n",
       "      <th>Readers</th>\n",
       "      <th>Comments</th>\n",
       "    </tr>\n",
       "  </thead>\n",
       "  <tbody>\n",
       "    <tr>\n",
       "      <th>0</th>\n",
       "      <td>Щит императора</td>\n",
       "      <td>Александра Лисина</td>\n",
       "      <td>После смерти великого императора Орриана на пр...</td>\n",
       "      <td>4.75</td>\n",
       "      <td>490</td>\n",
       "      <td>88</td>\n",
       "    </tr>\n",
       "  </tbody>\n",
       "</table>\n",
       "</div>"
      ],
      "text/plain": [
       "            Title             Author  \\\n",
       "0  Щит императора  Александра Лисина   \n",
       "\n",
       "                                         Description Raiting Readers Comments  \n",
       "0  После смерти великого императора Орриана на пр...    4.75     490       88  "
      ]
     },
     "execution_count": 28,
     "metadata": {},
     "output_type": "execute_result"
    }
   ],
   "source": [
    "getBookData('https://topliba.com/books/736796')"
   ]
  },
  {
   "cell_type": "code",
   "execution_count": 29,
   "metadata": {},
   "outputs": [
    {
     "data": {
      "text/plain": [
       "'\\ndef getBookData(film_page):\\n    book_data = pd.DataFrame(columns=[\\'Title\\', \\'Author\\', \\'Description\\', \\'Raiting\\', \\'Readers\\', \\'Comments\\'], index=[0])\\n    \\n    response = requests.get(book_page, headers={\\'User-Agent\\': UserAgent().chrome})\\n    \\n    if not response.ok:\\n        return response.status_code\\n    \\n    soup = BeautifulSoup(response.content, \\'html.parser\\')\\n    \\n    book_title = soup.find(\\'h1\\', itemprop=\\'name\\').text\\n    book_data.at[0, \\'Title\\'] = film_title  # Измененная строка\\n    \\n    film_author = soup.find(\\'h2\\', class_=\\'book-author\\').text.replace(\"\\n\", \"\")\\n    film_data.at[0, \\'Author\\'] = film_author\\n    \\n    book_announs = soup.find(\\'div\\', class_=\\'description\\').text.replace(\\'\\n\\', \\'\\').strip()\\n    book_data.at[0, \\'Description\\'] = book_announs\\n    \\n    book_data.at[0, \\'Raiting\\'] = getRating(soup=soup, rate=\\'_avgrating\\')\\n    \\n    readers_count_elements = soup.find_all(\\'span\\', class_=\\'book-readers-status-count\\')\\n\\n    book_readership_count = readers_count_elements[0].string  \\n    book_data.at[0, \\'Readers\\'] = book_readership_count\\n    \\n    book_comment_count = readers_count_elements[1].string  \\n    book_data.at[0, \\'Comments\\'] = book_comment_count\\n         \\n    return book_data\\n\\ngetBookData(\\'https://topliba.com/books/736796\\')\\n'"
      ]
     },
     "execution_count": 29,
     "metadata": {},
     "output_type": "execute_result"
    }
   ],
   "source": [
    "\"\"\"\n",
    "def getBookData(film_page):\n",
    "    book_data = pd.DataFrame(columns=['Title', 'Author', 'Description', 'Raiting', 'Readers', 'Comments'], index=[0])\n",
    "    \n",
    "    response = requests.get(book_page, headers={'User-Agent': UserAgent().chrome})\n",
    "    \n",
    "    if not response.ok:\n",
    "        return response.status_code\n",
    "    \n",
    "    soup = BeautifulSoup(response.content, 'html.parser')\n",
    "    \n",
    "    book_title = soup.find('h1', itemprop='name').text\n",
    "    book_data.at[0, 'Title'] = film_title  # Измененная строка\n",
    "    \n",
    "    film_author = soup.find('h2', class_='book-author').text.replace(\"\\n\", \"\")\n",
    "    film_data.at[0, 'Author'] = film_author\n",
    "    \n",
    "    book_announs = soup.find('div', class_='description').text.replace('\\n', '').strip()\n",
    "    book_data.at[0, 'Description'] = book_announs\n",
    "    \n",
    "    book_data.at[0, 'Raiting'] = getRating(soup=soup, rate='_avgrating')\n",
    "    \n",
    "    readers_count_elements = soup.find_all('span', class_='book-readers-status-count')\n",
    "\n",
    "    book_readership_count = readers_count_elements[0].string  \n",
    "    book_data.at[0, 'Readers'] = book_readership_count\n",
    "    \n",
    "    book_comment_count = readers_count_elements[1].string  \n",
    "    book_data.at[0, 'Comments'] = book_comment_count\n",
    "         \n",
    "    return book_data\n",
    "\n",
    "getBookData('https://topliba.com/books/736796')\n",
    "\"\"\""
   ]
  },
  {
   "cell_type": "markdown",
   "metadata": {},
   "source": [
    "## Получение информации по всем книгам"
   ]
  },
  {
   "cell_type": "markdown",
   "metadata": {},
   "source": [
    "Соберем информацию по всем книгам. Cоздадим пустой датафрейм, в который мы будем добавлять информацию по каждой книге."
   ]
  },
  {
   "cell_type": "code",
   "execution_count": 30,
   "metadata": {},
   "outputs": [],
   "source": [
    "final_df = pd.DataFrame(columns=['Title', 'Author', 'Description', 'Raiting', 'Readers', 'Comments'])"
   ]
  },
  {
   "cell_type": "code",
   "execution_count": 31,
   "metadata": {},
   "outputs": [
    {
     "data": {
      "text/html": [
       "<div>\n",
       "<style scoped>\n",
       "    .dataframe tbody tr th:only-of-type {\n",
       "        vertical-align: middle;\n",
       "    }\n",
       "\n",
       "    .dataframe tbody tr th {\n",
       "        vertical-align: top;\n",
       "    }\n",
       "\n",
       "    .dataframe thead th {\n",
       "        text-align: right;\n",
       "    }\n",
       "</style>\n",
       "<table border=\"1\" class=\"dataframe\">\n",
       "  <thead>\n",
       "    <tr style=\"text-align: right;\">\n",
       "      <th></th>\n",
       "      <th>Title</th>\n",
       "      <th>Author</th>\n",
       "      <th>Description</th>\n",
       "      <th>Raiting</th>\n",
       "      <th>Readers</th>\n",
       "      <th>Comments</th>\n",
       "    </tr>\n",
       "  </thead>\n",
       "  <tbody>\n",
       "  </tbody>\n",
       "</table>\n",
       "</div>"
      ],
      "text/plain": [
       "Empty DataFrame\n",
       "Columns: [Title, Author, Description, Raiting, Readers, Comments]\n",
       "Index: []"
      ]
     },
     "execution_count": 31,
     "metadata": {},
     "output_type": "execute_result"
    }
   ],
   "source": [
    "final_df.head()"
   ]
  },
  {
   "cell_type": "markdown",
   "metadata": {},
   "source": [
    "Проверка работы getPageLinks()"
   ]
  },
  {
   "cell_type": "code",
   "execution_count": 32,
   "metadata": {},
   "outputs": [
    {
     "name": "stdout",
     "output_type": "stream",
     "text": [
      "['https://topliba.com/genres/12090?p=1', 'https://topliba.com/genres/12090?p=2', 'https://topliba.com/genres/12090?p=3', 'https://topliba.com/genres/12090?p=4', 'https://topliba.com/genres/12090?p=5', 'https://topliba.com/genres/12090?p=6', 'https://topliba.com/genres/12090?p=7', 'https://topliba.com/genres/12090?p=8', 'https://topliba.com/genres/12090?p=9', 'https://topliba.com/genres/12090?p=10', 'https://topliba.com/genres/12090?p=11', 'https://topliba.com/genres/12090?p=12', 'https://topliba.com/genres/12090?p=13', 'https://topliba.com/genres/12090?p=14', 'https://topliba.com/genres/12090?p=15', 'https://topliba.com/genres/12090?p=16', 'https://topliba.com/genres/12090?p=17', 'https://topliba.com/genres/12090?p=18', 'https://topliba.com/genres/12090?p=19', 'https://topliba.com/genres/12090?p=20', 'https://topliba.com/genres/12090?p=21', 'https://topliba.com/genres/12090?p=22', 'https://topliba.com/genres/12090?p=23', 'https://topliba.com/genres/12090?p=24', 'https://topliba.com/genres/12090?p=25', 'https://topliba.com/genres/12090?p=26', 'https://topliba.com/genres/12090?p=27', 'https://topliba.com/genres/12090?p=28', 'https://topliba.com/genres/12090?p=29', 'https://topliba.com/genres/12090?p=30', 'https://topliba.com/genres/12090?p=31', 'https://topliba.com/genres/12090?p=32', 'https://topliba.com/genres/12090?p=33', 'https://topliba.com/genres/12090?p=34', 'https://topliba.com/genres/12090?p=35', 'https://topliba.com/genres/12090?p=36', 'https://topliba.com/genres/12090?p=37', 'https://topliba.com/genres/12090?p=38', 'https://topliba.com/genres/12090?p=39', 'https://topliba.com/genres/12090?p=40', 'https://topliba.com/genres/12090?p=41', 'https://topliba.com/genres/12090?p=42', 'https://topliba.com/genres/12090?p=43', 'https://topliba.com/genres/12090?p=44', 'https://topliba.com/genres/12090?p=45', 'https://topliba.com/genres/12090?p=46', 'https://topliba.com/genres/12090?p=47', 'https://topliba.com/genres/12090?p=48', 'https://topliba.com/genres/12090?p=49', 'https://topliba.com/genres/12090?p=50', 'https://topliba.com/genres/12090?p=51', 'https://topliba.com/genres/12090?p=52', 'https://topliba.com/genres/12090?p=53', 'https://topliba.com/genres/12090?p=54', 'https://topliba.com/genres/12090?p=55', 'https://topliba.com/genres/12090?p=56', 'https://topliba.com/genres/12090?p=57', 'https://topliba.com/genres/12090?p=58', 'https://topliba.com/genres/12090?p=59', 'https://topliba.com/genres/12090?p=60', 'https://topliba.com/genres/12090?p=61', 'https://topliba.com/genres/12090?p=62', 'https://topliba.com/genres/12090?p=63', 'https://topliba.com/genres/12090?p=64', 'https://topliba.com/genres/12090?p=65', 'https://topliba.com/genres/12090?p=66', 'https://topliba.com/genres/12090?p=67', 'https://topliba.com/genres/12090?p=68', 'https://topliba.com/genres/12090?p=69', 'https://topliba.com/genres/12090?p=70', 'https://topliba.com/genres/12090?p=71', 'https://topliba.com/genres/12090?p=72', 'https://topliba.com/genres/12090?p=73', 'https://topliba.com/genres/12090?p=74', 'https://topliba.com/genres/12090?p=75', 'https://topliba.com/genres/12090?p=76', 'https://topliba.com/genres/12090?p=77', 'https://topliba.com/genres/12090?p=78', 'https://topliba.com/genres/12090?p=79', 'https://topliba.com/genres/12090?p=80', 'https://topliba.com/genres/12090?p=81', 'https://topliba.com/genres/12090?p=82', 'https://topliba.com/genres/12090?p=83', 'https://topliba.com/genres/12090?p=84', 'https://topliba.com/genres/12090?p=85', 'https://topliba.com/genres/12090?p=86', 'https://topliba.com/genres/12090?p=87', 'https://topliba.com/genres/12090?p=88', 'https://topliba.com/genres/12090?p=89', 'https://topliba.com/genres/12090?p=90', 'https://topliba.com/genres/12090?p=91', 'https://topliba.com/genres/12090?p=92', 'https://topliba.com/genres/12090?p=93', 'https://topliba.com/genres/12090?p=94', 'https://topliba.com/genres/12090?p=95', 'https://topliba.com/genres/12090?p=96', 'https://topliba.com/genres/12090?p=97', 'https://topliba.com/genres/12090?p=98', 'https://topliba.com/genres/12090?p=99', 'https://topliba.com/genres/12090?p=100', 'https://topliba.com/genres/12090?p=101', 'https://topliba.com/genres/12090?p=102', 'https://topliba.com/genres/12090?p=103', 'https://topliba.com/genres/12090?p=104', 'https://topliba.com/genres/12090?p=105', 'https://topliba.com/genres/12090?p=106', 'https://topliba.com/genres/12090?p=107', 'https://topliba.com/genres/12090?p=108', 'https://topliba.com/genres/12090?p=109', 'https://topliba.com/genres/12090?p=110', 'https://topliba.com/genres/12090?p=111', 'https://topliba.com/genres/12090?p=112', 'https://topliba.com/genres/12090?p=113', 'https://topliba.com/genres/12090?p=114', 'https://topliba.com/genres/12090?p=115', 'https://topliba.com/genres/12090?p=116', 'https://topliba.com/genres/12090?p=117', 'https://topliba.com/genres/12090?p=118', 'https://topliba.com/genres/12090?p=119', 'https://topliba.com/genres/12090?p=120', 'https://topliba.com/genres/12090?p=121', 'https://topliba.com/genres/12090?p=122', 'https://topliba.com/genres/12090?p=123', 'https://topliba.com/genres/12090?p=124', 'https://topliba.com/genres/12090?p=125', 'https://topliba.com/genres/12090?p=126', 'https://topliba.com/genres/12090?p=127', 'https://topliba.com/genres/12090?p=128', 'https://topliba.com/genres/12090?p=129', 'https://topliba.com/genres/12090?p=130', 'https://topliba.com/genres/12090?p=131', 'https://topliba.com/genres/12090?p=132', 'https://topliba.com/genres/12090?p=133', 'https://topliba.com/genres/12090?p=134', 'https://topliba.com/genres/12090?p=135', 'https://topliba.com/genres/12090?p=136', 'https://topliba.com/genres/12090?p=137', 'https://topliba.com/genres/12090?p=138', 'https://topliba.com/genres/12090?p=139', 'https://topliba.com/genres/12090?p=140', 'https://topliba.com/genres/12090?p=141', 'https://topliba.com/genres/12090?p=142', 'https://topliba.com/genres/12090?p=143', 'https://topliba.com/genres/12090?p=144', 'https://topliba.com/genres/12090?p=145', 'https://topliba.com/genres/12090?p=146', 'https://topliba.com/genres/12090?p=147', 'https://topliba.com/genres/12090?p=148', 'https://topliba.com/genres/12090?p=149', 'https://topliba.com/genres/12090?p=150', 'https://topliba.com/genres/12090?p=151', 'https://topliba.com/genres/12090?p=152', 'https://topliba.com/genres/12090?p=153', 'https://topliba.com/genres/12090?p=154', 'https://topliba.com/genres/12090?p=155', 'https://topliba.com/genres/12090?p=156', 'https://topliba.com/genres/12090?p=157', 'https://topliba.com/genres/12090?p=158', 'https://topliba.com/genres/12090?p=159', 'https://topliba.com/genres/12090?p=160', 'https://topliba.com/genres/12090?p=161', 'https://topliba.com/genres/12090?p=162', 'https://topliba.com/genres/12090?p=163', 'https://topliba.com/genres/12090?p=164', 'https://topliba.com/genres/12090?p=165', 'https://topliba.com/genres/12090?p=166', 'https://topliba.com/genres/12090?p=167', 'https://topliba.com/genres/12090?p=168', 'https://topliba.com/genres/12090?p=169', 'https://topliba.com/genres/12090?p=170', 'https://topliba.com/genres/12090?p=171', 'https://topliba.com/genres/12090?p=172', 'https://topliba.com/genres/12090?p=173', 'https://topliba.com/genres/12090?p=174', 'https://topliba.com/genres/12090?p=175', 'https://topliba.com/genres/12090?p=176', 'https://topliba.com/genres/12090?p=177', 'https://topliba.com/genres/12090?p=178', 'https://topliba.com/genres/12090?p=179', 'https://topliba.com/genres/12090?p=180', 'https://topliba.com/genres/12090?p=181', 'https://topliba.com/genres/12090?p=182', 'https://topliba.com/genres/12090?p=183', 'https://topliba.com/genres/12090?p=184', 'https://topliba.com/genres/12090?p=185', 'https://topliba.com/genres/12090?p=186', 'https://topliba.com/genres/12090?p=187', 'https://topliba.com/genres/12090?p=188', 'https://topliba.com/genres/12090?p=189', 'https://topliba.com/genres/12090?p=190', 'https://topliba.com/genres/12090?p=191', 'https://topliba.com/genres/12090?p=192', 'https://topliba.com/genres/12090?p=193', 'https://topliba.com/genres/12090?p=194', 'https://topliba.com/genres/12090?p=195', 'https://topliba.com/genres/12090?p=196', 'https://topliba.com/genres/12090?p=197', 'https://topliba.com/genres/12090?p=198', 'https://topliba.com/genres/12090?p=199', 'https://topliba.com/genres/12090?p=200', 'https://topliba.com/genres/12090?p=201', 'https://topliba.com/genres/12090?p=202', 'https://topliba.com/genres/12090?p=203', 'https://topliba.com/genres/12090?p=204', 'https://topliba.com/genres/12090?p=205', 'https://topliba.com/genres/12090?p=206', 'https://topliba.com/genres/12090?p=207', 'https://topliba.com/genres/12090?p=208', 'https://topliba.com/genres/12090?p=209', 'https://topliba.com/genres/12090?p=210', 'https://topliba.com/genres/12090?p=211', 'https://topliba.com/genres/12090?p=212', 'https://topliba.com/genres/12090?p=213', 'https://topliba.com/genres/12090?p=214', 'https://topliba.com/genres/12090?p=215', 'https://topliba.com/genres/12090?p=216', 'https://topliba.com/genres/12090?p=217', 'https://topliba.com/genres/12090?p=218', 'https://topliba.com/genres/12090?p=219', 'https://topliba.com/genres/12090?p=220', 'https://topliba.com/genres/12090?p=221', 'https://topliba.com/genres/12090?p=222', 'https://topliba.com/genres/12090?p=223', 'https://topliba.com/genres/12090?p=224', 'https://topliba.com/genres/12090?p=225', 'https://topliba.com/genres/12090?p=226', 'https://topliba.com/genres/12090?p=227', 'https://topliba.com/genres/12090?p=228', 'https://topliba.com/genres/12090?p=229', 'https://topliba.com/genres/12090?p=230', 'https://topliba.com/genres/12090?p=231', 'https://topliba.com/genres/12090?p=232', 'https://topliba.com/genres/12090?p=233', 'https://topliba.com/genres/12090?p=234', 'https://topliba.com/genres/12090?p=235', 'https://topliba.com/genres/12090?p=236', 'https://topliba.com/genres/12090?p=237', 'https://topliba.com/genres/12090?p=238', 'https://topliba.com/genres/12090?p=239', 'https://topliba.com/genres/12090?p=240', 'https://topliba.com/genres/12090?p=241', 'https://topliba.com/genres/12090?p=242', 'https://topliba.com/genres/12090?p=243', 'https://topliba.com/genres/12090?p=244', 'https://topliba.com/genres/12090?p=245', 'https://topliba.com/genres/12090?p=246', 'https://topliba.com/genres/12090?p=247', 'https://topliba.com/genres/12090?p=248', 'https://topliba.com/genres/12090?p=249', 'https://topliba.com/genres/12090?p=250', 'https://topliba.com/genres/12090?p=251', 'https://topliba.com/genres/12090?p=252', 'https://topliba.com/genres/12090?p=253', 'https://topliba.com/genres/12090?p=254', 'https://topliba.com/genres/12090?p=255', 'https://topliba.com/genres/12090?p=256', 'https://topliba.com/genres/12090?p=257', 'https://topliba.com/genres/12090?p=258', 'https://topliba.com/genres/12090?p=259', 'https://topliba.com/genres/12090?p=260', 'https://topliba.com/genres/12090?p=261', 'https://topliba.com/genres/12090?p=262', 'https://topliba.com/genres/12090?p=263', 'https://topliba.com/genres/12090?p=264', 'https://topliba.com/genres/12090?p=265', 'https://topliba.com/genres/12090?p=266', 'https://topliba.com/genres/12090?p=267', 'https://topliba.com/genres/12090?p=268', 'https://topliba.com/genres/12090?p=269', 'https://topliba.com/genres/12090?p=270', 'https://topliba.com/genres/12090?p=271', 'https://topliba.com/genres/12090?p=272', 'https://topliba.com/genres/12090?p=273', 'https://topliba.com/genres/12090?p=274', 'https://topliba.com/genres/12090?p=275', 'https://topliba.com/genres/12090?p=276', 'https://topliba.com/genres/12090?p=277', 'https://topliba.com/genres/12090?p=278', 'https://topliba.com/genres/12090?p=279', 'https://topliba.com/genres/12090?p=280', 'https://topliba.com/genres/12090?p=281', 'https://topliba.com/genres/12090?p=282', 'https://topliba.com/genres/12090?p=283', 'https://topliba.com/genres/12090?p=284', 'https://topliba.com/genres/12090?p=285', 'https://topliba.com/genres/12090?p=286', 'https://topliba.com/genres/12090?p=287', 'https://topliba.com/genres/12090?p=288', 'https://topliba.com/genres/12090?p=289', 'https://topliba.com/genres/12090?p=290', 'https://topliba.com/genres/12090?p=291', 'https://topliba.com/genres/12090?p=292', 'https://topliba.com/genres/12090?p=293', 'https://topliba.com/genres/12090?p=294', 'https://topliba.com/genres/12090?p=295', 'https://topliba.com/genres/12090?p=296', 'https://topliba.com/genres/12090?p=297', 'https://topliba.com/genres/12090?p=298', 'https://topliba.com/genres/12090?p=299', 'https://topliba.com/genres/12090?p=300', 'https://topliba.com/genres/12090?p=301', 'https://topliba.com/genres/12090?p=302', 'https://topliba.com/genres/12090?p=303', 'https://topliba.com/genres/12090?p=304', 'https://topliba.com/genres/12090?p=305', 'https://topliba.com/genres/12090?p=306', 'https://topliba.com/genres/12090?p=307', 'https://topliba.com/genres/12090?p=308', 'https://topliba.com/genres/12090?p=309', 'https://topliba.com/genres/12090?p=310', 'https://topliba.com/genres/12090?p=311', 'https://topliba.com/genres/12090?p=312', 'https://topliba.com/genres/12090?p=313', 'https://topliba.com/genres/12090?p=314', 'https://topliba.com/genres/12090?p=315', 'https://topliba.com/genres/12090?p=316', 'https://topliba.com/genres/12090?p=317', 'https://topliba.com/genres/12090?p=318', 'https://topliba.com/genres/12090?p=319', 'https://topliba.com/genres/12090?p=320', 'https://topliba.com/genres/12090?p=321', 'https://topliba.com/genres/12090?p=322', 'https://topliba.com/genres/12090?p=323', 'https://topliba.com/genres/12090?p=324', 'https://topliba.com/genres/12090?p=325', 'https://topliba.com/genres/12090?p=326', 'https://topliba.com/genres/12090?p=327', 'https://topliba.com/genres/12090?p=328', 'https://topliba.com/genres/12090?p=329', 'https://topliba.com/genres/12090?p=330', 'https://topliba.com/genres/12090?p=331', 'https://topliba.com/genres/12090?p=332', 'https://topliba.com/genres/12090?p=333', 'https://topliba.com/genres/12090?p=334', 'https://topliba.com/genres/12090?p=335', 'https://topliba.com/genres/12090?p=336', 'https://topliba.com/genres/12090?p=337', 'https://topliba.com/genres/12090?p=338', 'https://topliba.com/genres/12090?p=339', 'https://topliba.com/genres/12090?p=340', 'https://topliba.com/genres/12090?p=341', 'https://topliba.com/genres/12090?p=342', 'https://topliba.com/genres/12090?p=343', 'https://topliba.com/genres/12090?p=344', 'https://topliba.com/genres/12090?p=345', 'https://topliba.com/genres/12090?p=346', 'https://topliba.com/genres/12090?p=347', 'https://topliba.com/genres/12090?p=348', 'https://topliba.com/genres/12090?p=349', 'https://topliba.com/genres/12090?p=350', 'https://topliba.com/genres/12090?p=351', 'https://topliba.com/genres/12090?p=352', 'https://topliba.com/genres/12090?p=353', 'https://topliba.com/genres/12090?p=354', 'https://topliba.com/genres/12090?p=355', 'https://topliba.com/genres/12090?p=356', 'https://topliba.com/genres/12090?p=357', 'https://topliba.com/genres/12090?p=358', 'https://topliba.com/genres/12090?p=359', 'https://topliba.com/genres/12090?p=360', 'https://topliba.com/genres/12090?p=361', 'https://topliba.com/genres/12090?p=362', 'https://topliba.com/genres/12090?p=363', 'https://topliba.com/genres/12090?p=364', 'https://topliba.com/genres/12090?p=365', 'https://topliba.com/genres/12090?p=366', 'https://topliba.com/genres/12090?p=367', 'https://topliba.com/genres/12090?p=368', 'https://topliba.com/genres/12090?p=369', 'https://topliba.com/genres/12090?p=370', 'https://topliba.com/genres/12090?p=371', 'https://topliba.com/genres/12090?p=372', 'https://topliba.com/genres/12090?p=373', 'https://topliba.com/genres/12090?p=374', 'https://topliba.com/genres/12090?p=375', 'https://topliba.com/genres/12090?p=376', 'https://topliba.com/genres/12090?p=377', 'https://topliba.com/genres/12090?p=378', 'https://topliba.com/genres/12090?p=379', 'https://topliba.com/genres/12090?p=380', 'https://topliba.com/genres/12090?p=381', 'https://topliba.com/genres/12090?p=382', 'https://topliba.com/genres/12090?p=383', 'https://topliba.com/genres/12090?p=384', 'https://topliba.com/genres/12090?p=385', 'https://topliba.com/genres/12090?p=386', 'https://topliba.com/genres/12090?p=387', 'https://topliba.com/genres/12090?p=388', 'https://topliba.com/genres/12090?p=389', 'https://topliba.com/genres/12090?p=390', 'https://topliba.com/genres/12090?p=391', 'https://topliba.com/genres/12090?p=392', 'https://topliba.com/genres/12090?p=393', 'https://topliba.com/genres/12090?p=394', 'https://topliba.com/genres/12090?p=395', 'https://topliba.com/genres/12090?p=396', 'https://topliba.com/genres/12090?p=397', 'https://topliba.com/genres/12090?p=398', 'https://topliba.com/genres/12090?p=399', 'https://topliba.com/genres/12090?p=400', 'https://topliba.com/genres/12090?p=401', 'https://topliba.com/genres/12090?p=402', 'https://topliba.com/genres/12090?p=403', 'https://topliba.com/genres/12090?p=404', 'https://topliba.com/genres/12090?p=405', 'https://topliba.com/genres/12090?p=406', 'https://topliba.com/genres/12090?p=407', 'https://topliba.com/genres/12090?p=408', 'https://topliba.com/genres/12090?p=409', 'https://topliba.com/genres/12090?p=410', 'https://topliba.com/genres/12090?p=411', 'https://topliba.com/genres/12090?p=412', 'https://topliba.com/genres/12090?p=413', 'https://topliba.com/genres/12090?p=414', 'https://topliba.com/genres/12090?p=415', 'https://topliba.com/genres/12090?p=416', 'https://topliba.com/genres/12090?p=417', 'https://topliba.com/genres/12090?p=418', 'https://topliba.com/genres/12090?p=419', 'https://topliba.com/genres/12090?p=420', 'https://topliba.com/genres/12090?p=421', 'https://topliba.com/genres/12090?p=422', 'https://topliba.com/genres/12090?p=423', 'https://topliba.com/genres/12090?p=424', 'https://topliba.com/genres/12090?p=425', 'https://topliba.com/genres/12090?p=426', 'https://topliba.com/genres/12090?p=427', 'https://topliba.com/genres/12090?p=428', 'https://topliba.com/genres/12090?p=429', 'https://topliba.com/genres/12090?p=430', 'https://topliba.com/genres/12090?p=431', 'https://topliba.com/genres/12090?p=432', 'https://topliba.com/genres/12090?p=433', 'https://topliba.com/genres/12090?p=434', 'https://topliba.com/genres/12090?p=435', 'https://topliba.com/genres/12090?p=436', 'https://topliba.com/genres/12090?p=437', 'https://topliba.com/genres/12090?p=438', 'https://topliba.com/genres/12090?p=439', 'https://topliba.com/genres/12090?p=440', 'https://topliba.com/genres/12090?p=441', 'https://topliba.com/genres/12090?p=442', 'https://topliba.com/genres/12090?p=443', 'https://topliba.com/genres/12090?p=444', 'https://topliba.com/genres/12090?p=445', 'https://topliba.com/genres/12090?p=446', 'https://topliba.com/genres/12090?p=447', 'https://topliba.com/genres/12090?p=448', 'https://topliba.com/genres/12090?p=449', 'https://topliba.com/genres/12090?p=450', 'https://topliba.com/genres/12090?p=451', 'https://topliba.com/genres/12090?p=452', 'https://topliba.com/genres/12090?p=453', 'https://topliba.com/genres/12090?p=454', 'https://topliba.com/genres/12090?p=455', 'https://topliba.com/genres/12090?p=456', 'https://topliba.com/genres/12090?p=457', 'https://topliba.com/genres/12090?p=458', 'https://topliba.com/genres/12090?p=459', 'https://topliba.com/genres/12090?p=460', 'https://topliba.com/genres/12090?p=461', 'https://topliba.com/genres/12090?p=462', 'https://topliba.com/genres/12090?p=463', 'https://topliba.com/genres/12090?p=464', 'https://topliba.com/genres/12090?p=465', 'https://topliba.com/genres/12090?p=466', 'https://topliba.com/genres/12090?p=467', 'https://topliba.com/genres/12090?p=468', 'https://topliba.com/genres/12090?p=469', 'https://topliba.com/genres/12090?p=470', 'https://topliba.com/genres/12090?p=471', 'https://topliba.com/genres/12090?p=472', 'https://topliba.com/genres/12090?p=473', 'https://topliba.com/genres/12090?p=474', 'https://topliba.com/genres/12090?p=475', 'https://topliba.com/genres/12090?p=476', 'https://topliba.com/genres/12090?p=477', 'https://topliba.com/genres/12090?p=478', 'https://topliba.com/genres/12090?p=479', 'https://topliba.com/genres/12090?p=480', 'https://topliba.com/genres/12090?p=481', 'https://topliba.com/genres/12090?p=482', 'https://topliba.com/genres/12090?p=483', 'https://topliba.com/genres/12090?p=484', 'https://topliba.com/genres/12090?p=485', 'https://topliba.com/genres/12090?p=486', 'https://topliba.com/genres/12090?p=487', 'https://topliba.com/genres/12090?p=488', 'https://topliba.com/genres/12090?p=489', 'https://topliba.com/genres/12090?p=490', 'https://topliba.com/genres/12090?p=491', 'https://topliba.com/genres/12090?p=492', 'https://topliba.com/genres/12090?p=493', 'https://topliba.com/genres/12090?p=494', 'https://topliba.com/genres/12090?p=495', 'https://topliba.com/genres/12090?p=496', 'https://topliba.com/genres/12090?p=497', 'https://topliba.com/genres/12090?p=498', 'https://topliba.com/genres/12090?p=499', 'https://topliba.com/genres/12090?p=500', 'https://topliba.com/genres/12090?p=501', 'https://topliba.com/genres/12090?p=502', 'https://topliba.com/genres/12090?p=503', 'https://topliba.com/genres/12090?p=504', 'https://topliba.com/genres/12090?p=505', 'https://topliba.com/genres/12090?p=506', 'https://topliba.com/genres/12090?p=507', 'https://topliba.com/genres/12090?p=508', 'https://topliba.com/genres/12090?p=509', 'https://topliba.com/genres/12090?p=510', 'https://topliba.com/genres/12090?p=511', 'https://topliba.com/genres/12090?p=512', 'https://topliba.com/genres/12090?p=513', 'https://topliba.com/genres/12090?p=514', 'https://topliba.com/genres/12090?p=515', 'https://topliba.com/genres/12090?p=516', 'https://topliba.com/genres/12090?p=517', 'https://topliba.com/genres/12090?p=518', 'https://topliba.com/genres/12090?p=519', 'https://topliba.com/genres/12090?p=520', 'https://topliba.com/genres/12090?p=521', 'https://topliba.com/genres/12090?p=522', 'https://topliba.com/genres/12090?p=523', 'https://topliba.com/genres/12090?p=524', 'https://topliba.com/genres/12090?p=525', 'https://topliba.com/genres/12090?p=526', 'https://topliba.com/genres/12090?p=527', 'https://topliba.com/genres/12090?p=528', 'https://topliba.com/genres/12090?p=529', 'https://topliba.com/genres/12090?p=530', 'https://topliba.com/genres/12090?p=531', 'https://topliba.com/genres/12090?p=532', 'https://topliba.com/genres/12090?p=533', 'https://topliba.com/genres/12090?p=534', 'https://topliba.com/genres/12090?p=535', 'https://topliba.com/genres/12090?p=536', 'https://topliba.com/genres/12090?p=537', 'https://topliba.com/genres/12090?p=538', 'https://topliba.com/genres/12090?p=539', 'https://topliba.com/genres/12090?p=540', 'https://topliba.com/genres/12090?p=541', 'https://topliba.com/genres/12090?p=542', 'https://topliba.com/genres/12090?p=543', 'https://topliba.com/genres/12090?p=544', 'https://topliba.com/genres/12090?p=545', 'https://topliba.com/genres/12090?p=546', 'https://topliba.com/genres/12090?p=547', 'https://topliba.com/genres/12090?p=548', 'https://topliba.com/genres/12090?p=549', 'https://topliba.com/genres/12090?p=550', 'https://topliba.com/genres/12090?p=551', 'https://topliba.com/genres/12090?p=552', 'https://topliba.com/genres/12090?p=553', 'https://topliba.com/genres/12090?p=554', 'https://topliba.com/genres/12090?p=555', 'https://topliba.com/genres/12090?p=556', 'https://topliba.com/genres/12090?p=557', 'https://topliba.com/genres/12090?p=558', 'https://topliba.com/genres/12090?p=559', 'https://topliba.com/genres/12090?p=560', 'https://topliba.com/genres/12090?p=561', 'https://topliba.com/genres/12090?p=562', 'https://topliba.com/genres/12090?p=563', 'https://topliba.com/genres/12090?p=564', 'https://topliba.com/genres/12090?p=565', 'https://topliba.com/genres/12090?p=566', 'https://topliba.com/genres/12090?p=567', 'https://topliba.com/genres/12090?p=568', 'https://topliba.com/genres/12090?p=569', 'https://topliba.com/genres/12090?p=570', 'https://topliba.com/genres/12090?p=571', 'https://topliba.com/genres/12090?p=572', 'https://topliba.com/genres/12090?p=573', 'https://topliba.com/genres/12090?p=574', 'https://topliba.com/genres/12090?p=575', 'https://topliba.com/genres/12090?p=576', 'https://topliba.com/genres/12090?p=577', 'https://topliba.com/genres/12090?p=578', 'https://topliba.com/genres/12090?p=579', 'https://topliba.com/genres/12090?p=580', 'https://topliba.com/genres/12090?p=581', 'https://topliba.com/genres/12090?p=582', 'https://topliba.com/genres/12090?p=583', 'https://topliba.com/genres/12090?p=584', 'https://topliba.com/genres/12090?p=585', 'https://topliba.com/genres/12090?p=586', 'https://topliba.com/genres/12090?p=587', 'https://topliba.com/genres/12090?p=588', 'https://topliba.com/genres/12090?p=589', 'https://topliba.com/genres/12090?p=590', 'https://topliba.com/genres/12090?p=591', 'https://topliba.com/genres/12090?p=592', 'https://topliba.com/genres/12090?p=593', 'https://topliba.com/genres/12090?p=594', 'https://topliba.com/genres/12090?p=595', 'https://topliba.com/genres/12090?p=596', 'https://topliba.com/genres/12090?p=597', 'https://topliba.com/genres/12090?p=598', 'https://topliba.com/genres/12090?p=599', 'https://topliba.com/genres/12090?p=600', 'https://topliba.com/genres/12090?p=601', 'https://topliba.com/genres/12090?p=602', 'https://topliba.com/genres/12090?p=603', 'https://topliba.com/genres/12090?p=604', 'https://topliba.com/genres/12090?p=605', 'https://topliba.com/genres/12090?p=606', 'https://topliba.com/genres/12090?p=607', 'https://topliba.com/genres/12090?p=608', 'https://topliba.com/genres/12090?p=609', 'https://topliba.com/genres/12090?p=610', 'https://topliba.com/genres/12090?p=611', 'https://topliba.com/genres/12090?p=612', 'https://topliba.com/genres/12090?p=613', 'https://topliba.com/genres/12090?p=614', 'https://topliba.com/genres/12090?p=615', 'https://topliba.com/genres/12090?p=616', 'https://topliba.com/genres/12090?p=617', 'https://topliba.com/genres/12090?p=618', 'https://topliba.com/genres/12090?p=619', 'https://topliba.com/genres/12090?p=620', 'https://topliba.com/genres/12090?p=621', 'https://topliba.com/genres/12090?p=622', 'https://topliba.com/genres/12090?p=623', 'https://topliba.com/genres/12090?p=624', 'https://topliba.com/genres/12090?p=625', 'https://topliba.com/genres/12090?p=626', 'https://topliba.com/genres/12090?p=627', 'https://topliba.com/genres/12090?p=628', 'https://topliba.com/genres/12090?p=629', 'https://topliba.com/genres/12090?p=630', 'https://topliba.com/genres/12090?p=631', 'https://topliba.com/genres/12090?p=632', 'https://topliba.com/genres/12090?p=633', 'https://topliba.com/genres/12090?p=634', 'https://topliba.com/genres/12090?p=635', 'https://topliba.com/genres/12090?p=636', 'https://topliba.com/genres/12090?p=637', 'https://topliba.com/genres/12090?p=638', 'https://topliba.com/genres/12090?p=639', 'https://topliba.com/genres/12090?p=640', 'https://topliba.com/genres/12090?p=641', 'https://topliba.com/genres/12090?p=642', 'https://topliba.com/genres/12090?p=643', 'https://topliba.com/genres/12090?p=644', 'https://topliba.com/genres/12090?p=645', 'https://topliba.com/genres/12090?p=646', 'https://topliba.com/genres/12090?p=647', 'https://topliba.com/genres/12090?p=648', 'https://topliba.com/genres/12090?p=649', 'https://topliba.com/genres/12090?p=650', 'https://topliba.com/genres/12090?p=651', 'https://topliba.com/genres/12090?p=652', 'https://topliba.com/genres/12090?p=653', 'https://topliba.com/genres/12090?p=654', 'https://topliba.com/genres/12090?p=655', 'https://topliba.com/genres/12090?p=656', 'https://topliba.com/genres/12090?p=657', 'https://topliba.com/genres/12090?p=658', 'https://topliba.com/genres/12090?p=659', 'https://topliba.com/genres/12090?p=660', 'https://topliba.com/genres/12090?p=661', 'https://topliba.com/genres/12090?p=662', 'https://topliba.com/genres/12090?p=663', 'https://topliba.com/genres/12090?p=664', 'https://topliba.com/genres/12090?p=665', 'https://topliba.com/genres/12090?p=666', 'https://topliba.com/genres/12090?p=667', 'https://topliba.com/genres/12090?p=668', 'https://topliba.com/genres/12090?p=669', 'https://topliba.com/genres/12090?p=670', 'https://topliba.com/genres/12090?p=671', 'https://topliba.com/genres/12090?p=672', 'https://topliba.com/genres/12090?p=673', 'https://topliba.com/genres/12090?p=674', 'https://topliba.com/genres/12090?p=675', 'https://topliba.com/genres/12090?p=676', 'https://topliba.com/genres/12090?p=677', 'https://topliba.com/genres/12090?p=678', 'https://topliba.com/genres/12090?p=679', 'https://topliba.com/genres/12090?p=680', 'https://topliba.com/genres/12090?p=681', 'https://topliba.com/genres/12090?p=682', 'https://topliba.com/genres/12090?p=683', 'https://topliba.com/genres/12090?p=684', 'https://topliba.com/genres/12090?p=685', 'https://topliba.com/genres/12090?p=686', 'https://topliba.com/genres/12090?p=687', 'https://topliba.com/genres/12090?p=688', 'https://topliba.com/genres/12090?p=689', 'https://topliba.com/genres/12090?p=690', 'https://topliba.com/genres/12090?p=691', 'https://topliba.com/genres/12090?p=692', 'https://topliba.com/genres/12090?p=693', 'https://topliba.com/genres/12090?p=694', 'https://topliba.com/genres/12090?p=695', 'https://topliba.com/genres/12090?p=696', 'https://topliba.com/genres/12090?p=697', 'https://topliba.com/genres/12090?p=698', 'https://topliba.com/genres/12090?p=699', 'https://topliba.com/genres/12090?p=700', 'https://topliba.com/genres/12090?p=701', 'https://topliba.com/genres/12090?p=702', 'https://topliba.com/genres/12090?p=703', 'https://topliba.com/genres/12090?p=704', 'https://topliba.com/genres/12090?p=705', 'https://topliba.com/genres/12090?p=706', 'https://topliba.com/genres/12090?p=707', 'https://topliba.com/genres/12090?p=708', 'https://topliba.com/genres/12090?p=709', 'https://topliba.com/genres/12090?p=710', 'https://topliba.com/genres/12090?p=711', 'https://topliba.com/genres/12090?p=712', 'https://topliba.com/genres/12090?p=713', 'https://topliba.com/genres/12090?p=714', 'https://topliba.com/genres/12090?p=715', 'https://topliba.com/genres/12090?p=716', 'https://topliba.com/genres/12090?p=717', 'https://topliba.com/genres/12090?p=718', 'https://topliba.com/genres/12090?p=719', 'https://topliba.com/genres/12090?p=720', 'https://topliba.com/genres/12090?p=721', 'https://topliba.com/genres/12090?p=722', 'https://topliba.com/genres/12090?p=723', 'https://topliba.com/genres/12090?p=724', 'https://topliba.com/genres/12090?p=725', 'https://topliba.com/genres/12090?p=726', 'https://topliba.com/genres/12090?p=727', 'https://topliba.com/genres/12090?p=728', 'https://topliba.com/genres/12090?p=729', 'https://topliba.com/genres/12090?p=730', 'https://topliba.com/genres/12090?p=731', 'https://topliba.com/genres/12090?p=732', 'https://topliba.com/genres/12090?p=733', 'https://topliba.com/genres/12090?p=734', 'https://topliba.com/genres/12090?p=735', 'https://topliba.com/genres/12090?p=736', 'https://topliba.com/genres/12090?p=737', 'https://topliba.com/genres/12090?p=738', 'https://topliba.com/genres/12090?p=739', 'https://topliba.com/genres/12090?p=740', 'https://topliba.com/genres/12090?p=741', 'https://topliba.com/genres/12090?p=742', 'https://topliba.com/genres/12090?p=743', 'https://topliba.com/genres/12090?p=744', 'https://topliba.com/genres/12090?p=745', 'https://topliba.com/genres/12090?p=746', 'https://topliba.com/genres/12090?p=747', 'https://topliba.com/genres/12090?p=748', 'https://topliba.com/genres/12090?p=749', 'https://topliba.com/genres/12090?p=750', 'https://topliba.com/genres/12090?p=751', 'https://topliba.com/genres/12090?p=752', 'https://topliba.com/genres/12090?p=753', 'https://topliba.com/genres/12090?p=754', 'https://topliba.com/genres/12090?p=755', 'https://topliba.com/genres/12090?p=756', 'https://topliba.com/genres/12090?p=757', 'https://topliba.com/genres/12090?p=758', 'https://topliba.com/genres/12090?p=759', 'https://topliba.com/genres/12090?p=760', 'https://topliba.com/genres/12090?p=761', 'https://topliba.com/genres/12090?p=762', 'https://topliba.com/genres/12090?p=763', 'https://topliba.com/genres/12090?p=764', 'https://topliba.com/genres/12090?p=765', 'https://topliba.com/genres/12090?p=766', 'https://topliba.com/genres/12090?p=767', 'https://topliba.com/genres/12090?p=768', 'https://topliba.com/genres/12090?p=769', 'https://topliba.com/genres/12090?p=770', 'https://topliba.com/genres/12090?p=771', 'https://topliba.com/genres/12090?p=772', 'https://topliba.com/genres/12090?p=773', 'https://topliba.com/genres/12090?p=774', 'https://topliba.com/genres/12090?p=775', 'https://topliba.com/genres/12090?p=776', 'https://topliba.com/genres/12090?p=777', 'https://topliba.com/genres/12090?p=778', 'https://topliba.com/genres/12090?p=779', 'https://topliba.com/genres/12090?p=780', 'https://topliba.com/genres/12090?p=781', 'https://topliba.com/genres/12090?p=782', 'https://topliba.com/genres/12090?p=783', 'https://topliba.com/genres/12090?p=784']\n"
     ]
    }
   ],
   "source": [
    "def getPageLinks(max_pages):\n",
    "    # Функция для получения ссылок на страницы с сайта\n",
    "    # Здесь предполагается, что getPageLinks(784) будет возвращать список ссылок\n",
    "    \n",
    "    # Пример кода для получения ссылок на страницы\n",
    "    page_links = [f'https://topliba.com/genres/12090?p={i}' for i in range(1, max_pages + 1)]\n",
    "    return page_links\n",
    "\n",
    "# Теперь вызовем функцию и выведем результат\n",
    "links = getPageLinks(784)  # Получим ссылки на все страницы\n",
    "print(links)"
   ]
  },
  {
   "cell_type": "code",
   "execution_count": 33,
   "metadata": {},
   "outputs": [],
   "source": [
    "book_links = getPageLinks(1000) #  функция для получения ссылок на фильмы"
   ]
  },
  {
   "cell_type": "code",
   "execution_count": 34,
   "metadata": {},
   "outputs": [],
   "source": [
    "from tqdm import tqdm_notebook"
   ]
  },
  {
   "cell_type": "markdown",
   "metadata": {},
   "source": [
    "# Первый cпособ организации цикла сбора информации по всем книгам"
   ]
  },
  {
   "cell_type": "code",
   "execution_count": 36,
   "metadata": {},
   "outputs": [
    {
     "data": {
      "text/html": [
       "<div>\n",
       "<style scoped>\n",
       "    .dataframe tbody tr th:only-of-type {\n",
       "        vertical-align: middle;\n",
       "    }\n",
       "\n",
       "    .dataframe tbody tr th {\n",
       "        vertical-align: top;\n",
       "    }\n",
       "\n",
       "    .dataframe thead th {\n",
       "        text-align: right;\n",
       "    }\n",
       "</style>\n",
       "<table border=\"1\" class=\"dataframe\">\n",
       "  <thead>\n",
       "    <tr style=\"text-align: right;\">\n",
       "      <th></th>\n",
       "      <th>Title</th>\n",
       "      <th>Author</th>\n",
       "      <th>Description</th>\n",
       "      <th>Raiting</th>\n",
       "      <th>Readers</th>\n",
       "      <th>Comments</th>\n",
       "    </tr>\n",
       "  </thead>\n",
       "  <tbody>\n",
       "  </tbody>\n",
       "</table>\n",
       "</div>"
      ],
      "text/plain": [
       "Empty DataFrame\n",
       "Columns: [Title, Author, Description, Raiting, Readers, Comments]\n",
       "Index: []"
      ]
     },
     "execution_count": 36,
     "metadata": {},
     "output_type": "execute_result"
    }
   ],
   "source": [
    "final_df.head()"
   ]
  },
  {
   "cell_type": "code",
   "execution_count": 37,
   "metadata": {},
   "outputs": [
    {
     "name": "stderr",
     "output_type": "stream",
     "text": [
      "C:\\Users\\Olga\\AppData\\Local\\Temp\\ipykernel_11408\\2439003353.py:1: TqdmDeprecationWarning: This function will be removed in tqdm==5.0.0\n",
      "Please use `tqdm.notebook.tqdm` instead of `tqdm.tqdm_notebook`\n",
      "  for book_link in tqdm_notebook(book_links):\n"
     ]
    },
    {
     "data": {
      "application/vnd.jupyter.widget-view+json": {
       "model_id": "af16718c98394085917f6bdb9271f7ca",
       "version_major": 2,
       "version_minor": 0
      },
      "text/plain": [
       "  0%|          | 0/1000 [00:00<?, ?it/s]"
      ]
     },
     "metadata": {},
     "output_type": "display_data"
    }
   ],
   "source": [
    "for book_link in tqdm_notebook(book_links):\n",
    "    try: \n",
    "        book_data = getBookData(book_link)\n",
    "        final_df = pd.concat((final_df, book_data), axis=0)\n",
    "        time.sleep(3)\n",
    "    except:\n",
    "        continue"
   ]
  },
  {
   "cell_type": "code",
   "execution_count": 38,
   "metadata": {},
   "outputs": [
    {
     "data": {
      "text/html": [
       "<div>\n",
       "<style scoped>\n",
       "    .dataframe tbody tr th:only-of-type {\n",
       "        vertical-align: middle;\n",
       "    }\n",
       "\n",
       "    .dataframe tbody tr th {\n",
       "        vertical-align: top;\n",
       "    }\n",
       "\n",
       "    .dataframe thead th {\n",
       "        text-align: right;\n",
       "    }\n",
       "</style>\n",
       "<table border=\"1\" class=\"dataframe\">\n",
       "  <thead>\n",
       "    <tr style=\"text-align: right;\">\n",
       "      <th></th>\n",
       "      <th>Title</th>\n",
       "      <th>Author</th>\n",
       "      <th>Description</th>\n",
       "      <th>Raiting</th>\n",
       "      <th>Readers</th>\n",
       "      <th>Comments</th>\n",
       "    </tr>\n",
       "  </thead>\n",
       "  <tbody>\n",
       "  </tbody>\n",
       "</table>\n",
       "</div>"
      ],
      "text/plain": [
       "Empty DataFrame\n",
       "Columns: [Title, Author, Description, Raiting, Readers, Comments]\n",
       "Index: []"
      ]
     },
     "execution_count": 38,
     "metadata": {},
     "output_type": "execute_result"
    }
   ],
   "source": [
    "final_df.head()"
   ]
  },
  {
   "cell_type": "markdown",
   "metadata": {},
   "source": [
    "# Второй способ создания цикла - по лекции Марии Тихоновой."
   ]
  },
  {
   "cell_type": "code",
   "execution_count": null,
   "metadata": {},
   "outputs": [],
   "source": [
    "def getBookData(book_page):\n",
    "    # запрашиваем данные по ссылке\n",
    "    response = requests.get(book_page, headers={'User-Agent': UserAgent().chrome})\n",
    "\n",
    "    if not response.ok:\n",
    "        # если сервер нам отказал, вернем статус ошибки\n",
    "        return response.status_code\n",
    "\n",
    "    # получаем содержимое страницы и переводим в суп\n",
    "    html = response.content\n",
    "    soup = BeautifulSoup(html,'html.parser')\n",
    "\n",
    "    # используя ранее написанные функции парсим информацию\n",
    "    book_title = soup.find('h1', itemprop='name').text\n",
    "                 \n",
    "    book_author = soup.find(lambda tag: tag.name == 'h2' and tag.get('class') == ['book-author'])\n",
    "    book_author = book_author.text.replace(\"\\n\", \"\")\n",
    "    \n",
    "    book_announs = soup.find(lambda tag: tag.name == 'div' and tag.get('class') == ['description']).text\n",
    "    book_announs = book_announs.replace('\\n', '')\n",
    "    book_announs = book_announs.strip()\n",
    "         \n",
    "    raiting = getRating(soup=soup, rate='_avgrating')\n",
    "    \n",
    "    readers_count_elements = soup.find_all('span', class_='book-readers-status-count')\n",
    "\n",
    "    book_readership_count = readers_count_elements[0].string  \n",
    "        \n",
    "    book_comment_count = readers_count_elements[1].string  \n",
    "            \n",
    "    # составляем словарь, в котором будут хранится все полученные и обработанные данные\n",
    "    data_row = {'Title':book_title, 'Author':book_author,\n",
    "                'Description':book_announs, 'Raiting':raiting, 'Readers':book_readership_count,'Comments':book_comment_count}\n",
    "    return data_row"
   ]
  },
  {
   "cell_type": "code",
   "execution_count": 50,
   "metadata": {},
   "outputs": [],
   "source": [
    "data_row = getBookData('https://topliba.com/books/736796')"
   ]
  },
  {
   "cell_type": "code",
   "execution_count": 51,
   "metadata": {},
   "outputs": [
    {
     "data": {
      "text/plain": [
       "{'Title': 'Щит императора',\n",
       " 'Author': 'Александра Лисина',\n",
       " 'Description': 'После смерти великого императора Орриана на престол вступает его единственный сын, которому в наследство достается не только страна, но и телохранитель. Карриану не нужен такой довесок к короне, однако нарушить волю отца он не рискует. Мару тоже не нравится это решение, но приказ хозяина для него превыше собственных предпочтений. Для двух врагов подобное соседство — худшее, что только можно измыслить. Тень, не желающая оберегать нового императора, и император, ненавидящий свою тень… Казалось бы, у этих двоих нет и не может быть ничего общего. Но жизнь все расставляет по своим местам.',\n",
       " 'Raiting': '4.75',\n",
       " 'Readers': '490',\n",
       " 'Comments': '88'}"
      ]
     },
     "execution_count": 51,
     "metadata": {},
     "output_type": "execute_result"
    }
   ],
   "source": [
    "data_row"
   ]
  },
  {
   "cell_type": "code",
   "execution_count": 52,
   "metadata": {},
   "outputs": [],
   "source": [
    "final_df = pd.DataFrame(columns=['Title', 'Author', 'Description', 'Raiting', 'Readers', 'Comments'])"
   ]
  },
  {
   "cell_type": "code",
   "execution_count": 53,
   "metadata": {},
   "outputs": [],
   "source": [
    "# final_df = final_df.append(data_row, ignore_index=True).dropna(axis = 1)"
   ]
  },
  {
   "cell_type": "code",
   "execution_count": 54,
   "metadata": {},
   "outputs": [
    {
     "data": {
      "text/html": [
       "<div>\n",
       "<style scoped>\n",
       "    .dataframe tbody tr th:only-of-type {\n",
       "        vertical-align: middle;\n",
       "    }\n",
       "\n",
       "    .dataframe tbody tr th {\n",
       "        vertical-align: top;\n",
       "    }\n",
       "\n",
       "    .dataframe thead th {\n",
       "        text-align: right;\n",
       "    }\n",
       "</style>\n",
       "<table border=\"1\" class=\"dataframe\">\n",
       "  <thead>\n",
       "    <tr style=\"text-align: right;\">\n",
       "      <th></th>\n",
       "      <th>Title</th>\n",
       "      <th>Author</th>\n",
       "      <th>Description</th>\n",
       "      <th>Raiting</th>\n",
       "      <th>Readers</th>\n",
       "      <th>Comments</th>\n",
       "    </tr>\n",
       "  </thead>\n",
       "  <tbody>\n",
       "  </tbody>\n",
       "</table>\n",
       "</div>"
      ],
      "text/plain": [
       "Empty DataFrame\n",
       "Columns: [Title, Author, Description, Raiting, Readers, Comments]\n",
       "Index: []"
      ]
     },
     "execution_count": 54,
     "metadata": {},
     "output_type": "execute_result"
    }
   ],
   "source": [
    "final_df"
   ]
  },
  {
   "cell_type": "code",
   "execution_count": 262,
   "metadata": {},
   "outputs": [
    {
     "data": {
      "text/plain": [
       "['https://topliba.com/genres/12090?p=1',\n",
       " 'https://topliba.com/genres/12090?p=2',\n",
       " 'https://topliba.com/genres/12090?p=3',\n",
       " 'https://topliba.com/genres/12090?p=4',\n",
       " 'https://topliba.com/genres/12090?p=5',\n",
       " 'https://topliba.com/genres/12090?p=6',\n",
       " 'https://topliba.com/genres/12090?p=7',\n",
       " 'https://topliba.com/genres/12090?p=8',\n",
       " 'https://topliba.com/genres/12090?p=9',\n",
       " 'https://topliba.com/genres/12090?p=10',\n",
       " 'https://topliba.com/genres/12090?p=11',\n",
       " 'https://topliba.com/genres/12090?p=12',\n",
       " 'https://topliba.com/genres/12090?p=13',\n",
       " 'https://topliba.com/genres/12090?p=14',\n",
       " 'https://topliba.com/genres/12090?p=15',\n",
       " 'https://topliba.com/genres/12090?p=16',\n",
       " 'https://topliba.com/genres/12090?p=17',\n",
       " 'https://topliba.com/genres/12090?p=18',\n",
       " 'https://topliba.com/genres/12090?p=19',\n",
       " 'https://topliba.com/genres/12090?p=20',\n",
       " 'https://topliba.com/genres/12090?p=21',\n",
       " 'https://topliba.com/genres/12090?p=22',\n",
       " 'https://topliba.com/genres/12090?p=23',\n",
       " 'https://topliba.com/genres/12090?p=24',\n",
       " 'https://topliba.com/genres/12090?p=25',\n",
       " 'https://topliba.com/genres/12090?p=26',\n",
       " 'https://topliba.com/genres/12090?p=27',\n",
       " 'https://topliba.com/genres/12090?p=28',\n",
       " 'https://topliba.com/genres/12090?p=29',\n",
       " 'https://topliba.com/genres/12090?p=30',\n",
       " 'https://topliba.com/genres/12090?p=31',\n",
       " 'https://topliba.com/genres/12090?p=32',\n",
       " 'https://topliba.com/genres/12090?p=33',\n",
       " 'https://topliba.com/genres/12090?p=34',\n",
       " 'https://topliba.com/genres/12090?p=35',\n",
       " 'https://topliba.com/genres/12090?p=36',\n",
       " 'https://topliba.com/genres/12090?p=37',\n",
       " 'https://topliba.com/genres/12090?p=38',\n",
       " 'https://topliba.com/genres/12090?p=39',\n",
       " 'https://topliba.com/genres/12090?p=40',\n",
       " 'https://topliba.com/genres/12090?p=41',\n",
       " 'https://topliba.com/genres/12090?p=42',\n",
       " 'https://topliba.com/genres/12090?p=43',\n",
       " 'https://topliba.com/genres/12090?p=44',\n",
       " 'https://topliba.com/genres/12090?p=45',\n",
       " 'https://topliba.com/genres/12090?p=46',\n",
       " 'https://topliba.com/genres/12090?p=47',\n",
       " 'https://topliba.com/genres/12090?p=48',\n",
       " 'https://topliba.com/genres/12090?p=49',\n",
       " 'https://topliba.com/genres/12090?p=50',\n",
       " 'https://topliba.com/genres/12090?p=51',\n",
       " 'https://topliba.com/genres/12090?p=52',\n",
       " 'https://topliba.com/genres/12090?p=53',\n",
       " 'https://topliba.com/genres/12090?p=54',\n",
       " 'https://topliba.com/genres/12090?p=55',\n",
       " 'https://topliba.com/genres/12090?p=56',\n",
       " 'https://topliba.com/genres/12090?p=57',\n",
       " 'https://topliba.com/genres/12090?p=58',\n",
       " 'https://topliba.com/genres/12090?p=59',\n",
       " 'https://topliba.com/genres/12090?p=60',\n",
       " 'https://topliba.com/genres/12090?p=61',\n",
       " 'https://topliba.com/genres/12090?p=62',\n",
       " 'https://topliba.com/genres/12090?p=63',\n",
       " 'https://topliba.com/genres/12090?p=64',\n",
       " 'https://topliba.com/genres/12090?p=65',\n",
       " 'https://topliba.com/genres/12090?p=66',\n",
       " 'https://topliba.com/genres/12090?p=67',\n",
       " 'https://topliba.com/genres/12090?p=68',\n",
       " 'https://topliba.com/genres/12090?p=69',\n",
       " 'https://topliba.com/genres/12090?p=70',\n",
       " 'https://topliba.com/genres/12090?p=71',\n",
       " 'https://topliba.com/genres/12090?p=72',\n",
       " 'https://topliba.com/genres/12090?p=73',\n",
       " 'https://topliba.com/genres/12090?p=74',\n",
       " 'https://topliba.com/genres/12090?p=75',\n",
       " 'https://topliba.com/genres/12090?p=76',\n",
       " 'https://topliba.com/genres/12090?p=77',\n",
       " 'https://topliba.com/genres/12090?p=78',\n",
       " 'https://topliba.com/genres/12090?p=79',\n",
       " 'https://topliba.com/genres/12090?p=80',\n",
       " 'https://topliba.com/genres/12090?p=81',\n",
       " 'https://topliba.com/genres/12090?p=82',\n",
       " 'https://topliba.com/genres/12090?p=83',\n",
       " 'https://topliba.com/genres/12090?p=84',\n",
       " 'https://topliba.com/genres/12090?p=85',\n",
       " 'https://topliba.com/genres/12090?p=86',\n",
       " 'https://topliba.com/genres/12090?p=87',\n",
       " 'https://topliba.com/genres/12090?p=88',\n",
       " 'https://topliba.com/genres/12090?p=89',\n",
       " 'https://topliba.com/genres/12090?p=90',\n",
       " 'https://topliba.com/genres/12090?p=91',\n",
       " 'https://topliba.com/genres/12090?p=92',\n",
       " 'https://topliba.com/genres/12090?p=93',\n",
       " 'https://topliba.com/genres/12090?p=94',\n",
       " 'https://topliba.com/genres/12090?p=95',\n",
       " 'https://topliba.com/genres/12090?p=96',\n",
       " 'https://topliba.com/genres/12090?p=97',\n",
       " 'https://topliba.com/genres/12090?p=98',\n",
       " 'https://topliba.com/genres/12090?p=99',\n",
       " 'https://topliba.com/genres/12090?p=100',\n",
       " 'https://topliba.com/genres/12090?p=101',\n",
       " 'https://topliba.com/genres/12090?p=102',\n",
       " 'https://topliba.com/genres/12090?p=103',\n",
       " 'https://topliba.com/genres/12090?p=104',\n",
       " 'https://topliba.com/genres/12090?p=105',\n",
       " 'https://topliba.com/genres/12090?p=106',\n",
       " 'https://topliba.com/genres/12090?p=107',\n",
       " 'https://topliba.com/genres/12090?p=108',\n",
       " 'https://topliba.com/genres/12090?p=109',\n",
       " 'https://topliba.com/genres/12090?p=110',\n",
       " 'https://topliba.com/genres/12090?p=111',\n",
       " 'https://topliba.com/genres/12090?p=112',\n",
       " 'https://topliba.com/genres/12090?p=113',\n",
       " 'https://topliba.com/genres/12090?p=114',\n",
       " 'https://topliba.com/genres/12090?p=115',\n",
       " 'https://topliba.com/genres/12090?p=116',\n",
       " 'https://topliba.com/genres/12090?p=117',\n",
       " 'https://topliba.com/genres/12090?p=118',\n",
       " 'https://topliba.com/genres/12090?p=119',\n",
       " 'https://topliba.com/genres/12090?p=120',\n",
       " 'https://topliba.com/genres/12090?p=121',\n",
       " 'https://topliba.com/genres/12090?p=122',\n",
       " 'https://topliba.com/genres/12090?p=123',\n",
       " 'https://topliba.com/genres/12090?p=124',\n",
       " 'https://topliba.com/genres/12090?p=125',\n",
       " 'https://topliba.com/genres/12090?p=126',\n",
       " 'https://topliba.com/genres/12090?p=127',\n",
       " 'https://topliba.com/genres/12090?p=128',\n",
       " 'https://topliba.com/genres/12090?p=129',\n",
       " 'https://topliba.com/genres/12090?p=130',\n",
       " 'https://topliba.com/genres/12090?p=131',\n",
       " 'https://topliba.com/genres/12090?p=132',\n",
       " 'https://topliba.com/genres/12090?p=133',\n",
       " 'https://topliba.com/genres/12090?p=134',\n",
       " 'https://topliba.com/genres/12090?p=135',\n",
       " 'https://topliba.com/genres/12090?p=136',\n",
       " 'https://topliba.com/genres/12090?p=137',\n",
       " 'https://topliba.com/genres/12090?p=138',\n",
       " 'https://topliba.com/genres/12090?p=139',\n",
       " 'https://topliba.com/genres/12090?p=140',\n",
       " 'https://topliba.com/genres/12090?p=141',\n",
       " 'https://topliba.com/genres/12090?p=142',\n",
       " 'https://topliba.com/genres/12090?p=143',\n",
       " 'https://topliba.com/genres/12090?p=144',\n",
       " 'https://topliba.com/genres/12090?p=145',\n",
       " 'https://topliba.com/genres/12090?p=146',\n",
       " 'https://topliba.com/genres/12090?p=147',\n",
       " 'https://topliba.com/genres/12090?p=148',\n",
       " 'https://topliba.com/genres/12090?p=149',\n",
       " 'https://topliba.com/genres/12090?p=150',\n",
       " 'https://topliba.com/genres/12090?p=151',\n",
       " 'https://topliba.com/genres/12090?p=152',\n",
       " 'https://topliba.com/genres/12090?p=153',\n",
       " 'https://topliba.com/genres/12090?p=154',\n",
       " 'https://topliba.com/genres/12090?p=155',\n",
       " 'https://topliba.com/genres/12090?p=156',\n",
       " 'https://topliba.com/genres/12090?p=157',\n",
       " 'https://topliba.com/genres/12090?p=158',\n",
       " 'https://topliba.com/genres/12090?p=159',\n",
       " 'https://topliba.com/genres/12090?p=160',\n",
       " 'https://topliba.com/genres/12090?p=161',\n",
       " 'https://topliba.com/genres/12090?p=162',\n",
       " 'https://topliba.com/genres/12090?p=163',\n",
       " 'https://topliba.com/genres/12090?p=164',\n",
       " 'https://topliba.com/genres/12090?p=165',\n",
       " 'https://topliba.com/genres/12090?p=166',\n",
       " 'https://topliba.com/genres/12090?p=167',\n",
       " 'https://topliba.com/genres/12090?p=168',\n",
       " 'https://topliba.com/genres/12090?p=169',\n",
       " 'https://topliba.com/genres/12090?p=170',\n",
       " 'https://topliba.com/genres/12090?p=171',\n",
       " 'https://topliba.com/genres/12090?p=172',\n",
       " 'https://topliba.com/genres/12090?p=173',\n",
       " 'https://topliba.com/genres/12090?p=174',\n",
       " 'https://topliba.com/genres/12090?p=175',\n",
       " 'https://topliba.com/genres/12090?p=176',\n",
       " 'https://topliba.com/genres/12090?p=177',\n",
       " 'https://topliba.com/genres/12090?p=178',\n",
       " 'https://topliba.com/genres/12090?p=179',\n",
       " 'https://topliba.com/genres/12090?p=180',\n",
       " 'https://topliba.com/genres/12090?p=181',\n",
       " 'https://topliba.com/genres/12090?p=182',\n",
       " 'https://topliba.com/genres/12090?p=183',\n",
       " 'https://topliba.com/genres/12090?p=184',\n",
       " 'https://topliba.com/genres/12090?p=185',\n",
       " 'https://topliba.com/genres/12090?p=186',\n",
       " 'https://topliba.com/genres/12090?p=187',\n",
       " 'https://topliba.com/genres/12090?p=188',\n",
       " 'https://topliba.com/genres/12090?p=189',\n",
       " 'https://topliba.com/genres/12090?p=190',\n",
       " 'https://topliba.com/genres/12090?p=191',\n",
       " 'https://topliba.com/genres/12090?p=192',\n",
       " 'https://topliba.com/genres/12090?p=193',\n",
       " 'https://topliba.com/genres/12090?p=194',\n",
       " 'https://topliba.com/genres/12090?p=195',\n",
       " 'https://topliba.com/genres/12090?p=196',\n",
       " 'https://topliba.com/genres/12090?p=197',\n",
       " 'https://topliba.com/genres/12090?p=198',\n",
       " 'https://topliba.com/genres/12090?p=199',\n",
       " 'https://topliba.com/genres/12090?p=200',\n",
       " 'https://topliba.com/genres/12090?p=201',\n",
       " 'https://topliba.com/genres/12090?p=202',\n",
       " 'https://topliba.com/genres/12090?p=203',\n",
       " 'https://topliba.com/genres/12090?p=204',\n",
       " 'https://topliba.com/genres/12090?p=205',\n",
       " 'https://topliba.com/genres/12090?p=206',\n",
       " 'https://topliba.com/genres/12090?p=207',\n",
       " 'https://topliba.com/genres/12090?p=208',\n",
       " 'https://topliba.com/genres/12090?p=209',\n",
       " 'https://topliba.com/genres/12090?p=210',\n",
       " 'https://topliba.com/genres/12090?p=211',\n",
       " 'https://topliba.com/genres/12090?p=212',\n",
       " 'https://topliba.com/genres/12090?p=213',\n",
       " 'https://topliba.com/genres/12090?p=214',\n",
       " 'https://topliba.com/genres/12090?p=215',\n",
       " 'https://topliba.com/genres/12090?p=216',\n",
       " 'https://topliba.com/genres/12090?p=217',\n",
       " 'https://topliba.com/genres/12090?p=218',\n",
       " 'https://topliba.com/genres/12090?p=219',\n",
       " 'https://topliba.com/genres/12090?p=220',\n",
       " 'https://topliba.com/genres/12090?p=221',\n",
       " 'https://topliba.com/genres/12090?p=222',\n",
       " 'https://topliba.com/genres/12090?p=223',\n",
       " 'https://topliba.com/genres/12090?p=224',\n",
       " 'https://topliba.com/genres/12090?p=225',\n",
       " 'https://topliba.com/genres/12090?p=226',\n",
       " 'https://topliba.com/genres/12090?p=227',\n",
       " 'https://topliba.com/genres/12090?p=228',\n",
       " 'https://topliba.com/genres/12090?p=229',\n",
       " 'https://topliba.com/genres/12090?p=230',\n",
       " 'https://topliba.com/genres/12090?p=231',\n",
       " 'https://topliba.com/genres/12090?p=232',\n",
       " 'https://topliba.com/genres/12090?p=233',\n",
       " 'https://topliba.com/genres/12090?p=234',\n",
       " 'https://topliba.com/genres/12090?p=235',\n",
       " 'https://topliba.com/genres/12090?p=236',\n",
       " 'https://topliba.com/genres/12090?p=237',\n",
       " 'https://topliba.com/genres/12090?p=238',\n",
       " 'https://topliba.com/genres/12090?p=239',\n",
       " 'https://topliba.com/genres/12090?p=240',\n",
       " 'https://topliba.com/genres/12090?p=241',\n",
       " 'https://topliba.com/genres/12090?p=242',\n",
       " 'https://topliba.com/genres/12090?p=243',\n",
       " 'https://topliba.com/genres/12090?p=244',\n",
       " 'https://topliba.com/genres/12090?p=245',\n",
       " 'https://topliba.com/genres/12090?p=246',\n",
       " 'https://topliba.com/genres/12090?p=247',\n",
       " 'https://topliba.com/genres/12090?p=248',\n",
       " 'https://topliba.com/genres/12090?p=249',\n",
       " 'https://topliba.com/genres/12090?p=250',\n",
       " 'https://topliba.com/genres/12090?p=251',\n",
       " 'https://topliba.com/genres/12090?p=252',\n",
       " 'https://topliba.com/genres/12090?p=253',\n",
       " 'https://topliba.com/genres/12090?p=254',\n",
       " 'https://topliba.com/genres/12090?p=255',\n",
       " 'https://topliba.com/genres/12090?p=256',\n",
       " 'https://topliba.com/genres/12090?p=257',\n",
       " 'https://topliba.com/genres/12090?p=258',\n",
       " 'https://topliba.com/genres/12090?p=259',\n",
       " 'https://topliba.com/genres/12090?p=260',\n",
       " 'https://topliba.com/genres/12090?p=261',\n",
       " 'https://topliba.com/genres/12090?p=262',\n",
       " 'https://topliba.com/genres/12090?p=263',\n",
       " 'https://topliba.com/genres/12090?p=264',\n",
       " 'https://topliba.com/genres/12090?p=265',\n",
       " 'https://topliba.com/genres/12090?p=266',\n",
       " 'https://topliba.com/genres/12090?p=267',\n",
       " 'https://topliba.com/genres/12090?p=268',\n",
       " 'https://topliba.com/genres/12090?p=269',\n",
       " 'https://topliba.com/genres/12090?p=270',\n",
       " 'https://topliba.com/genres/12090?p=271',\n",
       " 'https://topliba.com/genres/12090?p=272',\n",
       " 'https://topliba.com/genres/12090?p=273',\n",
       " 'https://topliba.com/genres/12090?p=274',\n",
       " 'https://topliba.com/genres/12090?p=275',\n",
       " 'https://topliba.com/genres/12090?p=276',\n",
       " 'https://topliba.com/genres/12090?p=277',\n",
       " 'https://topliba.com/genres/12090?p=278',\n",
       " 'https://topliba.com/genres/12090?p=279',\n",
       " 'https://topliba.com/genres/12090?p=280',\n",
       " 'https://topliba.com/genres/12090?p=281',\n",
       " 'https://topliba.com/genres/12090?p=282',\n",
       " 'https://topliba.com/genres/12090?p=283',\n",
       " 'https://topliba.com/genres/12090?p=284',\n",
       " 'https://topliba.com/genres/12090?p=285',\n",
       " 'https://topliba.com/genres/12090?p=286',\n",
       " 'https://topliba.com/genres/12090?p=287',\n",
       " 'https://topliba.com/genres/12090?p=288',\n",
       " 'https://topliba.com/genres/12090?p=289',\n",
       " 'https://topliba.com/genres/12090?p=290',\n",
       " 'https://topliba.com/genres/12090?p=291',\n",
       " 'https://topliba.com/genres/12090?p=292',\n",
       " 'https://topliba.com/genres/12090?p=293',\n",
       " 'https://topliba.com/genres/12090?p=294',\n",
       " 'https://topliba.com/genres/12090?p=295',\n",
       " 'https://topliba.com/genres/12090?p=296',\n",
       " 'https://topliba.com/genres/12090?p=297',\n",
       " 'https://topliba.com/genres/12090?p=298',\n",
       " 'https://topliba.com/genres/12090?p=299',\n",
       " 'https://topliba.com/genres/12090?p=300',\n",
       " 'https://topliba.com/genres/12090?p=301',\n",
       " 'https://topliba.com/genres/12090?p=302',\n",
       " 'https://topliba.com/genres/12090?p=303',\n",
       " 'https://topliba.com/genres/12090?p=304',\n",
       " 'https://topliba.com/genres/12090?p=305',\n",
       " 'https://topliba.com/genres/12090?p=306',\n",
       " 'https://topliba.com/genres/12090?p=307',\n",
       " 'https://topliba.com/genres/12090?p=308',\n",
       " 'https://topliba.com/genres/12090?p=309',\n",
       " 'https://topliba.com/genres/12090?p=310',\n",
       " 'https://topliba.com/genres/12090?p=311',\n",
       " 'https://topliba.com/genres/12090?p=312',\n",
       " 'https://topliba.com/genres/12090?p=313',\n",
       " 'https://topliba.com/genres/12090?p=314',\n",
       " 'https://topliba.com/genres/12090?p=315',\n",
       " 'https://topliba.com/genres/12090?p=316',\n",
       " 'https://topliba.com/genres/12090?p=317',\n",
       " 'https://topliba.com/genres/12090?p=318',\n",
       " 'https://topliba.com/genres/12090?p=319',\n",
       " 'https://topliba.com/genres/12090?p=320',\n",
       " 'https://topliba.com/genres/12090?p=321',\n",
       " 'https://topliba.com/genres/12090?p=322',\n",
       " 'https://topliba.com/genres/12090?p=323',\n",
       " 'https://topliba.com/genres/12090?p=324',\n",
       " 'https://topliba.com/genres/12090?p=325',\n",
       " 'https://topliba.com/genres/12090?p=326',\n",
       " 'https://topliba.com/genres/12090?p=327',\n",
       " 'https://topliba.com/genres/12090?p=328',\n",
       " 'https://topliba.com/genres/12090?p=329',\n",
       " 'https://topliba.com/genres/12090?p=330',\n",
       " 'https://topliba.com/genres/12090?p=331',\n",
       " 'https://topliba.com/genres/12090?p=332',\n",
       " 'https://topliba.com/genres/12090?p=333',\n",
       " 'https://topliba.com/genres/12090?p=334',\n",
       " 'https://topliba.com/genres/12090?p=335',\n",
       " 'https://topliba.com/genres/12090?p=336',\n",
       " 'https://topliba.com/genres/12090?p=337',\n",
       " 'https://topliba.com/genres/12090?p=338',\n",
       " 'https://topliba.com/genres/12090?p=339',\n",
       " 'https://topliba.com/genres/12090?p=340',\n",
       " 'https://topliba.com/genres/12090?p=341',\n",
       " 'https://topliba.com/genres/12090?p=342',\n",
       " 'https://topliba.com/genres/12090?p=343',\n",
       " 'https://topliba.com/genres/12090?p=344',\n",
       " 'https://topliba.com/genres/12090?p=345',\n",
       " 'https://topliba.com/genres/12090?p=346',\n",
       " 'https://topliba.com/genres/12090?p=347',\n",
       " 'https://topliba.com/genres/12090?p=348',\n",
       " 'https://topliba.com/genres/12090?p=349',\n",
       " 'https://topliba.com/genres/12090?p=350',\n",
       " 'https://topliba.com/genres/12090?p=351',\n",
       " 'https://topliba.com/genres/12090?p=352',\n",
       " 'https://topliba.com/genres/12090?p=353',\n",
       " 'https://topliba.com/genres/12090?p=354',\n",
       " 'https://topliba.com/genres/12090?p=355',\n",
       " 'https://topliba.com/genres/12090?p=356',\n",
       " 'https://topliba.com/genres/12090?p=357',\n",
       " 'https://topliba.com/genres/12090?p=358',\n",
       " 'https://topliba.com/genres/12090?p=359',\n",
       " 'https://topliba.com/genres/12090?p=360',\n",
       " 'https://topliba.com/genres/12090?p=361',\n",
       " 'https://topliba.com/genres/12090?p=362',\n",
       " 'https://topliba.com/genres/12090?p=363',\n",
       " 'https://topliba.com/genres/12090?p=364',\n",
       " 'https://topliba.com/genres/12090?p=365',\n",
       " 'https://topliba.com/genres/12090?p=366',\n",
       " 'https://topliba.com/genres/12090?p=367',\n",
       " 'https://topliba.com/genres/12090?p=368',\n",
       " 'https://topliba.com/genres/12090?p=369',\n",
       " 'https://topliba.com/genres/12090?p=370',\n",
       " 'https://topliba.com/genres/12090?p=371',\n",
       " 'https://topliba.com/genres/12090?p=372',\n",
       " 'https://topliba.com/genres/12090?p=373',\n",
       " 'https://topliba.com/genres/12090?p=374',\n",
       " 'https://topliba.com/genres/12090?p=375',\n",
       " 'https://topliba.com/genres/12090?p=376',\n",
       " 'https://topliba.com/genres/12090?p=377',\n",
       " 'https://topliba.com/genres/12090?p=378',\n",
       " 'https://topliba.com/genres/12090?p=379',\n",
       " 'https://topliba.com/genres/12090?p=380',\n",
       " 'https://topliba.com/genres/12090?p=381',\n",
       " 'https://topliba.com/genres/12090?p=382',\n",
       " 'https://topliba.com/genres/12090?p=383',\n",
       " 'https://topliba.com/genres/12090?p=384',\n",
       " 'https://topliba.com/genres/12090?p=385',\n",
       " 'https://topliba.com/genres/12090?p=386',\n",
       " 'https://topliba.com/genres/12090?p=387',\n",
       " 'https://topliba.com/genres/12090?p=388',\n",
       " 'https://topliba.com/genres/12090?p=389',\n",
       " 'https://topliba.com/genres/12090?p=390',\n",
       " 'https://topliba.com/genres/12090?p=391',\n",
       " 'https://topliba.com/genres/12090?p=392',\n",
       " 'https://topliba.com/genres/12090?p=393',\n",
       " 'https://topliba.com/genres/12090?p=394',\n",
       " 'https://topliba.com/genres/12090?p=395',\n",
       " 'https://topliba.com/genres/12090?p=396',\n",
       " 'https://topliba.com/genres/12090?p=397',\n",
       " 'https://topliba.com/genres/12090?p=398',\n",
       " 'https://topliba.com/genres/12090?p=399',\n",
       " 'https://topliba.com/genres/12090?p=400',\n",
       " 'https://topliba.com/genres/12090?p=401',\n",
       " 'https://topliba.com/genres/12090?p=402',\n",
       " 'https://topliba.com/genres/12090?p=403',\n",
       " 'https://topliba.com/genres/12090?p=404',\n",
       " 'https://topliba.com/genres/12090?p=405',\n",
       " 'https://topliba.com/genres/12090?p=406',\n",
       " 'https://topliba.com/genres/12090?p=407',\n",
       " 'https://topliba.com/genres/12090?p=408',\n",
       " 'https://topliba.com/genres/12090?p=409',\n",
       " 'https://topliba.com/genres/12090?p=410',\n",
       " 'https://topliba.com/genres/12090?p=411',\n",
       " 'https://topliba.com/genres/12090?p=412',\n",
       " 'https://topliba.com/genres/12090?p=413',\n",
       " 'https://topliba.com/genres/12090?p=414',\n",
       " 'https://topliba.com/genres/12090?p=415',\n",
       " 'https://topliba.com/genres/12090?p=416',\n",
       " 'https://topliba.com/genres/12090?p=417',\n",
       " 'https://topliba.com/genres/12090?p=418',\n",
       " 'https://topliba.com/genres/12090?p=419',\n",
       " 'https://topliba.com/genres/12090?p=420',\n",
       " 'https://topliba.com/genres/12090?p=421',\n",
       " 'https://topliba.com/genres/12090?p=422',\n",
       " 'https://topliba.com/genres/12090?p=423',\n",
       " 'https://topliba.com/genres/12090?p=424',\n",
       " 'https://topliba.com/genres/12090?p=425',\n",
       " 'https://topliba.com/genres/12090?p=426',\n",
       " 'https://topliba.com/genres/12090?p=427',\n",
       " 'https://topliba.com/genres/12090?p=428',\n",
       " 'https://topliba.com/genres/12090?p=429',\n",
       " 'https://topliba.com/genres/12090?p=430',\n",
       " 'https://topliba.com/genres/12090?p=431',\n",
       " 'https://topliba.com/genres/12090?p=432',\n",
       " 'https://topliba.com/genres/12090?p=433',\n",
       " 'https://topliba.com/genres/12090?p=434',\n",
       " 'https://topliba.com/genres/12090?p=435',\n",
       " 'https://topliba.com/genres/12090?p=436',\n",
       " 'https://topliba.com/genres/12090?p=437',\n",
       " 'https://topliba.com/genres/12090?p=438',\n",
       " 'https://topliba.com/genres/12090?p=439',\n",
       " 'https://topliba.com/genres/12090?p=440',\n",
       " 'https://topliba.com/genres/12090?p=441',\n",
       " 'https://topliba.com/genres/12090?p=442',\n",
       " 'https://topliba.com/genres/12090?p=443',\n",
       " 'https://topliba.com/genres/12090?p=444',\n",
       " 'https://topliba.com/genres/12090?p=445',\n",
       " 'https://topliba.com/genres/12090?p=446',\n",
       " 'https://topliba.com/genres/12090?p=447',\n",
       " 'https://topliba.com/genres/12090?p=448',\n",
       " 'https://topliba.com/genres/12090?p=449',\n",
       " 'https://topliba.com/genres/12090?p=450',\n",
       " 'https://topliba.com/genres/12090?p=451',\n",
       " 'https://topliba.com/genres/12090?p=452',\n",
       " 'https://topliba.com/genres/12090?p=453',\n",
       " 'https://topliba.com/genres/12090?p=454',\n",
       " 'https://topliba.com/genres/12090?p=455',\n",
       " 'https://topliba.com/genres/12090?p=456',\n",
       " 'https://topliba.com/genres/12090?p=457',\n",
       " 'https://topliba.com/genres/12090?p=458',\n",
       " 'https://topliba.com/genres/12090?p=459',\n",
       " 'https://topliba.com/genres/12090?p=460',\n",
       " 'https://topliba.com/genres/12090?p=461',\n",
       " 'https://topliba.com/genres/12090?p=462',\n",
       " 'https://topliba.com/genres/12090?p=463',\n",
       " 'https://topliba.com/genres/12090?p=464',\n",
       " 'https://topliba.com/genres/12090?p=465',\n",
       " 'https://topliba.com/genres/12090?p=466',\n",
       " 'https://topliba.com/genres/12090?p=467',\n",
       " 'https://topliba.com/genres/12090?p=468',\n",
       " 'https://topliba.com/genres/12090?p=469',\n",
       " 'https://topliba.com/genres/12090?p=470',\n",
       " 'https://topliba.com/genres/12090?p=471',\n",
       " 'https://topliba.com/genres/12090?p=472',\n",
       " 'https://topliba.com/genres/12090?p=473',\n",
       " 'https://topliba.com/genres/12090?p=474',\n",
       " 'https://topliba.com/genres/12090?p=475',\n",
       " 'https://topliba.com/genres/12090?p=476',\n",
       " 'https://topliba.com/genres/12090?p=477',\n",
       " 'https://topliba.com/genres/12090?p=478',\n",
       " 'https://topliba.com/genres/12090?p=479',\n",
       " 'https://topliba.com/genres/12090?p=480',\n",
       " 'https://topliba.com/genres/12090?p=481',\n",
       " 'https://topliba.com/genres/12090?p=482',\n",
       " 'https://topliba.com/genres/12090?p=483',\n",
       " 'https://topliba.com/genres/12090?p=484',\n",
       " 'https://topliba.com/genres/12090?p=485',\n",
       " 'https://topliba.com/genres/12090?p=486',\n",
       " 'https://topliba.com/genres/12090?p=487',\n",
       " 'https://topliba.com/genres/12090?p=488',\n",
       " 'https://topliba.com/genres/12090?p=489',\n",
       " 'https://topliba.com/genres/12090?p=490',\n",
       " 'https://topliba.com/genres/12090?p=491',\n",
       " 'https://topliba.com/genres/12090?p=492',\n",
       " 'https://topliba.com/genres/12090?p=493',\n",
       " 'https://topliba.com/genres/12090?p=494',\n",
       " 'https://topliba.com/genres/12090?p=495',\n",
       " 'https://topliba.com/genres/12090?p=496',\n",
       " 'https://topliba.com/genres/12090?p=497',\n",
       " 'https://topliba.com/genres/12090?p=498',\n",
       " 'https://topliba.com/genres/12090?p=499',\n",
       " 'https://topliba.com/genres/12090?p=500',\n",
       " 'https://topliba.com/genres/12090?p=501',\n",
       " 'https://topliba.com/genres/12090?p=502',\n",
       " 'https://topliba.com/genres/12090?p=503',\n",
       " 'https://topliba.com/genres/12090?p=504',\n",
       " 'https://topliba.com/genres/12090?p=505',\n",
       " 'https://topliba.com/genres/12090?p=506',\n",
       " 'https://topliba.com/genres/12090?p=507',\n",
       " 'https://topliba.com/genres/12090?p=508',\n",
       " 'https://topliba.com/genres/12090?p=509',\n",
       " 'https://topliba.com/genres/12090?p=510',\n",
       " 'https://topliba.com/genres/12090?p=511',\n",
       " 'https://topliba.com/genres/12090?p=512',\n",
       " 'https://topliba.com/genres/12090?p=513',\n",
       " 'https://topliba.com/genres/12090?p=514',\n",
       " 'https://topliba.com/genres/12090?p=515',\n",
       " 'https://topliba.com/genres/12090?p=516',\n",
       " 'https://topliba.com/genres/12090?p=517',\n",
       " 'https://topliba.com/genres/12090?p=518',\n",
       " 'https://topliba.com/genres/12090?p=519',\n",
       " 'https://topliba.com/genres/12090?p=520',\n",
       " 'https://topliba.com/genres/12090?p=521',\n",
       " 'https://topliba.com/genres/12090?p=522',\n",
       " 'https://topliba.com/genres/12090?p=523',\n",
       " 'https://topliba.com/genres/12090?p=524',\n",
       " 'https://topliba.com/genres/12090?p=525',\n",
       " 'https://topliba.com/genres/12090?p=526',\n",
       " 'https://topliba.com/genres/12090?p=527',\n",
       " 'https://topliba.com/genres/12090?p=528',\n",
       " 'https://topliba.com/genres/12090?p=529',\n",
       " 'https://topliba.com/genres/12090?p=530',\n",
       " 'https://topliba.com/genres/12090?p=531',\n",
       " 'https://topliba.com/genres/12090?p=532',\n",
       " 'https://topliba.com/genres/12090?p=533',\n",
       " 'https://topliba.com/genres/12090?p=534',\n",
       " 'https://topliba.com/genres/12090?p=535',\n",
       " 'https://topliba.com/genres/12090?p=536',\n",
       " 'https://topliba.com/genres/12090?p=537',\n",
       " 'https://topliba.com/genres/12090?p=538',\n",
       " 'https://topliba.com/genres/12090?p=539',\n",
       " 'https://topliba.com/genres/12090?p=540',\n",
       " 'https://topliba.com/genres/12090?p=541',\n",
       " 'https://topliba.com/genres/12090?p=542',\n",
       " 'https://topliba.com/genres/12090?p=543',\n",
       " 'https://topliba.com/genres/12090?p=544',\n",
       " 'https://topliba.com/genres/12090?p=545',\n",
       " 'https://topliba.com/genres/12090?p=546',\n",
       " 'https://topliba.com/genres/12090?p=547',\n",
       " 'https://topliba.com/genres/12090?p=548',\n",
       " 'https://topliba.com/genres/12090?p=549',\n",
       " 'https://topliba.com/genres/12090?p=550',\n",
       " 'https://topliba.com/genres/12090?p=551',\n",
       " 'https://topliba.com/genres/12090?p=552',\n",
       " 'https://topliba.com/genres/12090?p=553',\n",
       " 'https://topliba.com/genres/12090?p=554',\n",
       " 'https://topliba.com/genres/12090?p=555',\n",
       " 'https://topliba.com/genres/12090?p=556',\n",
       " 'https://topliba.com/genres/12090?p=557',\n",
       " 'https://topliba.com/genres/12090?p=558',\n",
       " 'https://topliba.com/genres/12090?p=559',\n",
       " 'https://topliba.com/genres/12090?p=560',\n",
       " 'https://topliba.com/genres/12090?p=561',\n",
       " 'https://topliba.com/genres/12090?p=562',\n",
       " 'https://topliba.com/genres/12090?p=563',\n",
       " 'https://topliba.com/genres/12090?p=564',\n",
       " 'https://topliba.com/genres/12090?p=565',\n",
       " 'https://topliba.com/genres/12090?p=566',\n",
       " 'https://topliba.com/genres/12090?p=567',\n",
       " 'https://topliba.com/genres/12090?p=568',\n",
       " 'https://topliba.com/genres/12090?p=569',\n",
       " 'https://topliba.com/genres/12090?p=570',\n",
       " 'https://topliba.com/genres/12090?p=571',\n",
       " 'https://topliba.com/genres/12090?p=572',\n",
       " 'https://topliba.com/genres/12090?p=573',\n",
       " 'https://topliba.com/genres/12090?p=574',\n",
       " 'https://topliba.com/genres/12090?p=575',\n",
       " 'https://topliba.com/genres/12090?p=576',\n",
       " 'https://topliba.com/genres/12090?p=577',\n",
       " 'https://topliba.com/genres/12090?p=578',\n",
       " 'https://topliba.com/genres/12090?p=579',\n",
       " 'https://topliba.com/genres/12090?p=580',\n",
       " 'https://topliba.com/genres/12090?p=581',\n",
       " 'https://topliba.com/genres/12090?p=582',\n",
       " 'https://topliba.com/genres/12090?p=583',\n",
       " 'https://topliba.com/genres/12090?p=584',\n",
       " 'https://topliba.com/genres/12090?p=585',\n",
       " 'https://topliba.com/genres/12090?p=586',\n",
       " 'https://topliba.com/genres/12090?p=587',\n",
       " 'https://topliba.com/genres/12090?p=588',\n",
       " 'https://topliba.com/genres/12090?p=589',\n",
       " 'https://topliba.com/genres/12090?p=590',\n",
       " 'https://topliba.com/genres/12090?p=591',\n",
       " 'https://topliba.com/genres/12090?p=592',\n",
       " 'https://topliba.com/genres/12090?p=593',\n",
       " 'https://topliba.com/genres/12090?p=594',\n",
       " 'https://topliba.com/genres/12090?p=595',\n",
       " 'https://topliba.com/genres/12090?p=596',\n",
       " 'https://topliba.com/genres/12090?p=597',\n",
       " 'https://topliba.com/genres/12090?p=598',\n",
       " 'https://topliba.com/genres/12090?p=599',\n",
       " 'https://topliba.com/genres/12090?p=600',\n",
       " 'https://topliba.com/genres/12090?p=601',\n",
       " 'https://topliba.com/genres/12090?p=602',\n",
       " 'https://topliba.com/genres/12090?p=603',\n",
       " 'https://topliba.com/genres/12090?p=604',\n",
       " 'https://topliba.com/genres/12090?p=605',\n",
       " 'https://topliba.com/genres/12090?p=606',\n",
       " 'https://topliba.com/genres/12090?p=607',\n",
       " 'https://topliba.com/genres/12090?p=608',\n",
       " 'https://topliba.com/genres/12090?p=609',\n",
       " 'https://topliba.com/genres/12090?p=610',\n",
       " 'https://topliba.com/genres/12090?p=611',\n",
       " 'https://topliba.com/genres/12090?p=612',\n",
       " 'https://topliba.com/genres/12090?p=613',\n",
       " 'https://topliba.com/genres/12090?p=614',\n",
       " 'https://topliba.com/genres/12090?p=615',\n",
       " 'https://topliba.com/genres/12090?p=616',\n",
       " 'https://topliba.com/genres/12090?p=617',\n",
       " 'https://topliba.com/genres/12090?p=618',\n",
       " 'https://topliba.com/genres/12090?p=619',\n",
       " 'https://topliba.com/genres/12090?p=620',\n",
       " 'https://topliba.com/genres/12090?p=621',\n",
       " 'https://topliba.com/genres/12090?p=622',\n",
       " 'https://topliba.com/genres/12090?p=623',\n",
       " 'https://topliba.com/genres/12090?p=624',\n",
       " 'https://topliba.com/genres/12090?p=625',\n",
       " 'https://topliba.com/genres/12090?p=626',\n",
       " 'https://topliba.com/genres/12090?p=627',\n",
       " 'https://topliba.com/genres/12090?p=628',\n",
       " 'https://topliba.com/genres/12090?p=629',\n",
       " 'https://topliba.com/genres/12090?p=630',\n",
       " 'https://topliba.com/genres/12090?p=631',\n",
       " 'https://topliba.com/genres/12090?p=632',\n",
       " 'https://topliba.com/genres/12090?p=633',\n",
       " 'https://topliba.com/genres/12090?p=634',\n",
       " 'https://topliba.com/genres/12090?p=635',\n",
       " 'https://topliba.com/genres/12090?p=636',\n",
       " 'https://topliba.com/genres/12090?p=637',\n",
       " 'https://topliba.com/genres/12090?p=638',\n",
       " 'https://topliba.com/genres/12090?p=639',\n",
       " 'https://topliba.com/genres/12090?p=640',\n",
       " 'https://topliba.com/genres/12090?p=641',\n",
       " 'https://topliba.com/genres/12090?p=642',\n",
       " 'https://topliba.com/genres/12090?p=643',\n",
       " 'https://topliba.com/genres/12090?p=644',\n",
       " 'https://topliba.com/genres/12090?p=645',\n",
       " 'https://topliba.com/genres/12090?p=646',\n",
       " 'https://topliba.com/genres/12090?p=647',\n",
       " 'https://topliba.com/genres/12090?p=648',\n",
       " 'https://topliba.com/genres/12090?p=649',\n",
       " 'https://topliba.com/genres/12090?p=650',\n",
       " 'https://topliba.com/genres/12090?p=651',\n",
       " 'https://topliba.com/genres/12090?p=652',\n",
       " 'https://topliba.com/genres/12090?p=653',\n",
       " 'https://topliba.com/genres/12090?p=654',\n",
       " 'https://topliba.com/genres/12090?p=655',\n",
       " 'https://topliba.com/genres/12090?p=656',\n",
       " 'https://topliba.com/genres/12090?p=657',\n",
       " 'https://topliba.com/genres/12090?p=658',\n",
       " 'https://topliba.com/genres/12090?p=659',\n",
       " 'https://topliba.com/genres/12090?p=660',\n",
       " 'https://topliba.com/genres/12090?p=661',\n",
       " 'https://topliba.com/genres/12090?p=662',\n",
       " 'https://topliba.com/genres/12090?p=663',\n",
       " 'https://topliba.com/genres/12090?p=664',\n",
       " 'https://topliba.com/genres/12090?p=665',\n",
       " 'https://topliba.com/genres/12090?p=666',\n",
       " 'https://topliba.com/genres/12090?p=667',\n",
       " 'https://topliba.com/genres/12090?p=668',\n",
       " 'https://topliba.com/genres/12090?p=669',\n",
       " 'https://topliba.com/genres/12090?p=670',\n",
       " 'https://topliba.com/genres/12090?p=671',\n",
       " 'https://topliba.com/genres/12090?p=672',\n",
       " 'https://topliba.com/genres/12090?p=673',\n",
       " 'https://topliba.com/genres/12090?p=674',\n",
       " 'https://topliba.com/genres/12090?p=675',\n",
       " 'https://topliba.com/genres/12090?p=676',\n",
       " 'https://topliba.com/genres/12090?p=677',\n",
       " 'https://topliba.com/genres/12090?p=678',\n",
       " 'https://topliba.com/genres/12090?p=679',\n",
       " 'https://topliba.com/genres/12090?p=680',\n",
       " 'https://topliba.com/genres/12090?p=681',\n",
       " 'https://topliba.com/genres/12090?p=682',\n",
       " 'https://topliba.com/genres/12090?p=683',\n",
       " 'https://topliba.com/genres/12090?p=684',\n",
       " 'https://topliba.com/genres/12090?p=685',\n",
       " 'https://topliba.com/genres/12090?p=686',\n",
       " 'https://topliba.com/genres/12090?p=687',\n",
       " 'https://topliba.com/genres/12090?p=688',\n",
       " 'https://topliba.com/genres/12090?p=689',\n",
       " 'https://topliba.com/genres/12090?p=690',\n",
       " 'https://topliba.com/genres/12090?p=691',\n",
       " 'https://topliba.com/genres/12090?p=692',\n",
       " 'https://topliba.com/genres/12090?p=693',\n",
       " 'https://topliba.com/genres/12090?p=694',\n",
       " 'https://topliba.com/genres/12090?p=695',\n",
       " 'https://topliba.com/genres/12090?p=696',\n",
       " 'https://topliba.com/genres/12090?p=697',\n",
       " 'https://topliba.com/genres/12090?p=698',\n",
       " 'https://topliba.com/genres/12090?p=699',\n",
       " 'https://topliba.com/genres/12090?p=700',\n",
       " 'https://topliba.com/genres/12090?p=701',\n",
       " 'https://topliba.com/genres/12090?p=702',\n",
       " 'https://topliba.com/genres/12090?p=703',\n",
       " 'https://topliba.com/genres/12090?p=704',\n",
       " 'https://topliba.com/genres/12090?p=705',\n",
       " 'https://topliba.com/genres/12090?p=706',\n",
       " 'https://topliba.com/genres/12090?p=707',\n",
       " 'https://topliba.com/genres/12090?p=708',\n",
       " 'https://topliba.com/genres/12090?p=709',\n",
       " 'https://topliba.com/genres/12090?p=710',\n",
       " 'https://topliba.com/genres/12090?p=711',\n",
       " 'https://topliba.com/genres/12090?p=712',\n",
       " 'https://topliba.com/genres/12090?p=713',\n",
       " 'https://topliba.com/genres/12090?p=714',\n",
       " 'https://topliba.com/genres/12090?p=715',\n",
       " 'https://topliba.com/genres/12090?p=716',\n",
       " 'https://topliba.com/genres/12090?p=717',\n",
       " 'https://topliba.com/genres/12090?p=718',\n",
       " 'https://topliba.com/genres/12090?p=719',\n",
       " 'https://topliba.com/genres/12090?p=720',\n",
       " 'https://topliba.com/genres/12090?p=721',\n",
       " 'https://topliba.com/genres/12090?p=722',\n",
       " 'https://topliba.com/genres/12090?p=723',\n",
       " 'https://topliba.com/genres/12090?p=724',\n",
       " 'https://topliba.com/genres/12090?p=725',\n",
       " 'https://topliba.com/genres/12090?p=726',\n",
       " 'https://topliba.com/genres/12090?p=727',\n",
       " 'https://topliba.com/genres/12090?p=728',\n",
       " 'https://topliba.com/genres/12090?p=729',\n",
       " 'https://topliba.com/genres/12090?p=730',\n",
       " 'https://topliba.com/genres/12090?p=731',\n",
       " 'https://topliba.com/genres/12090?p=732',\n",
       " 'https://topliba.com/genres/12090?p=733',\n",
       " 'https://topliba.com/genres/12090?p=734',\n",
       " 'https://topliba.com/genres/12090?p=735',\n",
       " 'https://topliba.com/genres/12090?p=736',\n",
       " 'https://topliba.com/genres/12090?p=737',\n",
       " 'https://topliba.com/genres/12090?p=738',\n",
       " 'https://topliba.com/genres/12090?p=739',\n",
       " 'https://topliba.com/genres/12090?p=740',\n",
       " 'https://topliba.com/genres/12090?p=741',\n",
       " 'https://topliba.com/genres/12090?p=742',\n",
       " 'https://topliba.com/genres/12090?p=743',\n",
       " 'https://topliba.com/genres/12090?p=744',\n",
       " 'https://topliba.com/genres/12090?p=745',\n",
       " 'https://topliba.com/genres/12090?p=746',\n",
       " 'https://topliba.com/genres/12090?p=747',\n",
       " 'https://topliba.com/genres/12090?p=748',\n",
       " 'https://topliba.com/genres/12090?p=749',\n",
       " 'https://topliba.com/genres/12090?p=750',\n",
       " 'https://topliba.com/genres/12090?p=751',\n",
       " 'https://topliba.com/genres/12090?p=752',\n",
       " 'https://topliba.com/genres/12090?p=753',\n",
       " 'https://topliba.com/genres/12090?p=754',\n",
       " 'https://topliba.com/genres/12090?p=755',\n",
       " 'https://topliba.com/genres/12090?p=756',\n",
       " 'https://topliba.com/genres/12090?p=757',\n",
       " 'https://topliba.com/genres/12090?p=758',\n",
       " 'https://topliba.com/genres/12090?p=759',\n",
       " 'https://topliba.com/genres/12090?p=760',\n",
       " 'https://topliba.com/genres/12090?p=761',\n",
       " 'https://topliba.com/genres/12090?p=762',\n",
       " 'https://topliba.com/genres/12090?p=763',\n",
       " 'https://topliba.com/genres/12090?p=764',\n",
       " 'https://topliba.com/genres/12090?p=765',\n",
       " 'https://topliba.com/genres/12090?p=766',\n",
       " 'https://topliba.com/genres/12090?p=767',\n",
       " 'https://topliba.com/genres/12090?p=768',\n",
       " 'https://topliba.com/genres/12090?p=769',\n",
       " 'https://topliba.com/genres/12090?p=770',\n",
       " 'https://topliba.com/genres/12090?p=771',\n",
       " 'https://topliba.com/genres/12090?p=772',\n",
       " 'https://topliba.com/genres/12090?p=773',\n",
       " 'https://topliba.com/genres/12090?p=774',\n",
       " 'https://topliba.com/genres/12090?p=775',\n",
       " 'https://topliba.com/genres/12090?p=776',\n",
       " 'https://topliba.com/genres/12090?p=777',\n",
       " 'https://topliba.com/genres/12090?p=778',\n",
       " 'https://topliba.com/genres/12090?p=779',\n",
       " 'https://topliba.com/genres/12090?p=780',\n",
       " 'https://topliba.com/genres/12090?p=781',\n",
       " 'https://topliba.com/genres/12090?p=782',\n",
       " 'https://topliba.com/genres/12090?p=783',\n",
       " 'https://topliba.com/genres/12090?p=784',\n",
       " 'https://topliba.com/genres/12090?p=785',\n",
       " 'https://topliba.com/genres/12090?p=786',\n",
       " 'https://topliba.com/genres/12090?p=787',\n",
       " 'https://topliba.com/genres/12090?p=788',\n",
       " 'https://topliba.com/genres/12090?p=789',\n",
       " 'https://topliba.com/genres/12090?p=790',\n",
       " 'https://topliba.com/genres/12090?p=791',\n",
       " 'https://topliba.com/genres/12090?p=792',\n",
       " 'https://topliba.com/genres/12090?p=793',\n",
       " 'https://topliba.com/genres/12090?p=794',\n",
       " 'https://topliba.com/genres/12090?p=795',\n",
       " 'https://topliba.com/genres/12090?p=796',\n",
       " 'https://topliba.com/genres/12090?p=797',\n",
       " 'https://topliba.com/genres/12090?p=798',\n",
       " 'https://topliba.com/genres/12090?p=799',\n",
       " 'https://topliba.com/genres/12090?p=800',\n",
       " 'https://topliba.com/genres/12090?p=801',\n",
       " 'https://topliba.com/genres/12090?p=802',\n",
       " 'https://topliba.com/genres/12090?p=803',\n",
       " 'https://topliba.com/genres/12090?p=804',\n",
       " 'https://topliba.com/genres/12090?p=805',\n",
       " 'https://topliba.com/genres/12090?p=806',\n",
       " 'https://topliba.com/genres/12090?p=807',\n",
       " 'https://topliba.com/genres/12090?p=808',\n",
       " 'https://topliba.com/genres/12090?p=809',\n",
       " 'https://topliba.com/genres/12090?p=810',\n",
       " 'https://topliba.com/genres/12090?p=811',\n",
       " 'https://topliba.com/genres/12090?p=812',\n",
       " 'https://topliba.com/genres/12090?p=813',\n",
       " 'https://topliba.com/genres/12090?p=814',\n",
       " 'https://topliba.com/genres/12090?p=815',\n",
       " 'https://topliba.com/genres/12090?p=816',\n",
       " 'https://topliba.com/genres/12090?p=817',\n",
       " 'https://topliba.com/genres/12090?p=818',\n",
       " 'https://topliba.com/genres/12090?p=819',\n",
       " 'https://topliba.com/genres/12090?p=820',\n",
       " 'https://topliba.com/genres/12090?p=821',\n",
       " 'https://topliba.com/genres/12090?p=822',\n",
       " 'https://topliba.com/genres/12090?p=823',\n",
       " 'https://topliba.com/genres/12090?p=824',\n",
       " 'https://topliba.com/genres/12090?p=825',\n",
       " 'https://topliba.com/genres/12090?p=826',\n",
       " 'https://topliba.com/genres/12090?p=827',\n",
       " 'https://topliba.com/genres/12090?p=828',\n",
       " 'https://topliba.com/genres/12090?p=829',\n",
       " 'https://topliba.com/genres/12090?p=830',\n",
       " 'https://topliba.com/genres/12090?p=831',\n",
       " 'https://topliba.com/genres/12090?p=832',\n",
       " 'https://topliba.com/genres/12090?p=833',\n",
       " 'https://topliba.com/genres/12090?p=834',\n",
       " 'https://topliba.com/genres/12090?p=835',\n",
       " 'https://topliba.com/genres/12090?p=836',\n",
       " 'https://topliba.com/genres/12090?p=837',\n",
       " 'https://topliba.com/genres/12090?p=838',\n",
       " 'https://topliba.com/genres/12090?p=839',\n",
       " 'https://topliba.com/genres/12090?p=840',\n",
       " 'https://topliba.com/genres/12090?p=841',\n",
       " 'https://topliba.com/genres/12090?p=842',\n",
       " 'https://topliba.com/genres/12090?p=843',\n",
       " 'https://topliba.com/genres/12090?p=844',\n",
       " 'https://topliba.com/genres/12090?p=845',\n",
       " 'https://topliba.com/genres/12090?p=846',\n",
       " 'https://topliba.com/genres/12090?p=847',\n",
       " 'https://topliba.com/genres/12090?p=848',\n",
       " 'https://topliba.com/genres/12090?p=849',\n",
       " 'https://topliba.com/genres/12090?p=850',\n",
       " 'https://topliba.com/genres/12090?p=851',\n",
       " 'https://topliba.com/genres/12090?p=852',\n",
       " 'https://topliba.com/genres/12090?p=853',\n",
       " 'https://topliba.com/genres/12090?p=854',\n",
       " 'https://topliba.com/genres/12090?p=855',\n",
       " 'https://topliba.com/genres/12090?p=856',\n",
       " 'https://topliba.com/genres/12090?p=857',\n",
       " 'https://topliba.com/genres/12090?p=858',\n",
       " 'https://topliba.com/genres/12090?p=859',\n",
       " 'https://topliba.com/genres/12090?p=860',\n",
       " 'https://topliba.com/genres/12090?p=861',\n",
       " 'https://topliba.com/genres/12090?p=862',\n",
       " 'https://topliba.com/genres/12090?p=863',\n",
       " 'https://topliba.com/genres/12090?p=864',\n",
       " 'https://topliba.com/genres/12090?p=865',\n",
       " 'https://topliba.com/genres/12090?p=866',\n",
       " 'https://topliba.com/genres/12090?p=867',\n",
       " 'https://topliba.com/genres/12090?p=868',\n",
       " 'https://topliba.com/genres/12090?p=869',\n",
       " 'https://topliba.com/genres/12090?p=870',\n",
       " 'https://topliba.com/genres/12090?p=871',\n",
       " 'https://topliba.com/genres/12090?p=872',\n",
       " 'https://topliba.com/genres/12090?p=873',\n",
       " 'https://topliba.com/genres/12090?p=874',\n",
       " 'https://topliba.com/genres/12090?p=875',\n",
       " 'https://topliba.com/genres/12090?p=876',\n",
       " 'https://topliba.com/genres/12090?p=877',\n",
       " 'https://topliba.com/genres/12090?p=878',\n",
       " 'https://topliba.com/genres/12090?p=879',\n",
       " 'https://topliba.com/genres/12090?p=880',\n",
       " 'https://topliba.com/genres/12090?p=881',\n",
       " 'https://topliba.com/genres/12090?p=882',\n",
       " 'https://topliba.com/genres/12090?p=883',\n",
       " 'https://topliba.com/genres/12090?p=884',\n",
       " 'https://topliba.com/genres/12090?p=885',\n",
       " 'https://topliba.com/genres/12090?p=886',\n",
       " 'https://topliba.com/genres/12090?p=887',\n",
       " 'https://topliba.com/genres/12090?p=888',\n",
       " 'https://topliba.com/genres/12090?p=889',\n",
       " 'https://topliba.com/genres/12090?p=890',\n",
       " 'https://topliba.com/genres/12090?p=891',\n",
       " 'https://topliba.com/genres/12090?p=892',\n",
       " 'https://topliba.com/genres/12090?p=893',\n",
       " 'https://topliba.com/genres/12090?p=894',\n",
       " 'https://topliba.com/genres/12090?p=895',\n",
       " 'https://topliba.com/genres/12090?p=896',\n",
       " 'https://topliba.com/genres/12090?p=897',\n",
       " 'https://topliba.com/genres/12090?p=898',\n",
       " 'https://topliba.com/genres/12090?p=899',\n",
       " 'https://topliba.com/genres/12090?p=900',\n",
       " 'https://topliba.com/genres/12090?p=901',\n",
       " 'https://topliba.com/genres/12090?p=902',\n",
       " 'https://topliba.com/genres/12090?p=903',\n",
       " 'https://topliba.com/genres/12090?p=904',\n",
       " 'https://topliba.com/genres/12090?p=905',\n",
       " 'https://topliba.com/genres/12090?p=906',\n",
       " 'https://topliba.com/genres/12090?p=907',\n",
       " 'https://topliba.com/genres/12090?p=908',\n",
       " 'https://topliba.com/genres/12090?p=909',\n",
       " 'https://topliba.com/genres/12090?p=910',\n",
       " 'https://topliba.com/genres/12090?p=911',\n",
       " 'https://topliba.com/genres/12090?p=912',\n",
       " 'https://topliba.com/genres/12090?p=913',\n",
       " 'https://topliba.com/genres/12090?p=914',\n",
       " 'https://topliba.com/genres/12090?p=915',\n",
       " 'https://topliba.com/genres/12090?p=916',\n",
       " 'https://topliba.com/genres/12090?p=917',\n",
       " 'https://topliba.com/genres/12090?p=918',\n",
       " 'https://topliba.com/genres/12090?p=919',\n",
       " 'https://topliba.com/genres/12090?p=920',\n",
       " 'https://topliba.com/genres/12090?p=921',\n",
       " 'https://topliba.com/genres/12090?p=922',\n",
       " 'https://topliba.com/genres/12090?p=923',\n",
       " 'https://topliba.com/genres/12090?p=924',\n",
       " 'https://topliba.com/genres/12090?p=925',\n",
       " 'https://topliba.com/genres/12090?p=926',\n",
       " 'https://topliba.com/genres/12090?p=927',\n",
       " 'https://topliba.com/genres/12090?p=928',\n",
       " 'https://topliba.com/genres/12090?p=929',\n",
       " 'https://topliba.com/genres/12090?p=930',\n",
       " 'https://topliba.com/genres/12090?p=931',\n",
       " 'https://topliba.com/genres/12090?p=932',\n",
       " 'https://topliba.com/genres/12090?p=933',\n",
       " 'https://topliba.com/genres/12090?p=934',\n",
       " 'https://topliba.com/genres/12090?p=935',\n",
       " 'https://topliba.com/genres/12090?p=936',\n",
       " 'https://topliba.com/genres/12090?p=937',\n",
       " 'https://topliba.com/genres/12090?p=938',\n",
       " 'https://topliba.com/genres/12090?p=939',\n",
       " 'https://topliba.com/genres/12090?p=940',\n",
       " 'https://topliba.com/genres/12090?p=941',\n",
       " 'https://topliba.com/genres/12090?p=942',\n",
       " 'https://topliba.com/genres/12090?p=943',\n",
       " 'https://topliba.com/genres/12090?p=944',\n",
       " 'https://topliba.com/genres/12090?p=945',\n",
       " 'https://topliba.com/genres/12090?p=946',\n",
       " 'https://topliba.com/genres/12090?p=947',\n",
       " 'https://topliba.com/genres/12090?p=948',\n",
       " 'https://topliba.com/genres/12090?p=949',\n",
       " 'https://topliba.com/genres/12090?p=950',\n",
       " 'https://topliba.com/genres/12090?p=951',\n",
       " 'https://topliba.com/genres/12090?p=952',\n",
       " 'https://topliba.com/genres/12090?p=953',\n",
       " 'https://topliba.com/genres/12090?p=954',\n",
       " 'https://topliba.com/genres/12090?p=955',\n",
       " 'https://topliba.com/genres/12090?p=956',\n",
       " 'https://topliba.com/genres/12090?p=957',\n",
       " 'https://topliba.com/genres/12090?p=958',\n",
       " 'https://topliba.com/genres/12090?p=959',\n",
       " 'https://topliba.com/genres/12090?p=960',\n",
       " 'https://topliba.com/genres/12090?p=961',\n",
       " 'https://topliba.com/genres/12090?p=962',\n",
       " 'https://topliba.com/genres/12090?p=963',\n",
       " 'https://topliba.com/genres/12090?p=964',\n",
       " 'https://topliba.com/genres/12090?p=965',\n",
       " 'https://topliba.com/genres/12090?p=966',\n",
       " 'https://topliba.com/genres/12090?p=967',\n",
       " 'https://topliba.com/genres/12090?p=968',\n",
       " 'https://topliba.com/genres/12090?p=969',\n",
       " 'https://topliba.com/genres/12090?p=970',\n",
       " 'https://topliba.com/genres/12090?p=971',\n",
       " 'https://topliba.com/genres/12090?p=972',\n",
       " 'https://topliba.com/genres/12090?p=973',\n",
       " 'https://topliba.com/genres/12090?p=974',\n",
       " 'https://topliba.com/genres/12090?p=975',\n",
       " 'https://topliba.com/genres/12090?p=976',\n",
       " 'https://topliba.com/genres/12090?p=977',\n",
       " 'https://topliba.com/genres/12090?p=978',\n",
       " 'https://topliba.com/genres/12090?p=979',\n",
       " 'https://topliba.com/genres/12090?p=980',\n",
       " 'https://topliba.com/genres/12090?p=981',\n",
       " 'https://topliba.com/genres/12090?p=982',\n",
       " 'https://topliba.com/genres/12090?p=983',\n",
       " 'https://topliba.com/genres/12090?p=984',\n",
       " 'https://topliba.com/genres/12090?p=985',\n",
       " 'https://topliba.com/genres/12090?p=986',\n",
       " 'https://topliba.com/genres/12090?p=987',\n",
       " 'https://topliba.com/genres/12090?p=988',\n",
       " 'https://topliba.com/genres/12090?p=989',\n",
       " 'https://topliba.com/genres/12090?p=990',\n",
       " 'https://topliba.com/genres/12090?p=991',\n",
       " 'https://topliba.com/genres/12090?p=992',\n",
       " 'https://topliba.com/genres/12090?p=993',\n",
       " 'https://topliba.com/genres/12090?p=994',\n",
       " 'https://topliba.com/genres/12090?p=995',\n",
       " 'https://topliba.com/genres/12090?p=996',\n",
       " 'https://topliba.com/genres/12090?p=997',\n",
       " 'https://topliba.com/genres/12090?p=998',\n",
       " 'https://topliba.com/genres/12090?p=999',\n",
       " 'https://topliba.com/genres/12090?p=1000']"
      ]
     },
     "execution_count": 262,
     "metadata": {},
     "output_type": "execute_result"
    }
   ],
   "source": [
    "book_links"
   ]
  },
  {
   "cell_type": "code",
   "execution_count": 55,
   "metadata": {},
   "outputs": [
    {
     "name": "stderr",
     "output_type": "stream",
     "text": [
      "C:\\Users\\Olga\\AppData\\Local\\Temp\\ipykernel_5852\\2189728397.py:1: TqdmDeprecationWarning: This function will be removed in tqdm==5.0.0\n",
      "Please use `tqdm.notebook.tqdm` instead of `tqdm.tqdm_notebook`\n",
      "  for book_link in tqdm_notebook(book_links):\n"
     ]
    },
    {
     "data": {
      "application/vnd.jupyter.widget-view+json": {
       "model_id": "7057b41197d640d494dd99319de1946e",
       "version_major": 2,
       "version_minor": 0
      },
      "text/plain": [
       "  0%|          | 0/1000 [00:00<?, ?it/s]"
      ]
     },
     "metadata": {},
     "output_type": "display_data"
    }
   ],
   "source": [
    "for book_link in tqdm_notebook(book_links):\n",
    "    try:\n",
    "        data_row = getBookData(book_link)\n",
    "        final_df = final_df.append(data_row, ignore_index=True)\n",
    "        time.sleep(0.3)\n",
    "    except:\n",
    "        continue"
   ]
  },
  {
   "cell_type": "code",
   "execution_count": 56,
   "metadata": {},
   "outputs": [
    {
     "data": {
      "text/html": [
       "<div>\n",
       "<style scoped>\n",
       "    .dataframe tbody tr th:only-of-type {\n",
       "        vertical-align: middle;\n",
       "    }\n",
       "\n",
       "    .dataframe tbody tr th {\n",
       "        vertical-align: top;\n",
       "    }\n",
       "\n",
       "    .dataframe thead th {\n",
       "        text-align: right;\n",
       "    }\n",
       "</style>\n",
       "<table border=\"1\" class=\"dataframe\">\n",
       "  <thead>\n",
       "    <tr style=\"text-align: right;\">\n",
       "      <th></th>\n",
       "      <th>Title</th>\n",
       "      <th>Author</th>\n",
       "      <th>Description</th>\n",
       "      <th>Raiting</th>\n",
       "      <th>Readers</th>\n",
       "      <th>Comments</th>\n",
       "    </tr>\n",
       "  </thead>\n",
       "  <tbody>\n",
       "  </tbody>\n",
       "</table>\n",
       "</div>"
      ],
      "text/plain": [
       "Empty DataFrame\n",
       "Columns: [Title, Author, Description, Raiting, Readers, Comments]\n",
       "Index: []"
      ]
     },
     "execution_count": 56,
     "metadata": {},
     "output_type": "execute_result"
    }
   ],
   "source": [
    "final_df.head()"
   ]
  },
  {
   "cell_type": "code",
   "execution_count": null,
   "metadata": {},
   "outputs": [],
   "source": []
  }
 ],
 "metadata": {
  "kernelspec": {
   "display_name": "Python 3 (ipykernel)",
   "language": "python",
   "name": "python3"
  },
  "language_info": {
   "codemirror_mode": {
    "name": "ipython",
    "version": 3
   },
   "file_extension": ".py",
   "mimetype": "text/x-python",
   "name": "python",
   "nbconvert_exporter": "python",
   "pygments_lexer": "ipython3",
   "version": "3.9.16"
  }
 },
 "nbformat": 4,
 "nbformat_minor": 4
}
