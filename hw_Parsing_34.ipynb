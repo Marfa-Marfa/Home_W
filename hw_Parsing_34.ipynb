{
 "cells": [
  {
   "cell_type": "code",
   "execution_count": 1,
   "metadata": {},
   "outputs": [],
   "source": [
    "#!pip install fake_useragent"
   ]
  },
  {
   "cell_type": "code",
   "execution_count": 1,
   "metadata": {},
   "outputs": [],
   "source": [
    "import pandas as pd\n",
    "import numpy as np\n",
    "import requests\n",
    "import time\n",
    "from bs4 import BeautifulSoup\n",
    "from fake_useragent import UserAgent\n",
    "from tqdm import tqdm_notebook"
   ]
  },
  {
   "cell_type": "code",
   "execution_count": 2,
   "metadata": {},
   "outputs": [],
   "source": [
    "# подгрузим один из методов этой библиотеки\n",
    "from fake_useragent import UserAgent"
   ]
  },
  {
   "cell_type": "code",
   "execution_count": 3,
   "metadata": {},
   "outputs": [
    {
     "data": {
      "text/plain": [
       "'Mozilla/5.0 (Windows NT 10.0; Win64; x64) AppleWebKit/537.36 (KHTML, like Gecko) Chrome/116.0.0.0 Safari/537.36'"
      ]
     },
     "execution_count": 3,
     "metadata": {},
     "output_type": "execute_result"
    }
   ],
   "source": [
    "UserAgent().chrome"
   ]
  },
  {
   "cell_type": "markdown",
   "metadata": {},
   "source": [
    "## Описание задачи\n",
    "\n",
    "Парсинг сайта https://topliba.com/ с целью сбора данных (рейтинг, название фильма, описание, жанр, год выпуска) по жанру Фэнтези. Дело в том, что большинство современных книжный сайтов не предоставляют возможности делать сквозной  поиск по всем страницам, а только в рамках делений по жанрам. Наиболее представленный жанр н данном сайте - фэнтези (783 страницы поиска) по нему и будем делать парсинг. На данном сайте список фильмов подгружается динамически по страницам. Обратимся к странице Фэнтези, и запишем запрос к данной странице."
   ]
  },
  {
   "cell_type": "code",
   "execution_count": 4,
   "metadata": {},
   "outputs": [],
   "source": [
    "page_link = 'https://topliba.com/genres/12090?p=1'"
   ]
  },
  {
   "cell_type": "code",
   "execution_count": 5,
   "metadata": {},
   "outputs": [
    {
     "data": {
      "text/plain": [
       "<Response [200]>"
      ]
     },
     "execution_count": 5,
     "metadata": {},
     "output_type": "execute_result"
    }
   ],
   "source": [
    "response = requests.get(page_link, headers={'User-Agent': UserAgent().chrome})\n",
    "response"
   ]
  },
  {
   "cell_type": "code",
   "execution_count": 6,
   "metadata": {},
   "outputs": [],
   "source": [
    "html = response.content"
   ]
  },
  {
   "cell_type": "markdown",
   "metadata": {},
   "source": [
    "### Получение ссылок с фильмами\n",
    "\n",
    "С помощью библиотеки BeautifulSoup распарсим страницу и найдем ссылки книгам. "
   ]
  },
  {
   "cell_type": "code",
   "execution_count": 7,
   "metadata": {},
   "outputs": [],
   "source": [
    "soup = BeautifulSoup(response.content, 'html.parser')"
   ]
  },
  {
   "cell_type": "code",
   "execution_count": 8,
   "metadata": {},
   "outputs": [
    {
     "data": {
      "text/plain": [
       "b'<!DOCTYPE html>\\n<html lang=\"ru\">\\n    <head>\\n        <meta charset=\"utf-8\">\\n        <meta http-equiv=\"X-UA-Compatible\" content=\"IE=edge\">\\n        <meta name=\"viewport\" content=\"width=device-width, initial-scale=1\">\\n        <title>\\xd0\\xa4\\xd1\\x8d\\xd0\\xbd\\xd1\\x82\\xd0\\xb5\\xd0\\xb7\\xd0\\xb8: \\xd1\\x81\\xd0\\xba\\xd0\\xb0\\xd1\\x87\\xd0\\xb0\\xd1\\x82\\xd1\\x8c \\xd0\\xba\\xd0\\xbd\\xd0\\xb8\\xd0\\xb3\\xd0\\xb8 \\xd0\\xb2 fb2, \\xd1\\x87\\xd0\\xb8\\xd1\\x82\\xd0\\xb0\\xd1\\x82\\xd1\\x8c \\xd0\\xbe\\xd0\\xbd\\xd0\\xbb\\xd0\\xb0\\xd0\\xb9\\xd0\\xbd \\xe2\\x80\\xa2 \\xd0\\xa1\\xd1\\x82\\xd1\\x80\\xd0\\xb0\\xd0\\xbd\\xd0\\xb8\\xd1\\x86\\xd0\\xb0 1</title>\\n        <meta name=\"description\" content=\"\\xd0\\x9a\\xd0\\xbd\\xd0\\xb8\\xd0\\xb3\\xd0\\xb8 \\xd0\\xb6\\xd0\\xb0\\xd0\\xbd\\xd1\\x80\\xd0\\xb0 \\xd0\\xa4\\xd1\\x8d\\xd0\\xbd\\xd1\\x82\\xd0\\xb5\\xd0\\xb7\\xd0\\xb8 \\xd0\\xb4\\xd0\\xbe\\xd1\\x81\\xd1\\x82\\xd1\\x83\\xd0\\xbf\\xd0\\xbd\\xd1\\x8b\\xd0\\xb5 \\xd0\\xb2 \\xd1\\x84\\xd0\\xbe\\xd1\\x80\\xd0\\xbc\\xd0\\xb0\\xd1\\x82\\xd0\\xb5 fb2, \\xd0\\xb0 \\xd1\\x82\\xd0\\xb0\\xd0\\xba\\xd0\\xb6\\xd0\\xb5 \\xd0\\xb4\\xd0\\xbb\\xd1\\x8f \\xd1\\x87\\xd1\\x82\\xd0\\xb5\\xd0\\xbd\\xd0\\xb8\\xd1\\x8f \\xd0\\xbe\\xd0\\xbd\\xd0\\xbb\\xd0\\xb0\\xd0\\xb9\\xd0\\xbd \\xe2\\x80\\xa2 \\xd0\\xa1\\xd1\\x82\\xd1\\x80\\xd0\\xb0\\xd0\\xbd\\xd0\\xb8\\xd1\\x86\\xd0\\xb0 1 \\xe2\\x80\\xa2 \\xd0\\xa1\\xd0\\xbe\\xd1\\x80\\xd1\\x82\\xd0\\xb8\\xd1\\x80\\xd0\\xbe\\xd0\\xb2\\xd0\\xba\\xd0\\xb0 \\xd0\\xbf\\xd0\\xbe \\xd0\\xb4\\xd0\\xb0\\xd1\\x82\\xd0\\xb5 \\xd0\\xb4\\xd0\\xbe\\xd0\\xb1\\xd0\\xb0\\xd0\\xb2\\xd0\\xbb\\xd0\\xb5\\xd0\\xbd\\xd0\\xb8\\xd1\\x8f \\xe2\\x87\\xa3\" />\\n        <meta name=\"robots\" content=\"all\" />\\n                <link rel=\"alternate\" type=\"application/rss+xml\" title=\"RSS\" href=\"https://topliba.com/rss.xml\" />\\n        <link rel=\"apple-touch-icon\" sizes=\"180x180\" href=\"/images/apple-touch-icon.png\">\\n        <link rel=\"icon\" type=\"image/png\" sizes=\"32x32\" href=\"/images/favicon-32x32.png\">\\n        <link rel=\"icon\" type=\"image/png\" sizes=\"16x16\" href=\"/im'"
      ]
     },
     "execution_count": 8,
     "metadata": {},
     "output_type": "execute_result"
    }
   ],
   "source": [
    "response = requests.get(page_link, headers={'User-Agent': UserAgent().chrome})\n",
    "html = response.content\n",
    "html[:1000]"
   ]
  },
  {
   "cell_type": "code",
   "execution_count": 9,
   "metadata": {},
   "outputs": [
    {
     "data": {
      "text/plain": [
       "[<a class=\"book-title\" href=\"https://topliba.com/books/898377\" title=\"Скачать книгу Новая жизнь темного властелина. Часть 1\">Новая жизнь темного властелина. Часть 1</a>,\n",
       " <a class=\"book-title\" href=\"https://topliba.com/books/898358\" title=\"Скачать книгу Не выпускайте чудовищ из шкафа\">Не выпускайте чудовищ из шкафа</a>,\n",
       " <a class=\"book-title\" href=\"https://topliba.com/books/898208\" title=\"Скачать книгу Земная\">Земная</a>,\n",
       " <a class=\"book-title\" href=\"https://topliba.com/books/898197\" title=\"Скачать книгу Проклятая\">Проклятая</a>,\n",
       " <a class=\"book-title\" href=\"https://topliba.com/books/898032\" title=\"Скачать книгу Этот лот (не) продается!!!\">Этот лот (не) продается!!!</a>,\n",
       " <a class=\"book-title\" href=\"https://topliba.com/books/897776\" title=\"Скачать книгу Дитя солнца\">Дитя солнца</a>]"
      ]
     },
     "execution_count": 9,
     "metadata": {},
     "output_type": "execute_result"
    }
   ],
   "source": [
    "book_container = soup.findAll(lambda tag: tag.name == 'a' and tag.get('class') == ['book-title'])\n",
    "book_container[:6]"
   ]
  },
  {
   "cell_type": "code",
   "execution_count": 10,
   "metadata": {},
   "outputs": [
    {
     "data": {
      "text/plain": [
       "['https://topliba.com/books/898377',\n",
       " 'https://topliba.com/books/898358',\n",
       " 'https://topliba.com/books/898208',\n",
       " 'https://topliba.com/books/898197',\n",
       " 'https://topliba.com/books/898032',\n",
       " 'https://topliba.com/books/897776']"
      ]
     },
     "execution_count": 10,
     "metadata": {},
     "output_type": "execute_result"
    }
   ],
   "source": [
    "# Cписок ссылок на каждую книгу со страницы\n",
    "book_links = [link.attrs['href'] for link in \n",
    "                  soup.findAll(lambda tag: tag.name == 'a' and tag.get('class') == ['book-title'])]\n",
    "book_links[:6]"
   ]
  },
  {
   "cell_type": "markdown",
   "metadata": {},
   "source": [
    "На сайте https://topliba.com/ book_links уже выводятся полностью, вместе с названием сайта, поэтому вместо ['https://topliba.com' + link.attrs['href'] for link in book_links] будем подставлять только ['link.attrs['href'] for link in book_links]"
   ]
  },
  {
   "cell_type": "code",
   "execution_count": 11,
   "metadata": {},
   "outputs": [],
   "source": [
    "def getPageLinks(page_number): # функция для вытаскивания ссылок на конкретные книги,\n",
    "                               # возвращает список из ссылок на книги, полученные с текущей страницы  \n",
    "                               # Параметры: page_number: int/string - номер страницы для парсинга            \n",
    "    \n",
    "    # составляем ссылку на страницу поиска\n",
    "    page_link = 'https://topliba.com/genres/12090?p={}'.format(page_number)\n",
    "    \n",
    "    # запрашиваем данные о ней\n",
    "    response = requests.get(page_link, headers={'User-Agent': UserAgent().chrome})\n",
    "        \n",
    "    if not response.ok:\n",
    "        # если сервер нам отказал, вернем пустой лист для текущей страницы\n",
    "        print('Сервер ничего не вернул')\n",
    "        return [] \n",
    "    \n",
    "    # получаем содержимое страницы и переводим в суп\n",
    "    soup = BeautifulSoup(response.content, 'html.parser')\n",
    "    \n",
    "    # ищем ссылки на книги и формируем полные ссылки\n",
    "    book_links = soup.findAll(lambda tag: tag.name == 'a' and tag.get('class') == ['book-title'])\n",
    "    book_links = [link.attrs['href'] for link in book_links]\n",
    "    \n",
    "    return book_links"
   ]
  },
  {
   "cell_type": "code",
   "execution_count": 12,
   "metadata": {},
   "outputs": [],
   "source": [
    "# book_links = getPageLinks(30)\n",
    "# book_links"
   ]
  },
  {
   "cell_type": "markdown",
   "metadata": {},
   "source": [
    "### Получим информации о книге\n",
    "Обратимся к странице с фильмом Сердце Дракона. Том 2 и достанем следующую информацию:\n",
    "- Название книги.\n",
    "- Автор книги\n",
    "- Оценка книги\n",
    "- Аннотация/Описание\n",
    "- Количество читателей\n",
    "- Количество комментариев/отзывов"
   ]
  },
  {
   "cell_type": "code",
   "execution_count": 13,
   "metadata": {},
   "outputs": [],
   "source": [
    "book_page = 'https://topliba.com/books/736796'\n",
    "response = requests.get(book_page, headers={'User-Agent': UserAgent().chrome})\n",
    "\n",
    "html = response.content\n",
    "soup = BeautifulSoup(response.content, 'html.parser')"
   ]
  },
  {
   "cell_type": "markdown",
   "metadata": {},
   "source": [
    "### Получим название книги"
   ]
  },
  {
   "cell_type": "code",
   "execution_count": 14,
   "metadata": {},
   "outputs": [
    {
     "data": {
      "text/plain": [
       "<div class=\"row\">\n",
       "<div class=\"header-background\"><div style=\"background: url(https://topliba.com/covers/736796.jpg?t=1705317373)\"></div></div>\n",
       "<div class=\"col-xs-12 col-sm-3 cover\">\n",
       "<div itemscope=\"\" itemtype=\"http://schema.org/ImageObject\" style=\"position: relative\">\n",
       "<meta content=\"Лисина Александра - Щит императора\" itemprop=\"name\">\n",
       "<img alt=\"Лисина Александра - Щит императора\" itemprop=\"contentUrl\" src=\"https://topliba.com/covers/736796.jpg?t=1705317373\" title=\"Лисина Александра - Щит императора\"/>\n",
       "</meta></div>\n",
       "</div>\n",
       "<div class=\"col-xs-12 col-sm-9 book-title\">\n",
       "<h1 itemprop=\"name\">Щит императора</h1>\n",
       "<h2 class=\"book-author\" itemprop=\"author\">\n",
       "<a href=\"https://topliba.com/authors/2142\" title=\"Книги Александра Лисина\">Александра Лисина</a>\n",
       "</h2>\n",
       "</div>\n",
       "</div>"
      ]
     },
     "execution_count": 14,
     "metadata": {},
     "output_type": "execute_result"
    }
   ],
   "source": [
    "book_title = soup.find(lambda tag: tag.name == 'div' and tag.get('class') == ['row'])\n",
    "book_title"
   ]
  },
  {
   "cell_type": "markdown",
   "metadata": {},
   "source": [
    "Заголовок книги находится в теге h1, который имеет атрибут itemprop=\"name\". "
   ]
  },
  {
   "cell_type": "code",
   "execution_count": 15,
   "metadata": {},
   "outputs": [
    {
     "data": {
      "text/plain": [
       "'Щит императора'"
      ]
     },
     "execution_count": 15,
     "metadata": {},
     "output_type": "execute_result"
    }
   ],
   "source": [
    "book_title = soup.find('h1', itemprop='name').text\n",
    "book_title"
   ]
  },
  {
   "cell_type": "code",
   "execution_count": 16,
   "metadata": {},
   "outputs": [],
   "source": [
    "#book_title = soup.find(lambda tag: tag.name == 'h1') # and tag.get('itemprop') == ['name'])\n",
    "#book_title = film_title.text\n",
    "#book_title"
   ]
  },
  {
   "cell_type": "markdown",
   "metadata": {},
   "source": [
    "### Получим автора книги"
   ]
  },
  {
   "cell_type": "code",
   "execution_count": 17,
   "metadata": {},
   "outputs": [
    {
     "data": {
      "text/plain": [
       "'Александра Лисина'"
      ]
     },
     "execution_count": 17,
     "metadata": {},
     "output_type": "execute_result"
    }
   ],
   "source": [
    "book_author = soup.find(lambda tag: tag.name == 'h2' and tag.get('class') == ['book-author'])\n",
    "book_author = book_author.text.replace(\"\\n\", \"\")\n",
    "book_author"
   ]
  },
  {
   "cell_type": "markdown",
   "metadata": {},
   "source": [
    "### Получим аннотацию к книге"
   ]
  },
  {
   "cell_type": "code",
   "execution_count": 18,
   "metadata": {},
   "outputs": [
    {
     "data": {
      "text/plain": [
       "'После смерти великого императора Орриана на престол вступает его единственный сын, которому в наследство достается не только страна, но и телохранитель. Карриану не нужен такой довесок к короне, однако нарушить волю отца он не рискует. Мару тоже не нравится это решение, но приказ хозяина для него превыше собственных предпочтений. Для двух врагов подобное соседство — худшее, что только можно измыслить. Тень, не желающая оберегать нового императора, и император, ненавидящий свою тень… Казалось бы, у этих двоих нет и не может быть ничего общего. Но жизнь все расставляет по своим местам.'"
      ]
     },
     "execution_count": 18,
     "metadata": {},
     "output_type": "execute_result"
    }
   ],
   "source": [
    "book_announs = soup.find(lambda tag: tag.name == 'div' and tag.get('class') == ['description']).text\n",
    "book_announs = book_announs.strip()\n",
    "book_announs"
   ]
  },
  {
   "cell_type": "markdown",
   "metadata": {},
   "source": [
    "### Получим рейтинг книги \n",
    "\n",
    "Рейтинги книг хранятся в аттрибутах тега div class=\"col-lg-12\". Посмотрим на структуру данного тега."
   ]
  },
  {
   "cell_type": "code",
   "execution_count": 19,
   "metadata": {},
   "outputs": [
    {
     "data": {
      "text/plain": [
       "<div class=\"col-lg-12\">\n",
       "<rating _avgrating=\"4.75\" _rating=\"0\" _ratingsnumber=\"251\" _showavgrating=\"true\" _showavgratingtext=\"true\" _url=\"/books/736796/ratings\" _user=\"\" class=\"pull-left\"></rating>\n",
       "<meta content=\"1\" itemprop=\"worstRating\"/>\n",
       "<meta content=\"5\" itemprop=\"bestRating\"/>\n",
       "<meta content=\"251\" itemprop=\"ratingCount\"/>\n",
       "<meta content=\"4.75\" itemprop=\"ratingValue\"/>\n",
       "</div>"
      ]
     },
     "execution_count": 19,
     "metadata": {},
     "output_type": "execute_result"
    }
   ],
   "source": [
    "scoreboard = soup.find(lambda tag: tag.name == 'div' and tag.get('class') == ['col-lg-12'])\n",
    "scoreboard"
   ]
  },
  {
   "cell_type": "code",
   "execution_count": 20,
   "metadata": {},
   "outputs": [],
   "source": [
    "def getRating(soup, rate):\n",
    "    try:\n",
    "        obj = soup.find('rating', attrs={'class':'pull-left'})\n",
    "        obj = obj.get(rate)\n",
    "    except:\n",
    "        obj=None\n",
    "    \n",
    "    return obj"
   ]
  },
  {
   "cell_type": "code",
   "execution_count": 21,
   "metadata": {},
   "outputs": [
    {
     "data": {
      "text/plain": [
       "'4.75'"
      ]
     },
     "execution_count": 21,
     "metadata": {},
     "output_type": "execute_result"
    }
   ],
   "source": [
    "getRating(soup, '_avgrating')"
   ]
  },
  {
   "cell_type": "markdown",
   "metadata": {},
   "source": [
    "### Получим количество читателей книги и количества комментариев (отзывов)\n",
    "\n",
    "Сведения о читателях хранятся в book-readers"
   ]
  },
  {
   "cell_type": "code",
   "execution_count": 22,
   "metadata": {},
   "outputs": [
    {
     "data": {
      "text/plain": [
       "<div class=\"book-readers\">\n",
       "<div class=\"col-lg-8 col-sm-12 well-sm\">\n",
       "<div class=\"col-sm-2 col-xs-4 book-readers-status\">\n",
       "<span class=\"book-readers-status-count\">490</span>\n",
       "<span>читателей</span>\n",
       "</div>\n",
       "<div class=\"col-sm-2 col-xs-4 book-readers-status\">\n",
       "<a href=\"https://topliba.com/books/736796/impressions\">\n",
       "<span class=\"book-readers-status-count\">88</span>\n",
       "<span>отзывов</span>\n",
       "</a>\n",
       "</div>\n",
       "<div class=\"col-sm-2 col-xs-4 book-readers-status\">\n",
       "<a href=\"https://topliba.com/books/736796/quotes\">\n",
       "<span class=\"book-readers-status-count\">20</span>\n",
       "<span>цитат</span>\n",
       "</a>\n",
       "</div>\n",
       "</div>\n",
       "</div>"
      ]
     },
     "execution_count": 22,
     "metadata": {},
     "output_type": "execute_result"
    }
   ],
   "source": [
    "book_readers = soup.find(lambda tag: tag.name == 'div' and tag.get('class') == ['book-readers'])\n",
    "book_readers"
   ]
  },
  {
   "cell_type": "code",
   "execution_count": 23,
   "metadata": {},
   "outputs": [
    {
     "name": "stdout",
     "output_type": "stream",
     "text": [
      "Количество читателей: 490\n",
      "Количество отзывов: 88\n"
     ]
    }
   ],
   "source": [
    "# Находим все span элементы с классом 'book-readers-status-count'\n",
    "readers_count_elements = soup.find_all('span', class_='book-readers-status-count')\n",
    "\n",
    "book_readership_count = readers_count_elements[0].string  \n",
    "book_comment_count = readers_count_elements[1].string  \n",
    "\n",
    "print(\"Количество читателей:\", book_readership_count)\n",
    "print(\"Количество отзывов:\", book_comment_count)"
   ]
  },
  {
   "cell_type": "markdown",
   "metadata": {},
   "source": [
    "### Получение данных о жанре и годе издания"
   ]
  },
  {
   "cell_type": "code",
   "execution_count": 24,
   "metadata": {},
   "outputs": [],
   "source": [
    "# Находим все теги div с классом 'col-lg-12'\n",
    "# search_elements = soup.find_all('div', class_='col-lg-12')\n",
    "# search_elements"
   ]
  },
  {
   "cell_type": "code",
   "execution_count": 25,
   "metadata": {},
   "outputs": [
    {
     "data": {
      "text/plain": [
       "'\\ngenre = search_elements[1].text.replace(\\'\\n\\', \\'\\')  \\nyear = search_elements[2].text.replace(\\'\\n\\', \\'\\')\\n\\nprint(\"Жанры:\", genre)\\nprint(\"Год:\", year)\\n'"
      ]
     },
     "execution_count": 25,
     "metadata": {},
     "output_type": "execute_result"
    }
   ],
   "source": [
    "\"\"\"\n",
    "genre = search_elements[1].text.replace('\\n', '')  \n",
    "year = search_elements[2].text.replace('\\n', '')\n",
    "\n",
    "print(\"Жанры:\", genre)\n",
    "print(\"Год:\", year)\n",
    "\"\"\""
   ]
  },
  {
   "cell_type": "markdown",
   "metadata": {},
   "source": [
    "## Запишем итоговую функцию для сбора данных по книге\n",
    "ссылку вида https://topliba.com/books/893256 передаем в getBookData(book_page) и получаем **карточку данной книги**"
   ]
  },
  {
   "cell_type": "code",
   "execution_count": 26,
   "metadata": {},
   "outputs": [],
   "source": [
    "def getBookData(book_page):\n",
    "    book_data = pd.DataFrame(columns=['Title', 'Author', 'Description', 'Raiting', 'Readers', 'Comments'], index=[0])\n",
    "    \n",
    "    response = requests.get(book_page, headers={'User-Agent': UserAgent().chrome})\n",
    "    \n",
    "    if not response.ok:\n",
    "        # если сервер нам отказал, вернем статус ошибки \n",
    "        return response.status_code\n",
    "    \n",
    "    # получаем содержимое страницы и переводим в суп\n",
    "    soup = BeautifulSoup(response.content, 'html.parser')\n",
    "     \n",
    "    book_title = soup.find('h1', itemprop='name').text\n",
    "    book_data['Title'] = book_title  \n",
    "                \n",
    "    book_author = soup.find(lambda tag: tag.name == 'h2' and tag.get('class') == ['book-author'])\n",
    "    book_author = book_author.text.replace(\"\\n\", \"\")\n",
    "    book_data['Author'] = book_author\n",
    "    \n",
    "    book_announs = soup.find(lambda tag: tag.name == 'div' and tag.get('class') == ['description']).text\n",
    "    book_announs = book_announs.replace('\\n', '')\n",
    "    book_announs = book_announs.strip()\n",
    "    book_data['Description']= book_announs\n",
    "      \n",
    "    book_data['Raiting'] = getRating(soup=soup, rate='_avgrating')\n",
    "    \n",
    "    readers_count_elements = soup.find_all('span', class_='book-readers-status-count')\n",
    "\n",
    "    book_readership_count = readers_count_elements[0].string  \n",
    "    book_data['Readers'] = book_readership_count\n",
    "    \n",
    "    book_comment_count = readers_count_elements[1].string  \n",
    "    book_data['Comments'] = book_comment_count\n",
    "    \n",
    "    #search_elements = soup.find_all('div', class_='col-lg-12')\n",
    "    #genre = search_elements[1].text\n",
    "    #book_data['Genre']=genre\n",
    "    \n",
    "    return book_data"
   ]
  },
  {
   "cell_type": "code",
   "execution_count": 27,
   "metadata": {},
   "outputs": [
    {
     "data": {
      "text/html": [
       "<div>\n",
       "<style scoped>\n",
       "    .dataframe tbody tr th:only-of-type {\n",
       "        vertical-align: middle;\n",
       "    }\n",
       "\n",
       "    .dataframe tbody tr th {\n",
       "        vertical-align: top;\n",
       "    }\n",
       "\n",
       "    .dataframe thead th {\n",
       "        text-align: right;\n",
       "    }\n",
       "</style>\n",
       "<table border=\"1\" class=\"dataframe\">\n",
       "  <thead>\n",
       "    <tr style=\"text-align: right;\">\n",
       "      <th></th>\n",
       "      <th>Title</th>\n",
       "      <th>Author</th>\n",
       "      <th>Description</th>\n",
       "      <th>Raiting</th>\n",
       "      <th>Readers</th>\n",
       "      <th>Comments</th>\n",
       "    </tr>\n",
       "  </thead>\n",
       "  <tbody>\n",
       "    <tr>\n",
       "      <th>0</th>\n",
       "      <td>Щит императора</td>\n",
       "      <td>Александра Лисина</td>\n",
       "      <td>После смерти великого императора Орриана на пр...</td>\n",
       "      <td>4.75</td>\n",
       "      <td>490</td>\n",
       "      <td>88</td>\n",
       "    </tr>\n",
       "  </tbody>\n",
       "</table>\n",
       "</div>"
      ],
      "text/plain": [
       "            Title             Author  \\\n",
       "0  Щит императора  Александра Лисина   \n",
       "\n",
       "                                         Description Raiting Readers Comments  \n",
       "0  После смерти великого императора Орриана на пр...    4.75     490       88  "
      ]
     },
     "execution_count": 27,
     "metadata": {},
     "output_type": "execute_result"
    }
   ],
   "source": [
    "getBookData('https://topliba.com/books/736796')"
   ]
  },
  {
   "cell_type": "markdown",
   "metadata": {},
   "source": [
    "## Получение информации по всем книгам"
   ]
  },
  {
   "cell_type": "markdown",
   "metadata": {},
   "source": [
    "Соберем информацию по всем книгам. Cоздадим пустой датафрейм, в который мы будем добавлять информацию по каждой книге."
   ]
  },
  {
   "cell_type": "code",
   "execution_count": 28,
   "metadata": {},
   "outputs": [
    {
     "data": {
      "text/html": [
       "<div>\n",
       "<style scoped>\n",
       "    .dataframe tbody tr th:only-of-type {\n",
       "        vertical-align: middle;\n",
       "    }\n",
       "\n",
       "    .dataframe tbody tr th {\n",
       "        vertical-align: top;\n",
       "    }\n",
       "\n",
       "    .dataframe thead th {\n",
       "        text-align: right;\n",
       "    }\n",
       "</style>\n",
       "<table border=\"1\" class=\"dataframe\">\n",
       "  <thead>\n",
       "    <tr style=\"text-align: right;\">\n",
       "      <th></th>\n",
       "      <th>Title</th>\n",
       "      <th>Author</th>\n",
       "      <th>Description</th>\n",
       "      <th>Raiting</th>\n",
       "      <th>Readers</th>\n",
       "      <th>Comments</th>\n",
       "    </tr>\n",
       "  </thead>\n",
       "  <tbody>\n",
       "  </tbody>\n",
       "</table>\n",
       "</div>"
      ],
      "text/plain": [
       "Empty DataFrame\n",
       "Columns: [Title, Author, Description, Raiting, Readers, Comments]\n",
       "Index: []"
      ]
     },
     "execution_count": 28,
     "metadata": {},
     "output_type": "execute_result"
    }
   ],
   "source": [
    "final_df = pd.DataFrame(columns=['Title', 'Author', 'Description', 'Raiting', 'Readers', 'Comments'])\n",
    "final_df.head()"
   ]
  },
  {
   "cell_type": "markdown",
   "metadata": {},
   "source": [
    "### Страница https://topliba.com/genres/12090?p=784 дает ссылки на 784 страницах, на каждой странице по 24 ссылки на книгу. Итого будет 18 816 ссылок на книги"
   ]
  },
  {
   "cell_type": "code",
   "execution_count": 29,
   "metadata": {},
   "outputs": [],
   "source": [
    "# Цикл А.Ч.\n",
    "def getAllBooks(num=1000):\n",
    "    book_data_list = []\n",
    "    for i in range(num):\n",
    "        links = getPageLinks(num)\n",
    "        for j in links:\n",
    "            book_data = getBookData(j)\n",
    "            book_data_list.extend(book_data)\n",
    "            time.sleep(0.5)\n",
    "    final_df.to_csv('books_{}.csv'.format(page_number), index=False) # сохранение CSV без индексов\n",
    "    return final_df\n",
    "final_df.to_csv('books_full.csv')"
   ]
  },
  {
   "cell_type": "code",
   "execution_count": 30,
   "metadata": {},
   "outputs": [
    {
     "data": {
      "text/html": [
       "<div>\n",
       "<style scoped>\n",
       "    .dataframe tbody tr th:only-of-type {\n",
       "        vertical-align: middle;\n",
       "    }\n",
       "\n",
       "    .dataframe tbody tr th {\n",
       "        vertical-align: top;\n",
       "    }\n",
       "\n",
       "    .dataframe thead th {\n",
       "        text-align: right;\n",
       "    }\n",
       "</style>\n",
       "<table border=\"1\" class=\"dataframe\">\n",
       "  <thead>\n",
       "    <tr style=\"text-align: right;\">\n",
       "      <th></th>\n",
       "      <th>Title</th>\n",
       "      <th>Author</th>\n",
       "      <th>Description</th>\n",
       "      <th>Raiting</th>\n",
       "      <th>Readers</th>\n",
       "      <th>Comments</th>\n",
       "    </tr>\n",
       "  </thead>\n",
       "  <tbody>\n",
       "  </tbody>\n",
       "</table>\n",
       "</div>"
      ],
      "text/plain": [
       "Empty DataFrame\n",
       "Columns: [Title, Author, Description, Raiting, Readers, Comments]\n",
       "Index: []"
      ]
     },
     "execution_count": 30,
     "metadata": {},
     "output_type": "execute_result"
    }
   ],
   "source": [
    "data = pd.read_csv('books_full.csv', index_col=0)\n",
    "data.head(60)"
   ]
  },
  {
   "cell_type": "markdown",
   "metadata": {},
   "source": [
    "# Второй способ создания цикла - по лекции Марии Тихоновой."
   ]
  },
  {
   "cell_type": "code",
   "execution_count": 31,
   "metadata": {},
   "outputs": [],
   "source": [
    "def getBookData(book_page):\n",
    "    # запрашиваем данные по ссылке\n",
    "    response = requests.get(book_page, headers={'User-Agent': UserAgent().chrome})\n",
    "\n",
    "    if not response.ok:\n",
    "        # если сервер нам отказал, вернем статус ошибки\n",
    "        return response.status_code\n",
    "\n",
    "    # получаем содержимое страницы и переводим в суп\n",
    "    html = response.content\n",
    "    soup = BeautifulSoup(html,'html.parser')\n",
    "\n",
    "    # используя ранее написанные функции парсим информацию\n",
    "    book_title = soup.find('h1', itemprop='name').text\n",
    "                 \n",
    "    book_author = soup.find(lambda tag: tag.name == 'h2' and tag.get('class') == ['book-author'])\n",
    "    book_author = book_author.text.replace(\"\\n\", \"\")\n",
    "    \n",
    "    book_announs = soup.find(lambda tag: tag.name == 'div' and tag.get('class') == ['description']).text\n",
    "    book_announs = book_announs.replace('\\n', '')\n",
    "    book_announs = book_announs.strip()\n",
    "         \n",
    "    raiting = getRating(soup=soup, rate='_avgrating')\n",
    "    \n",
    "    readers_count_elements = soup.find_all('span', class_='book-readers-status-count')\n",
    "\n",
    "    book_readership_count = readers_count_elements[0].string  \n",
    "        \n",
    "    book_comment_count = readers_count_elements[1].string  \n",
    "           \n",
    "    # составляем словарь, в котором будут хранится все полученные и обработанные данные\n",
    "    data_row = {'Title':book_title, 'Author':book_author,\n",
    "                'Description':book_announs, 'Raiting':raiting, 'Readers':book_readership_count,'Comments':book_comment_count}\n",
    "    return data_row"
   ]
  },
  {
   "cell_type": "code",
   "execution_count": 32,
   "metadata": {},
   "outputs": [],
   "source": [
    "data_row = getBookData('https://topliba.com/books/736796')"
   ]
  },
  {
   "cell_type": "code",
   "execution_count": 33,
   "metadata": {},
   "outputs": [
    {
     "data": {
      "text/plain": [
       "{'Title': 'Щит императора',\n",
       " 'Author': 'Александра Лисина',\n",
       " 'Description': 'После смерти великого императора Орриана на престол вступает его единственный сын, которому в наследство достается не только страна, но и телохранитель. Карриану не нужен такой довесок к короне, однако нарушить волю отца он не рискует. Мару тоже не нравится это решение, но приказ хозяина для него превыше собственных предпочтений. Для двух врагов подобное соседство — худшее, что только можно измыслить. Тень, не желающая оберегать нового императора, и император, ненавидящий свою тень… Казалось бы, у этих двоих нет и не может быть ничего общего. Но жизнь все расставляет по своим местам.',\n",
       " 'Raiting': '4.75',\n",
       " 'Readers': '490',\n",
       " 'Comments': '88'}"
      ]
     },
     "execution_count": 33,
     "metadata": {},
     "output_type": "execute_result"
    }
   ],
   "source": [
    "data_row"
   ]
  },
  {
   "cell_type": "code",
   "execution_count": 34,
   "metadata": {},
   "outputs": [],
   "source": [
    "final_df = pd.DataFrame(columns=['Title', 'Author', 'Description', 'Raiting', 'Readers', 'Comments'])"
   ]
  },
  {
   "cell_type": "code",
   "execution_count": 35,
   "metadata": {},
   "outputs": [
    {
     "data": {
      "text/html": [
       "<div>\n",
       "<style scoped>\n",
       "    .dataframe tbody tr th:only-of-type {\n",
       "        vertical-align: middle;\n",
       "    }\n",
       "\n",
       "    .dataframe tbody tr th {\n",
       "        vertical-align: top;\n",
       "    }\n",
       "\n",
       "    .dataframe thead th {\n",
       "        text-align: right;\n",
       "    }\n",
       "</style>\n",
       "<table border=\"1\" class=\"dataframe\">\n",
       "  <thead>\n",
       "    <tr style=\"text-align: right;\">\n",
       "      <th></th>\n",
       "      <th>Title</th>\n",
       "      <th>Author</th>\n",
       "      <th>Description</th>\n",
       "      <th>Raiting</th>\n",
       "      <th>Readers</th>\n",
       "      <th>Comments</th>\n",
       "    </tr>\n",
       "  </thead>\n",
       "  <tbody>\n",
       "  </tbody>\n",
       "</table>\n",
       "</div>"
      ],
      "text/plain": [
       "Empty DataFrame\n",
       "Columns: [Title, Author, Description, Raiting, Readers, Comments]\n",
       "Index: []"
      ]
     },
     "execution_count": 35,
     "metadata": {},
     "output_type": "execute_result"
    }
   ],
   "source": [
    "final_df"
   ]
  },
  {
   "cell_type": "code",
   "execution_count": 36,
   "metadata": {},
   "outputs": [
    {
     "data": {
      "text/plain": [
       "['https://topliba.com/books/898377',\n",
       " 'https://topliba.com/books/898358',\n",
       " 'https://topliba.com/books/898208',\n",
       " 'https://topliba.com/books/898197',\n",
       " 'https://topliba.com/books/898032',\n",
       " 'https://topliba.com/books/897776',\n",
       " 'https://topliba.com/books/898031',\n",
       " 'https://topliba.com/books/897772',\n",
       " 'https://topliba.com/books/897639',\n",
       " 'https://topliba.com/books/897636',\n",
       " 'https://topliba.com/books/897633',\n",
       " 'https://topliba.com/books/897397',\n",
       " 'https://topliba.com/books/897225',\n",
       " 'https://topliba.com/books/897388',\n",
       " 'https://topliba.com/books/897224',\n",
       " 'https://topliba.com/books/897276',\n",
       " 'https://topliba.com/books/897272',\n",
       " 'https://topliba.com/books/897246',\n",
       " 'https://topliba.com/books/897229',\n",
       " 'https://topliba.com/books/897209',\n",
       " 'https://topliba.com/books/896911',\n",
       " 'https://topliba.com/books/896731',\n",
       " 'https://topliba.com/books/897016',\n",
       " 'https://topliba.com/books/896710']"
      ]
     },
     "execution_count": 36,
     "metadata": {},
     "output_type": "execute_result"
    }
   ],
   "source": [
    "book_links"
   ]
  },
  {
   "cell_type": "code",
   "execution_count": 37,
   "metadata": {},
   "outputs": [
    {
     "data": {
      "application/vnd.jupyter.widget-view+json": {
       "model_id": "c8ba2bd8a4cd4b8b949dc407c523ff1f",
       "version_major": 2,
       "version_minor": 0
      },
      "text/plain": [
       "  0%|          | 0/24 [00:00<?, ?it/s]"
      ]
     },
     "metadata": {},
     "output_type": "display_data"
    },
    {
     "name": "stderr",
     "output_type": "stream",
     "text": [
      "C:\\Users\\Olga\\AppData\\Local\\Temp\\ipykernel_1200\\133204077.py:5: FutureWarning: The frame.append method is deprecated and will be removed from pandas in a future version. Use pandas.concat instead.\n",
      "  final_df = final_df.append(data_row, ignore_index=True)\n",
      "C:\\Users\\Olga\\AppData\\Local\\Temp\\ipykernel_1200\\133204077.py:5: FutureWarning: The frame.append method is deprecated and will be removed from pandas in a future version. Use pandas.concat instead.\n",
      "  final_df = final_df.append(data_row, ignore_index=True)\n",
      "C:\\Users\\Olga\\AppData\\Local\\Temp\\ipykernel_1200\\133204077.py:5: FutureWarning: The frame.append method is deprecated and will be removed from pandas in a future version. Use pandas.concat instead.\n",
      "  final_df = final_df.append(data_row, ignore_index=True)\n",
      "C:\\Users\\Olga\\AppData\\Local\\Temp\\ipykernel_1200\\133204077.py:5: FutureWarning: The frame.append method is deprecated and will be removed from pandas in a future version. Use pandas.concat instead.\n",
      "  final_df = final_df.append(data_row, ignore_index=True)\n",
      "C:\\Users\\Olga\\AppData\\Local\\Temp\\ipykernel_1200\\133204077.py:5: FutureWarning: The frame.append method is deprecated and will be removed from pandas in a future version. Use pandas.concat instead.\n",
      "  final_df = final_df.append(data_row, ignore_index=True)\n",
      "C:\\Users\\Olga\\AppData\\Local\\Temp\\ipykernel_1200\\133204077.py:5: FutureWarning: The frame.append method is deprecated and will be removed from pandas in a future version. Use pandas.concat instead.\n",
      "  final_df = final_df.append(data_row, ignore_index=True)\n",
      "C:\\Users\\Olga\\AppData\\Local\\Temp\\ipykernel_1200\\133204077.py:5: FutureWarning: The frame.append method is deprecated and will be removed from pandas in a future version. Use pandas.concat instead.\n",
      "  final_df = final_df.append(data_row, ignore_index=True)\n",
      "C:\\Users\\Olga\\AppData\\Local\\Temp\\ipykernel_1200\\133204077.py:5: FutureWarning: The frame.append method is deprecated and will be removed from pandas in a future version. Use pandas.concat instead.\n",
      "  final_df = final_df.append(data_row, ignore_index=True)\n",
      "C:\\Users\\Olga\\AppData\\Local\\Temp\\ipykernel_1200\\133204077.py:5: FutureWarning: The frame.append method is deprecated and will be removed from pandas in a future version. Use pandas.concat instead.\n",
      "  final_df = final_df.append(data_row, ignore_index=True)\n",
      "C:\\Users\\Olga\\AppData\\Local\\Temp\\ipykernel_1200\\133204077.py:5: FutureWarning: The frame.append method is deprecated and will be removed from pandas in a future version. Use pandas.concat instead.\n",
      "  final_df = final_df.append(data_row, ignore_index=True)\n",
      "C:\\Users\\Olga\\AppData\\Local\\Temp\\ipykernel_1200\\133204077.py:5: FutureWarning: The frame.append method is deprecated and will be removed from pandas in a future version. Use pandas.concat instead.\n",
      "  final_df = final_df.append(data_row, ignore_index=True)\n",
      "C:\\Users\\Olga\\AppData\\Local\\Temp\\ipykernel_1200\\133204077.py:5: FutureWarning: The frame.append method is deprecated and will be removed from pandas in a future version. Use pandas.concat instead.\n",
      "  final_df = final_df.append(data_row, ignore_index=True)\n",
      "C:\\Users\\Olga\\AppData\\Local\\Temp\\ipykernel_1200\\133204077.py:5: FutureWarning: The frame.append method is deprecated and will be removed from pandas in a future version. Use pandas.concat instead.\n",
      "  final_df = final_df.append(data_row, ignore_index=True)\n",
      "C:\\Users\\Olga\\AppData\\Local\\Temp\\ipykernel_1200\\133204077.py:5: FutureWarning: The frame.append method is deprecated and will be removed from pandas in a future version. Use pandas.concat instead.\n",
      "  final_df = final_df.append(data_row, ignore_index=True)\n",
      "C:\\Users\\Olga\\AppData\\Local\\Temp\\ipykernel_1200\\133204077.py:5: FutureWarning: The frame.append method is deprecated and will be removed from pandas in a future version. Use pandas.concat instead.\n",
      "  final_df = final_df.append(data_row, ignore_index=True)\n",
      "C:\\Users\\Olga\\AppData\\Local\\Temp\\ipykernel_1200\\133204077.py:5: FutureWarning: The frame.append method is deprecated and will be removed from pandas in a future version. Use pandas.concat instead.\n",
      "  final_df = final_df.append(data_row, ignore_index=True)\n",
      "C:\\Users\\Olga\\AppData\\Local\\Temp\\ipykernel_1200\\133204077.py:5: FutureWarning: The frame.append method is deprecated and will be removed from pandas in a future version. Use pandas.concat instead.\n",
      "  final_df = final_df.append(data_row, ignore_index=True)\n",
      "C:\\Users\\Olga\\AppData\\Local\\Temp\\ipykernel_1200\\133204077.py:5: FutureWarning: The frame.append method is deprecated and will be removed from pandas in a future version. Use pandas.concat instead.\n",
      "  final_df = final_df.append(data_row, ignore_index=True)\n",
      "C:\\Users\\Olga\\AppData\\Local\\Temp\\ipykernel_1200\\133204077.py:5: FutureWarning: The frame.append method is deprecated and will be removed from pandas in a future version. Use pandas.concat instead.\n",
      "  final_df = final_df.append(data_row, ignore_index=True)\n",
      "C:\\Users\\Olga\\AppData\\Local\\Temp\\ipykernel_1200\\133204077.py:5: FutureWarning: The frame.append method is deprecated and will be removed from pandas in a future version. Use pandas.concat instead.\n",
      "  final_df = final_df.append(data_row, ignore_index=True)\n",
      "C:\\Users\\Olga\\AppData\\Local\\Temp\\ipykernel_1200\\133204077.py:5: FutureWarning: The frame.append method is deprecated and will be removed from pandas in a future version. Use pandas.concat instead.\n",
      "  final_df = final_df.append(data_row, ignore_index=True)\n",
      "C:\\Users\\Olga\\AppData\\Local\\Temp\\ipykernel_1200\\133204077.py:5: FutureWarning: The frame.append method is deprecated and will be removed from pandas in a future version. Use pandas.concat instead.\n",
      "  final_df = final_df.append(data_row, ignore_index=True)\n",
      "C:\\Users\\Olga\\AppData\\Local\\Temp\\ipykernel_1200\\133204077.py:5: FutureWarning: The frame.append method is deprecated and will be removed from pandas in a future version. Use pandas.concat instead.\n",
      "  final_df = final_df.append(data_row, ignore_index=True)\n",
      "C:\\Users\\Olga\\AppData\\Local\\Temp\\ipykernel_1200\\133204077.py:5: FutureWarning: The frame.append method is deprecated and will be removed from pandas in a future version. Use pandas.concat instead.\n",
      "  final_df = final_df.append(data_row, ignore_index=True)\n"
     ]
    }
   ],
   "source": [
    "from tqdm.notebook import tqdm\n",
    "for book_link in tqdm(book_links):\n",
    "    try:\n",
    "        data_row = getBookData(book_link)\n",
    "        final_df = final_df.append(data_row, ignore_index=True)\n",
    "        time.sleep(0.3)\n",
    "    except:\n",
    "        continue"
   ]
  },
  {
   "cell_type": "code",
   "execution_count": 38,
   "metadata": {},
   "outputs": [
    {
     "data": {
      "text/html": [
       "<div>\n",
       "<style scoped>\n",
       "    .dataframe tbody tr th:only-of-type {\n",
       "        vertical-align: middle;\n",
       "    }\n",
       "\n",
       "    .dataframe tbody tr th {\n",
       "        vertical-align: top;\n",
       "    }\n",
       "\n",
       "    .dataframe thead th {\n",
       "        text-align: right;\n",
       "    }\n",
       "</style>\n",
       "<table border=\"1\" class=\"dataframe\">\n",
       "  <thead>\n",
       "    <tr style=\"text-align: right;\">\n",
       "      <th></th>\n",
       "      <th>Title</th>\n",
       "      <th>Author</th>\n",
       "      <th>Description</th>\n",
       "      <th>Raiting</th>\n",
       "      <th>Readers</th>\n",
       "      <th>Comments</th>\n",
       "    </tr>\n",
       "  </thead>\n",
       "  <tbody>\n",
       "    <tr>\n",
       "      <th>0</th>\n",
       "      <td>Новая жизнь темного властелина. Часть 1</td>\n",
       "      <td>Андрей Федин</td>\n",
       "      <td>В своих прошлых жизнях я много внимания уделял...</td>\n",
       "      <td>4.00</td>\n",
       "      <td>9</td>\n",
       "      <td>0</td>\n",
       "    </tr>\n",
       "    <tr>\n",
       "      <th>1</th>\n",
       "      <td>Не выпускайте чудовищ из шкафа</td>\n",
       "      <td>Карина Дёмина</td>\n",
       "      <td>Остров Дальний - место, где некогда добывали м...</td>\n",
       "      <td>3.16</td>\n",
       "      <td>62</td>\n",
       "      <td>3</td>\n",
       "    </tr>\n",
       "    <tr>\n",
       "      <th>2</th>\n",
       "      <td>Земная</td>\n",
       "      <td>Jude Moon</td>\n",
       "      <td>С самого детства я знала, что мне уготована уч...</td>\n",
       "      <td>3.67</td>\n",
       "      <td>13</td>\n",
       "      <td>0</td>\n",
       "    </tr>\n",
       "    <tr>\n",
       "      <th>3</th>\n",
       "      <td>Проклятая</td>\n",
       "      <td>Jude Moon</td>\n",
       "      <td>Я мечтала попасть в другой мир, но не думала, ...</td>\n",
       "      <td>3.50</td>\n",
       "      <td>34</td>\n",
       "      <td>1</td>\n",
       "    </tr>\n",
       "    <tr>\n",
       "      <th>4</th>\n",
       "      <td>Этот лот (не) продается!!!</td>\n",
       "      <td>Ника Лисицына</td>\n",
       "      <td>Стоило только подписать свой тысячный контракт...</td>\n",
       "      <td>3.38</td>\n",
       "      <td>50</td>\n",
       "      <td>0</td>\n",
       "    </tr>\n",
       "    <tr>\n",
       "      <th>5</th>\n",
       "      <td>Дитя солнца</td>\n",
       "      <td>Рони</td>\n",
       "      <td>Каждому агенту, рано или поздно, предстоит пер...</td>\n",
       "      <td>5.00</td>\n",
       "      <td>1</td>\n",
       "      <td>0</td>\n",
       "    </tr>\n",
       "    <tr>\n",
       "      <th>6</th>\n",
       "      <td>Проклятье чёрной луны</td>\n",
       "      <td>Ника Лисицына</td>\n",
       "      <td>Я – ведьма, способная видеть будущее. Вот толь...</td>\n",
       "      <td>3.92</td>\n",
       "      <td>74</td>\n",
       "      <td>1</td>\n",
       "    </tr>\n",
       "    <tr>\n",
       "      <th>7</th>\n",
       "      <td>Проклятие гостеприимства</td>\n",
       "      <td>Pauli Bal</td>\n",
       "      <td>Если в родной дом пришла беда, даже самые край...</td>\n",
       "      <td>3.50</td>\n",
       "      <td>5</td>\n",
       "      <td>0</td>\n",
       "    </tr>\n",
       "    <tr>\n",
       "      <th>8</th>\n",
       "      <td>За лунным цветком</td>\n",
       "      <td>Мряу Пушистая</td>\n",
       "      <td>Иногда добыть что-то несравнимо легче, чем дон...</td>\n",
       "      <td>4.00</td>\n",
       "      <td>4</td>\n",
       "      <td>0</td>\n",
       "    </tr>\n",
       "    <tr>\n",
       "      <th>9</th>\n",
       "      <td>Бедность, Война и Любовь</td>\n",
       "      <td>Ленор Клемм</td>\n",
       "      <td>Говорят, что для полноты своей жизни человек д...</td>\n",
       "      <td>2.67</td>\n",
       "      <td>4</td>\n",
       "      <td>0</td>\n",
       "    </tr>\n",
       "    <tr>\n",
       "      <th>10</th>\n",
       "      <td>Камушек</td>\n",
       "      <td>IvaZla</td>\n",
       "      <td>Маленький камушек может стать причиной лавины....</td>\n",
       "      <td></td>\n",
       "      <td>2</td>\n",
       "      <td>0</td>\n",
       "    </tr>\n",
       "    <tr>\n",
       "      <th>11</th>\n",
       "      <td>Искушение временем</td>\n",
       "      <td>Лариса2443</td>\n",
       "      <td>Что чувствует человек, нажимая кнопку прибора,...</td>\n",
       "      <td>4.33</td>\n",
       "      <td>7</td>\n",
       "      <td>0</td>\n",
       "    </tr>\n",
       "    <tr>\n",
       "      <th>12</th>\n",
       "      <td>Последняя колдунья на Земле</td>\n",
       "      <td>Chiarra</td>\n",
       "      <td>Гарри очень хотел оставить прошлое позади и да...</td>\n",
       "      <td>4.33</td>\n",
       "      <td>4</td>\n",
       "      <td>0</td>\n",
       "    </tr>\n",
       "    <tr>\n",
       "      <th>13</th>\n",
       "      <td>Лучший подарок для генерала</td>\n",
       "      <td>Наталья Фирст</td>\n",
       "      <td>Когда-то мы были друг в друга влюблены. Я певи...</td>\n",
       "      <td>4.01</td>\n",
       "      <td>532</td>\n",
       "      <td>53</td>\n",
       "    </tr>\n",
       "    <tr>\n",
       "      <th>14</th>\n",
       "      <td>Забытые и мертвые</td>\n",
       "      <td>Cergart</td>\n",
       "      <td>В погоне за стадом Морозова Алина и Дарклинг о...</td>\n",
       "      <td>4.00</td>\n",
       "      <td>4</td>\n",
       "      <td>0</td>\n",
       "    </tr>\n",
       "    <tr>\n",
       "      <th>15</th>\n",
       "      <td>Кодекс Крови. Книга III</td>\n",
       "      <td>М. Борзых</td>\n",
       "      <td>В прошлой жизни я следовал Кодексу Крови: спас...</td>\n",
       "      <td>4.43</td>\n",
       "      <td>17</td>\n",
       "      <td>0</td>\n",
       "    </tr>\n",
       "    <tr>\n",
       "      <th>16</th>\n",
       "      <td>Невиданными дорожками</td>\n",
       "      <td>Павел Шишкин</td>\n",
       "      <td>Человек продирается сквозь лес к избе Бабы Яги...</td>\n",
       "      <td>4.00</td>\n",
       "      <td>2</td>\n",
       "      <td>0</td>\n",
       "    </tr>\n",
       "    <tr>\n",
       "      <th>17</th>\n",
       "      <td>Невеста Горного Князя</td>\n",
       "      <td>Мария Кейль</td>\n",
       "      <td>Утро началось для меня со свадьбы в чужом мире...</td>\n",
       "      <td>3.25</td>\n",
       "      <td>239</td>\n",
       "      <td>12</td>\n",
       "    </tr>\n",
       "    <tr>\n",
       "      <th>18</th>\n",
       "      <td>Золотой лист</td>\n",
       "      <td>Дана Арнаутова</td>\n",
       "      <td>Старый, как мир, сюжет: принцесса и двое влюбл...</td>\n",
       "      <td>4.63</td>\n",
       "      <td>41</td>\n",
       "      <td>5</td>\n",
       "    </tr>\n",
       "    <tr>\n",
       "      <th>19</th>\n",
       "      <td>Рпава</td>\n",
       "      <td>Ляля Фа</td>\n",
       "      <td>Женское любопытство — то ещё испытание. Как не...</td>\n",
       "      <td>3.40</td>\n",
       "      <td>17</td>\n",
       "      <td>4</td>\n",
       "    </tr>\n",
       "    <tr>\n",
       "      <th>20</th>\n",
       "      <td>Начать войну</td>\n",
       "      <td>Cergart</td>\n",
       "      <td>Понадобилось триста лет, чтобы полюбить его.</td>\n",
       "      <td>4.00</td>\n",
       "      <td>4</td>\n",
       "      <td>0</td>\n",
       "    </tr>\n",
       "    <tr>\n",
       "      <th>21</th>\n",
       "      <td>Криста. Сердце жемчужного моря</td>\n",
       "      <td>Элиана Никитина</td>\n",
       "      <td>Книга – источник знаний. Кладезь мудрости, ост...</td>\n",
       "      <td>4.12</td>\n",
       "      <td>38</td>\n",
       "      <td>2</td>\n",
       "    </tr>\n",
       "    <tr>\n",
       "      <th>22</th>\n",
       "      <td>Северный мир. Опасный дар</td>\n",
       "      <td>Татьяна Волхова</td>\n",
       "      <td>Магический дар — не всегда благо для своего об...</td>\n",
       "      <td>5.00</td>\n",
       "      <td>17</td>\n",
       "      <td>0</td>\n",
       "    </tr>\n",
       "    <tr>\n",
       "      <th>23</th>\n",
       "      <td>Дейнис</td>\n",
       "      <td>IvaZla</td>\n",
       "      <td>История о самом важном для Таргариенов «дракон...</td>\n",
       "      <td>3.50</td>\n",
       "      <td>4</td>\n",
       "      <td>0</td>\n",
       "    </tr>\n",
       "  </tbody>\n",
       "</table>\n",
       "</div>"
      ],
      "text/plain": [
       "                                      Title           Author  \\\n",
       "0   Новая жизнь темного властелина. Часть 1     Андрей Федин   \n",
       "1            Не выпускайте чудовищ из шкафа    Карина Дёмина   \n",
       "2                                    Земная        Jude Moon   \n",
       "3                                 Проклятая        Jude Moon   \n",
       "4                Этот лот (не) продается!!!    Ника Лисицына   \n",
       "5                               Дитя солнца             Рони   \n",
       "6                     Проклятье чёрной луны    Ника Лисицына   \n",
       "7                  Проклятие гостеприимства        Pauli Bal   \n",
       "8                         За лунным цветком    Мряу Пушистая   \n",
       "9                  Бедность, Война и Любовь      Ленор Клемм   \n",
       "10                                  Камушек           IvaZla   \n",
       "11                       Искушение временем       Лариса2443   \n",
       "12              Последняя колдунья на Земле          Chiarra   \n",
       "13              Лучший подарок для генерала    Наталья Фирст   \n",
       "14                        Забытые и мертвые          Cergart   \n",
       "15                  Кодекс Крови. Книга III        М. Борзых   \n",
       "16                    Невиданными дорожками     Павел Шишкин   \n",
       "17                    Невеста Горного Князя      Мария Кейль   \n",
       "18                             Золотой лист   Дана Арнаутова   \n",
       "19                                    Рпава          Ляля Фа   \n",
       "20                             Начать войну          Cergart   \n",
       "21           Криста. Сердце жемчужного моря  Элиана Никитина   \n",
       "22                Северный мир. Опасный дар  Татьяна Волхова   \n",
       "23                                   Дейнис           IvaZla   \n",
       "\n",
       "                                          Description Raiting Readers Comments  \n",
       "0   В своих прошлых жизнях я много внимания уделял...    4.00       9        0  \n",
       "1   Остров Дальний - место, где некогда добывали м...    3.16      62        3  \n",
       "2   С самого детства я знала, что мне уготована уч...    3.67      13        0  \n",
       "3   Я мечтала попасть в другой мир, но не думала, ...    3.50      34        1  \n",
       "4   Стоило только подписать свой тысячный контракт...    3.38      50        0  \n",
       "5   Каждому агенту, рано или поздно, предстоит пер...    5.00       1        0  \n",
       "6   Я – ведьма, способная видеть будущее. Вот толь...    3.92      74        1  \n",
       "7   Если в родной дом пришла беда, даже самые край...    3.50       5        0  \n",
       "8   Иногда добыть что-то несравнимо легче, чем дон...    4.00       4        0  \n",
       "9   Говорят, что для полноты своей жизни человек д...    2.67       4        0  \n",
       "10  Маленький камушек может стать причиной лавины....               2        0  \n",
       "11  Что чувствует человек, нажимая кнопку прибора,...    4.33       7        0  \n",
       "12  Гарри очень хотел оставить прошлое позади и да...    4.33       4        0  \n",
       "13  Когда-то мы были друг в друга влюблены. Я певи...    4.01     532       53  \n",
       "14  В погоне за стадом Морозова Алина и Дарклинг о...    4.00       4        0  \n",
       "15  В прошлой жизни я следовал Кодексу Крови: спас...    4.43      17        0  \n",
       "16  Человек продирается сквозь лес к избе Бабы Яги...    4.00       2        0  \n",
       "17  Утро началось для меня со свадьбы в чужом мире...    3.25     239       12  \n",
       "18  Старый, как мир, сюжет: принцесса и двое влюбл...    4.63      41        5  \n",
       "19  Женское любопытство — то ещё испытание. Как не...    3.40      17        4  \n",
       "20       Понадобилось триста лет, чтобы полюбить его.    4.00       4        0  \n",
       "21  Книга – источник знаний. Кладезь мудрости, ост...    4.12      38        2  \n",
       "22  Магический дар — не всегда благо для своего об...    5.00      17        0  \n",
       "23  История о самом важном для Таргариенов «дракон...    3.50       4        0  "
      ]
     },
     "execution_count": 38,
     "metadata": {},
     "output_type": "execute_result"
    }
   ],
   "source": [
    "final_df.head(60)"
   ]
  },
  {
   "cell_type": "code",
   "execution_count": 39,
   "metadata": {},
   "outputs": [],
   "source": [
    "# Цикл А.Ч.\n",
    "def getAllBooks(num=1000):\n",
    "    book_data_list = []\n",
    "    for i in range(num):\n",
    "        links = getPageLinks(num)\n",
    "        for j in links:\n",
    "            book_data = getBookData(j)\n",
    "            book_data_list.extend(book_data)\n",
    "            time.sleep(0.5)\n",
    "    final_df.to_csv('books_{}.csv'.format(page_number), index=False) # сохранение CSV без индексов\n",
    "    return final_df\n",
    "final_df.to_csv('books_full.csv')"
   ]
  },
  {
   "cell_type": "code",
   "execution_count": 40,
   "metadata": {},
   "outputs": [
    {
     "data": {
      "text/html": [
       "<div>\n",
       "<style scoped>\n",
       "    .dataframe tbody tr th:only-of-type {\n",
       "        vertical-align: middle;\n",
       "    }\n",
       "\n",
       "    .dataframe tbody tr th {\n",
       "        vertical-align: top;\n",
       "    }\n",
       "\n",
       "    .dataframe thead th {\n",
       "        text-align: right;\n",
       "    }\n",
       "</style>\n",
       "<table border=\"1\" class=\"dataframe\">\n",
       "  <thead>\n",
       "    <tr style=\"text-align: right;\">\n",
       "      <th></th>\n",
       "      <th>Title</th>\n",
       "      <th>Author</th>\n",
       "      <th>Description</th>\n",
       "      <th>Raiting</th>\n",
       "      <th>Readers</th>\n",
       "      <th>Comments</th>\n",
       "    </tr>\n",
       "  </thead>\n",
       "  <tbody>\n",
       "    <tr>\n",
       "      <th>0</th>\n",
       "      <td>Новая жизнь темного властелина. Часть 1</td>\n",
       "      <td>Андрей Федин</td>\n",
       "      <td>В своих прошлых жизнях я много внимания уделял...</td>\n",
       "      <td>4.00</td>\n",
       "      <td>9</td>\n",
       "      <td>0</td>\n",
       "    </tr>\n",
       "    <tr>\n",
       "      <th>1</th>\n",
       "      <td>Не выпускайте чудовищ из шкафа</td>\n",
       "      <td>Карина Дёмина</td>\n",
       "      <td>Остров Дальний - место, где некогда добывали м...</td>\n",
       "      <td>3.16</td>\n",
       "      <td>62</td>\n",
       "      <td>3</td>\n",
       "    </tr>\n",
       "    <tr>\n",
       "      <th>2</th>\n",
       "      <td>Земная</td>\n",
       "      <td>Jude Moon</td>\n",
       "      <td>С самого детства я знала, что мне уготована уч...</td>\n",
       "      <td>3.67</td>\n",
       "      <td>13</td>\n",
       "      <td>0</td>\n",
       "    </tr>\n",
       "    <tr>\n",
       "      <th>3</th>\n",
       "      <td>Проклятая</td>\n",
       "      <td>Jude Moon</td>\n",
       "      <td>Я мечтала попасть в другой мир, но не думала, ...</td>\n",
       "      <td>3.50</td>\n",
       "      <td>34</td>\n",
       "      <td>1</td>\n",
       "    </tr>\n",
       "    <tr>\n",
       "      <th>4</th>\n",
       "      <td>Этот лот (не) продается!!!</td>\n",
       "      <td>Ника Лисицына</td>\n",
       "      <td>Стоило только подписать свой тысячный контракт...</td>\n",
       "      <td>3.38</td>\n",
       "      <td>50</td>\n",
       "      <td>0</td>\n",
       "    </tr>\n",
       "    <tr>\n",
       "      <th>5</th>\n",
       "      <td>Дитя солнца</td>\n",
       "      <td>Рони</td>\n",
       "      <td>Каждому агенту, рано или поздно, предстоит пер...</td>\n",
       "      <td>5.00</td>\n",
       "      <td>1</td>\n",
       "      <td>0</td>\n",
       "    </tr>\n",
       "    <tr>\n",
       "      <th>6</th>\n",
       "      <td>Проклятье чёрной луны</td>\n",
       "      <td>Ника Лисицына</td>\n",
       "      <td>Я – ведьма, способная видеть будущее. Вот толь...</td>\n",
       "      <td>3.92</td>\n",
       "      <td>74</td>\n",
       "      <td>1</td>\n",
       "    </tr>\n",
       "    <tr>\n",
       "      <th>7</th>\n",
       "      <td>Проклятие гостеприимства</td>\n",
       "      <td>Pauli Bal</td>\n",
       "      <td>Если в родной дом пришла беда, даже самые край...</td>\n",
       "      <td>3.50</td>\n",
       "      <td>5</td>\n",
       "      <td>0</td>\n",
       "    </tr>\n",
       "    <tr>\n",
       "      <th>8</th>\n",
       "      <td>За лунным цветком</td>\n",
       "      <td>Мряу Пушистая</td>\n",
       "      <td>Иногда добыть что-то несравнимо легче, чем дон...</td>\n",
       "      <td>4.00</td>\n",
       "      <td>4</td>\n",
       "      <td>0</td>\n",
       "    </tr>\n",
       "    <tr>\n",
       "      <th>9</th>\n",
       "      <td>Бедность, Война и Любовь</td>\n",
       "      <td>Ленор Клемм</td>\n",
       "      <td>Говорят, что для полноты своей жизни человек д...</td>\n",
       "      <td>2.67</td>\n",
       "      <td>4</td>\n",
       "      <td>0</td>\n",
       "    </tr>\n",
       "    <tr>\n",
       "      <th>10</th>\n",
       "      <td>Камушек</td>\n",
       "      <td>IvaZla</td>\n",
       "      <td>Маленький камушек может стать причиной лавины....</td>\n",
       "      <td>NaN</td>\n",
       "      <td>2</td>\n",
       "      <td>0</td>\n",
       "    </tr>\n",
       "    <tr>\n",
       "      <th>11</th>\n",
       "      <td>Искушение временем</td>\n",
       "      <td>Лариса2443</td>\n",
       "      <td>Что чувствует человек, нажимая кнопку прибора,...</td>\n",
       "      <td>4.33</td>\n",
       "      <td>7</td>\n",
       "      <td>0</td>\n",
       "    </tr>\n",
       "    <tr>\n",
       "      <th>12</th>\n",
       "      <td>Последняя колдунья на Земле</td>\n",
       "      <td>Chiarra</td>\n",
       "      <td>Гарри очень хотел оставить прошлое позади и да...</td>\n",
       "      <td>4.33</td>\n",
       "      <td>4</td>\n",
       "      <td>0</td>\n",
       "    </tr>\n",
       "    <tr>\n",
       "      <th>13</th>\n",
       "      <td>Лучший подарок для генерала</td>\n",
       "      <td>Наталья Фирст</td>\n",
       "      <td>Когда-то мы были друг в друга влюблены. Я певи...</td>\n",
       "      <td>4.01</td>\n",
       "      <td>532</td>\n",
       "      <td>53</td>\n",
       "    </tr>\n",
       "    <tr>\n",
       "      <th>14</th>\n",
       "      <td>Забытые и мертвые</td>\n",
       "      <td>Cergart</td>\n",
       "      <td>В погоне за стадом Морозова Алина и Дарклинг о...</td>\n",
       "      <td>4.00</td>\n",
       "      <td>4</td>\n",
       "      <td>0</td>\n",
       "    </tr>\n",
       "    <tr>\n",
       "      <th>15</th>\n",
       "      <td>Кодекс Крови. Книга III</td>\n",
       "      <td>М. Борзых</td>\n",
       "      <td>В прошлой жизни я следовал Кодексу Крови: спас...</td>\n",
       "      <td>4.43</td>\n",
       "      <td>17</td>\n",
       "      <td>0</td>\n",
       "    </tr>\n",
       "    <tr>\n",
       "      <th>16</th>\n",
       "      <td>Невиданными дорожками</td>\n",
       "      <td>Павел Шишкин</td>\n",
       "      <td>Человек продирается сквозь лес к избе Бабы Яги...</td>\n",
       "      <td>4.00</td>\n",
       "      <td>2</td>\n",
       "      <td>0</td>\n",
       "    </tr>\n",
       "    <tr>\n",
       "      <th>17</th>\n",
       "      <td>Невеста Горного Князя</td>\n",
       "      <td>Мария Кейль</td>\n",
       "      <td>Утро началось для меня со свадьбы в чужом мире...</td>\n",
       "      <td>3.25</td>\n",
       "      <td>239</td>\n",
       "      <td>12</td>\n",
       "    </tr>\n",
       "    <tr>\n",
       "      <th>18</th>\n",
       "      <td>Золотой лист</td>\n",
       "      <td>Дана Арнаутова</td>\n",
       "      <td>Старый, как мир, сюжет: принцесса и двое влюбл...</td>\n",
       "      <td>4.63</td>\n",
       "      <td>41</td>\n",
       "      <td>5</td>\n",
       "    </tr>\n",
       "    <tr>\n",
       "      <th>19</th>\n",
       "      <td>Рпава</td>\n",
       "      <td>Ляля Фа</td>\n",
       "      <td>Женское любопытство — то ещё испытание. Как не...</td>\n",
       "      <td>3.40</td>\n",
       "      <td>17</td>\n",
       "      <td>4</td>\n",
       "    </tr>\n",
       "    <tr>\n",
       "      <th>20</th>\n",
       "      <td>Начать войну</td>\n",
       "      <td>Cergart</td>\n",
       "      <td>Понадобилось триста лет, чтобы полюбить его.</td>\n",
       "      <td>4.00</td>\n",
       "      <td>4</td>\n",
       "      <td>0</td>\n",
       "    </tr>\n",
       "    <tr>\n",
       "      <th>21</th>\n",
       "      <td>Криста. Сердце жемчужного моря</td>\n",
       "      <td>Элиана Никитина</td>\n",
       "      <td>Книга – источник знаний. Кладезь мудрости, ост...</td>\n",
       "      <td>4.12</td>\n",
       "      <td>38</td>\n",
       "      <td>2</td>\n",
       "    </tr>\n",
       "    <tr>\n",
       "      <th>22</th>\n",
       "      <td>Северный мир. Опасный дар</td>\n",
       "      <td>Татьяна Волхова</td>\n",
       "      <td>Магический дар — не всегда благо для своего об...</td>\n",
       "      <td>5.00</td>\n",
       "      <td>17</td>\n",
       "      <td>0</td>\n",
       "    </tr>\n",
       "    <tr>\n",
       "      <th>23</th>\n",
       "      <td>Дейнис</td>\n",
       "      <td>IvaZla</td>\n",
       "      <td>История о самом важном для Таргариенов «дракон...</td>\n",
       "      <td>3.50</td>\n",
       "      <td>4</td>\n",
       "      <td>0</td>\n",
       "    </tr>\n",
       "  </tbody>\n",
       "</table>\n",
       "</div>"
      ],
      "text/plain": [
       "                                      Title           Author  \\\n",
       "0   Новая жизнь темного властелина. Часть 1     Андрей Федин   \n",
       "1            Не выпускайте чудовищ из шкафа    Карина Дёмина   \n",
       "2                                    Земная        Jude Moon   \n",
       "3                                 Проклятая        Jude Moon   \n",
       "4                Этот лот (не) продается!!!    Ника Лисицына   \n",
       "5                               Дитя солнца             Рони   \n",
       "6                     Проклятье чёрной луны    Ника Лисицына   \n",
       "7                  Проклятие гостеприимства        Pauli Bal   \n",
       "8                         За лунным цветком    Мряу Пушистая   \n",
       "9                  Бедность, Война и Любовь      Ленор Клемм   \n",
       "10                                  Камушек           IvaZla   \n",
       "11                       Искушение временем       Лариса2443   \n",
       "12              Последняя колдунья на Земле          Chiarra   \n",
       "13              Лучший подарок для генерала    Наталья Фирст   \n",
       "14                        Забытые и мертвые          Cergart   \n",
       "15                  Кодекс Крови. Книга III        М. Борзых   \n",
       "16                    Невиданными дорожками     Павел Шишкин   \n",
       "17                    Невеста Горного Князя      Мария Кейль   \n",
       "18                             Золотой лист   Дана Арнаутова   \n",
       "19                                    Рпава          Ляля Фа   \n",
       "20                             Начать войну          Cergart   \n",
       "21           Криста. Сердце жемчужного моря  Элиана Никитина   \n",
       "22                Северный мир. Опасный дар  Татьяна Волхова   \n",
       "23                                   Дейнис           IvaZla   \n",
       "\n",
       "                                          Description  Raiting  Readers  \\\n",
       "0   В своих прошлых жизнях я много внимания уделял...     4.00        9   \n",
       "1   Остров Дальний - место, где некогда добывали м...     3.16       62   \n",
       "2   С самого детства я знала, что мне уготована уч...     3.67       13   \n",
       "3   Я мечтала попасть в другой мир, но не думала, ...     3.50       34   \n",
       "4   Стоило только подписать свой тысячный контракт...     3.38       50   \n",
       "5   Каждому агенту, рано или поздно, предстоит пер...     5.00        1   \n",
       "6   Я – ведьма, способная видеть будущее. Вот толь...     3.92       74   \n",
       "7   Если в родной дом пришла беда, даже самые край...     3.50        5   \n",
       "8   Иногда добыть что-то несравнимо легче, чем дон...     4.00        4   \n",
       "9   Говорят, что для полноты своей жизни человек д...     2.67        4   \n",
       "10  Маленький камушек может стать причиной лавины....      NaN        2   \n",
       "11  Что чувствует человек, нажимая кнопку прибора,...     4.33        7   \n",
       "12  Гарри очень хотел оставить прошлое позади и да...     4.33        4   \n",
       "13  Когда-то мы были друг в друга влюблены. Я певи...     4.01      532   \n",
       "14  В погоне за стадом Морозова Алина и Дарклинг о...     4.00        4   \n",
       "15  В прошлой жизни я следовал Кодексу Крови: спас...     4.43       17   \n",
       "16  Человек продирается сквозь лес к избе Бабы Яги...     4.00        2   \n",
       "17  Утро началось для меня со свадьбы в чужом мире...     3.25      239   \n",
       "18  Старый, как мир, сюжет: принцесса и двое влюбл...     4.63       41   \n",
       "19  Женское любопытство — то ещё испытание. Как не...     3.40       17   \n",
       "20       Понадобилось триста лет, чтобы полюбить его.     4.00        4   \n",
       "21  Книга – источник знаний. Кладезь мудрости, ост...     4.12       38   \n",
       "22  Магический дар — не всегда благо для своего об...     5.00       17   \n",
       "23  История о самом важном для Таргариенов «дракон...     3.50        4   \n",
       "\n",
       "    Comments  \n",
       "0          0  \n",
       "1          3  \n",
       "2          0  \n",
       "3          1  \n",
       "4          0  \n",
       "5          0  \n",
       "6          1  \n",
       "7          0  \n",
       "8          0  \n",
       "9          0  \n",
       "10         0  \n",
       "11         0  \n",
       "12         0  \n",
       "13        53  \n",
       "14         0  \n",
       "15         0  \n",
       "16         0  \n",
       "17        12  \n",
       "18         5  \n",
       "19         4  \n",
       "20         0  \n",
       "21         2  \n",
       "22         0  \n",
       "23         0  "
      ]
     },
     "execution_count": 40,
     "metadata": {},
     "output_type": "execute_result"
    }
   ],
   "source": [
    "data = pd.read_csv('books_full.csv', index_col=0)\n",
    "data.head(60)"
   ]
  }
 ],
 "metadata": {
  "kernelspec": {
   "display_name": "Python 3 (ipykernel)",
   "language": "python",
   "name": "python3"
  },
  "language_info": {
   "codemirror_mode": {
    "name": "ipython",
    "version": 3
   },
   "file_extension": ".py",
   "mimetype": "text/x-python",
   "name": "python",
   "nbconvert_exporter": "python",
   "pygments_lexer": "ipython3",
   "version": "3.9.16"
  }
 },
 "nbformat": 4,
 "nbformat_minor": 4
}
