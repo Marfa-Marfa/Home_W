{
 "cells": [
  {
   "cell_type": "markdown",
   "metadata": {},
   "source": [
    "# Примечание: сейчас этот файл не работает, но в конце файла видно, что цикл парсинга у него отработал нормально."
   ]
  },
  {
   "cell_type": "code",
   "execution_count": 47,
   "metadata": {},
   "outputs": [],
   "source": [
    "#!pip install fake_useragent"
   ]
  },
  {
   "cell_type": "code",
   "execution_count": 3,
   "metadata": {},
   "outputs": [],
   "source": [
    "import pandas as pd\n",
    "import numpy as np\n",
    "import requests\n",
    "import time\n",
    "from bs4 import BeautifulSoup\n",
    "from fake_useragent import UserAgent\n",
    "from tqdm import tqdm_notebook"
   ]
  },
  {
   "cell_type": "markdown",
   "metadata": {},
   "source": [
    "## Описание задачи\n",
    "\n",
    "Парсинг сайта https://topliba.com/ с целью сбора данных (рейтинг, название фильма, описание, жанр, год выпуска) по жанру Фэнтези. Дело в том, что большинство современных книжный сайтов не предоставляют возможности делать сквозной  поиск по всем страницам, а только в рамках делений по жанрам. Наиболее представленный жанр н данном сайте - фэнтези (783 страницы поиска) по нему и будем делать парсинг. На данном сайте список фильмов подгружается динамически по страницам. Обратимся к странице Фэнтези, и запишем запрос к данной странице."
   ]
  },
  {
   "cell_type": "code",
   "execution_count": 4,
   "metadata": {},
   "outputs": [],
   "source": [
    "page_link = 'https://topliba.com/genres/12090?p=1'"
   ]
  },
  {
   "cell_type": "code",
   "execution_count": 5,
   "metadata": {},
   "outputs": [
    {
     "data": {
      "text/plain": [
       "<Response [200]>"
      ]
     },
     "execution_count": 5,
     "metadata": {},
     "output_type": "execute_result"
    }
   ],
   "source": [
    "response = requests.get(page_link, headers={'User-Agent': UserAgent().chrome})\n",
    "response"
   ]
  },
  {
   "cell_type": "code",
   "execution_count": 6,
   "metadata": {},
   "outputs": [],
   "source": [
    "html = response.content"
   ]
  },
  {
   "cell_type": "markdown",
   "metadata": {},
   "source": [
    "### Получение ссылок с фильмами\n",
    "\n",
    "С помощью библиотеки BeautifulSoup распарсим страницу и найдем ссылки к фильмам. \n",
    "Ссылки к фильмам находятся в теге div с классом discovery-grids-container."
   ]
  },
  {
   "cell_type": "code",
   "execution_count": 7,
   "metadata": {},
   "outputs": [],
   "source": [
    "soup = BeautifulSoup(response.content, 'html.parser')"
   ]
  },
  {
   "cell_type": "code",
   "execution_count": 8,
   "metadata": {},
   "outputs": [
    {
     "data": {
      "text/plain": [
       "b'<!DOCTYPE html>\\n<html lang=\"ru\">\\n    <head>\\n        <meta charset=\"utf-8\">\\n        <meta http-equiv=\"X-UA-Compatible\" content=\"IE=edge\">\\n        <meta name=\"viewport\" content=\"width=device-width, initial-scale=1\">\\n        <title>\\xd0\\xa4\\xd1\\x8d\\xd0\\xbd\\xd1\\x82\\xd0\\xb5\\xd0\\xb7\\xd0\\xb8: \\xd1\\x81\\xd0\\xba\\xd0\\xb0\\xd1\\x87\\xd0\\xb0\\xd1\\x82\\xd1\\x8c \\xd0\\xba\\xd0\\xbd\\xd0\\xb8\\xd0\\xb3\\xd0\\xb8 \\xd0\\xb2 fb2, \\xd1\\x87\\xd0\\xb8\\xd1\\x82\\xd0\\xb0\\xd1\\x82\\xd1\\x8c \\xd0\\xbe\\xd0\\xbd\\xd0\\xbb\\xd0\\xb0\\xd0\\xb9\\xd0\\xbd \\xe2\\x80\\xa2 \\xd0\\xa1\\xd1\\x82\\xd1\\x80\\xd0\\xb0\\xd0\\xbd\\xd0\\xb8\\xd1\\x86\\xd0\\xb0 1</title>\\n        <meta name=\"description\" content=\"\\xd0\\x9a\\xd0\\xbd\\xd0\\xb8\\xd0\\xb3\\xd0\\xb8 \\xd0\\xb6\\xd0\\xb0\\xd0\\xbd\\xd1\\x80\\xd0\\xb0 \\xd0\\xa4\\xd1\\x8d\\xd0\\xbd\\xd1\\x82\\xd0\\xb5\\xd0\\xb7\\xd0\\xb8 \\xd0\\xb4\\xd0\\xbe\\xd1\\x81\\xd1\\x82\\xd1\\x83\\xd0\\xbf\\xd0\\xbd\\xd1\\x8b\\xd0\\xb5 \\xd0\\xb2 \\xd1\\x84\\xd0\\xbe\\xd1\\x80\\xd0\\xbc\\xd0\\xb0\\xd1\\x82\\xd0\\xb5 fb2, \\xd0\\xb0 \\xd1\\x82\\xd0\\xb0\\xd0\\xba\\xd0\\xb6\\xd0\\xb5 \\xd0\\xb4\\xd0\\xbb\\xd1\\x8f \\xd1\\x87\\xd1\\x82\\xd0\\xb5\\xd0\\xbd\\xd0\\xb8\\xd1\\x8f \\xd0\\xbe\\xd0\\xbd\\xd0\\xbb\\xd0\\xb0\\xd0\\xb9\\xd0\\xbd \\xe2\\x80\\xa2 \\xd0\\xa1\\xd1\\x82\\xd1\\x80\\xd0\\xb0\\xd0\\xbd\\xd0\\xb8\\xd1\\x86\\xd0\\xb0 1 \\xe2\\x80\\xa2 \\xd0\\xa1\\xd0\\xbe\\xd1\\x80\\xd1\\x82\\xd0\\xb8\\xd1\\x80\\xd0\\xbe\\xd0\\xb2\\xd0\\xba\\xd0\\xb0 \\xd0\\xbf\\xd0\\xbe \\xd0\\xb4\\xd0\\xb0\\xd1\\x82\\xd0\\xb5 \\xd0\\xb4\\xd0\\xbe\\xd0\\xb1\\xd0\\xb0\\xd0\\xb2\\xd0\\xbb\\xd0\\xb5\\xd0\\xbd\\xd0\\xb8\\xd1\\x8f \\xe2\\x87\\xa3\" />\\n        <meta name=\"robots\" content=\"all\" />\\n                <link rel=\"alternate\" type=\"application/rss+xml\" title=\"RSS\" href=\"https://topliba.com/rss.xml\" />\\n        <link rel=\"apple-touch-icon\" sizes=\"180x180\" href=\"/images/apple-touch-icon.png\">\\n        <link rel=\"icon\" type=\"image/png\" sizes=\"32x32\" href=\"/images/favicon-32x32.png\">\\n        <link rel=\"icon\" type=\"image/png\" sizes=\"16x16\" href=\"/im'"
      ]
     },
     "execution_count": 8,
     "metadata": {},
     "output_type": "execute_result"
    }
   ],
   "source": [
    "response = requests.get(page_link, headers={'User-Agent': UserAgent().chrome})\n",
    "html = response.content\n",
    "html[:1000]"
   ]
  },
  {
   "cell_type": "code",
   "execution_count": 9,
   "metadata": {},
   "outputs": [
    {
     "data": {
      "text/plain": [
       "['https://topliba.com/books/898032',\n",
       " 'https://topliba.com/books/897776',\n",
       " 'https://topliba.com/books/898031',\n",
       " 'https://topliba.com/books/897772',\n",
       " 'https://topliba.com/books/897639',\n",
       " 'https://topliba.com/books/897636',\n",
       " 'https://topliba.com/books/897633',\n",
       " 'https://topliba.com/books/897397',\n",
       " 'https://topliba.com/books/897225',\n",
       " 'https://topliba.com/books/897388',\n",
       " 'https://topliba.com/books/897224',\n",
       " 'https://topliba.com/books/897276',\n",
       " 'https://topliba.com/books/897272',\n",
       " 'https://topliba.com/books/897246',\n",
       " 'https://topliba.com/books/897229',\n",
       " 'https://topliba.com/books/897209',\n",
       " 'https://topliba.com/books/896911',\n",
       " 'https://topliba.com/books/896731',\n",
       " 'https://topliba.com/books/897016',\n",
       " 'https://topliba.com/books/896710',\n",
       " 'https://topliba.com/books/896566',\n",
       " 'https://topliba.com/books/896488',\n",
       " 'https://topliba.com/books/896219',\n",
       " 'https://topliba.com/books/896190']"
      ]
     },
     "execution_count": 9,
     "metadata": {},
     "output_type": "execute_result"
    }
   ],
   "source": [
    "# Cписок ссылок на каждую книгу со страницы\n",
    "book_links = [link.attrs['href'] for link in \n",
    "                  soup.findAll(lambda tag: tag.name == 'a' and tag.get('class') == ['book-title'])]\n",
    "book_links"
   ]
  },
  {
   "cell_type": "code",
   "execution_count": 10,
   "metadata": {},
   "outputs": [],
   "source": [
    "def getPageLinks(page_number):\n",
    "    \"\"\"\n",
    "        Возвращает список ссылок на книги, полученный с текущей страницы\n",
    "        \n",
    "        Параметры:\n",
    "            page_number: int/string - номер страницы для парсинга            \n",
    "    \"\"\"\n",
    "    # составляем ссылку на страницу поиска\n",
    "    page_link = 'https://topliba.com/genres/12090?p={}'.format(page_number)\n",
    "    \n",
    "    # запрашиваем данные о ней\n",
    "    response = requests.get(page_link, headers={'User-Agent': UserAgent().chrome})\n",
    "        \n",
    "    if not response.ok:\n",
    "        # если сервер нам отказал, вернем пустой лист для текущей страницы\n",
    "        print('Сервер ничего не вернул')\n",
    "        return [] \n",
    "    \n",
    "    # получаем содержимое страницы и переводим в суп\n",
    "    soup = BeautifulSoup(response.content, 'html.parser')\n",
    "    \n",
    "    # ищем ссылки на книги и формируем полные ссылки\n",
    "    book_links = soup.findAll(lambda tag: tag.name == 'a' and tag.get('class') == ['book-title'])\n",
    "    book_links = [link.attrs['href'] for link in book_links]\n",
    "    \n",
    "    return book_links"
   ]
  },
  {
   "cell_type": "code",
   "execution_count": 11,
   "metadata": {},
   "outputs": [
    {
     "data": {
      "text/plain": [
       "['https://topliba.com/books/891793',\n",
       " 'https://topliba.com/books/891792',\n",
       " 'https://topliba.com/books/891095',\n",
       " 'https://topliba.com/books/891044',\n",
       " 'https://topliba.com/books/890657',\n",
       " 'https://topliba.com/books/890813',\n",
       " 'https://topliba.com/books/889932',\n",
       " 'https://topliba.com/books/889824',\n",
       " 'https://topliba.com/books/889772',\n",
       " 'https://topliba.com/books/889771',\n",
       " 'https://topliba.com/books/883986',\n",
       " 'https://topliba.com/books/887325',\n",
       " 'https://topliba.com/books/883928',\n",
       " 'https://topliba.com/books/889619',\n",
       " 'https://topliba.com/books/889141',\n",
       " 'https://topliba.com/books/889278',\n",
       " 'https://topliba.com/books/889169',\n",
       " 'https://topliba.com/books/888662',\n",
       " 'https://topliba.com/books/888765',\n",
       " 'https://topliba.com/books/888636',\n",
       " 'https://topliba.com/books/888704',\n",
       " 'https://topliba.com/books/888672',\n",
       " 'https://topliba.com/books/888635',\n",
       " 'https://topliba.com/books/888604']"
      ]
     },
     "execution_count": 11,
     "metadata": {},
     "output_type": "execute_result"
    }
   ],
   "source": [
    "book_links = getPageLinks(3)\n",
    "book_links"
   ]
  },
  {
   "cell_type": "markdown",
   "metadata": {},
   "source": [
    "### Получим информации о книге\n",
    "Обратимся к странице с фильмом Сердце Дракона. Том 2 и достанем следующую информацию:\n",
    "- Название книги.\n",
    "- Автор книги\n",
    "- Оценка книги.\n",
    "- Количество читателей\n",
    "- Количество комментариев/отзывов\n",
    "- Аннотация.\n",
    "- Жанр книги.\n",
    "- Год выпуска."
   ]
  },
  {
   "cell_type": "code",
   "execution_count": 12,
   "metadata": {},
   "outputs": [],
   "source": [
    "book_page = 'https://topliba.com/books/736796'\n",
    "response = requests.get(film_page, headers={'User-Agent': UserAgent().chrome})\n",
    "\n",
    "html = response.content\n",
    "soup = BeautifulSoup(response.content, 'html.parser')"
   ]
  },
  {
   "cell_type": "markdown",
   "metadata": {},
   "source": [
    "### Получим название книги"
   ]
  },
  {
   "cell_type": "code",
   "execution_count": 13,
   "metadata": {},
   "outputs": [
    {
     "data": {
      "text/plain": [
       "'Щит императора'"
      ]
     },
     "execution_count": 13,
     "metadata": {},
     "output_type": "execute_result"
    }
   ],
   "source": [
    "book_title = soup.find(lambda tag: tag.name == 'h1') # and tag.get('itemprop') == ['name'])\n",
    "book_title = book_title.text\n",
    "book_title"
   ]
  },
  {
   "cell_type": "markdown",
   "metadata": {},
   "source": [
    "### Получим автора книги"
   ]
  },
  {
   "cell_type": "code",
   "execution_count": 14,
   "metadata": {},
   "outputs": [
    {
     "data": {
      "text/plain": [
       "'Александра Лисина'"
      ]
     },
     "execution_count": 14,
     "metadata": {},
     "output_type": "execute_result"
    }
   ],
   "source": [
    "book_author = soup.find(lambda tag: tag.name == 'h2' and tag.get('class') == ['book-author'])\n",
    "book_author = book_author.text.replace(\"\\n\", \"\")\n",
    "book_author"
   ]
  },
  {
   "cell_type": "markdown",
   "metadata": {},
   "source": [
    "### Получим рейтинг книги \n",
    "\n",
    "Рейтингикниг хранятся в аттрибутах тега div class=\"col-lg-12\". Посмотрим на структура данного тега."
   ]
  },
  {
   "cell_type": "code",
   "execution_count": 15,
   "metadata": {},
   "outputs": [
    {
     "data": {
      "text/plain": [
       "<div class=\"col-lg-12\">\n",
       "<rating _avgrating=\"4.75\" _rating=\"0\" _ratingsnumber=\"251\" _showavgrating=\"true\" _showavgratingtext=\"true\" _url=\"/books/736796/ratings\" _user=\"\" class=\"pull-left\"></rating>\n",
       "<meta content=\"1\" itemprop=\"worstRating\"/>\n",
       "<meta content=\"5\" itemprop=\"bestRating\"/>\n",
       "<meta content=\"251\" itemprop=\"ratingCount\"/>\n",
       "<meta content=\"4.75\" itemprop=\"ratingValue\"/>\n",
       "</div>"
      ]
     },
     "execution_count": 15,
     "metadata": {},
     "output_type": "execute_result"
    }
   ],
   "source": [
    "scoreboard = soup.find(lambda tag: tag.name == 'div' and tag.get('class') == ['col-lg-12'])\n",
    "scoreboard"
   ]
  },
  {
   "cell_type": "code",
   "execution_count": 16,
   "metadata": {},
   "outputs": [],
   "source": [
    "def getRating(soup, rate):\n",
    "    try:\n",
    "        obj = soup.find('rating', attrs={'class':'pull-left'})\n",
    "        obj = obj.get(rate)\n",
    "    except:\n",
    "        obj=None\n",
    "    \n",
    "    return obj"
   ]
  },
  {
   "cell_type": "code",
   "execution_count": 17,
   "metadata": {},
   "outputs": [
    {
     "data": {
      "text/plain": [
       "'4.75'"
      ]
     },
     "execution_count": 17,
     "metadata": {},
     "output_type": "execute_result"
    }
   ],
   "source": [
    "getRating(soup, '_avgrating')"
   ]
  },
  {
   "cell_type": "markdown",
   "metadata": {},
   "source": [
    "### Получим количество читателей книги и количества комментариев (отзывов)\n",
    "\n",
    "Сведения о читателях хранятся в book-readers"
   ]
  },
  {
   "cell_type": "code",
   "execution_count": 18,
   "metadata": {},
   "outputs": [
    {
     "data": {
      "text/plain": [
       "<div class=\"book-readers\">\n",
       "<div class=\"col-lg-8 col-sm-12 well-sm\">\n",
       "<div class=\"col-sm-2 col-xs-4 book-readers-status\">\n",
       "<span class=\"book-readers-status-count\">490</span>\n",
       "<span>читателей</span>\n",
       "</div>\n",
       "<div class=\"col-sm-2 col-xs-4 book-readers-status\">\n",
       "<a href=\"https://topliba.com/books/736796/impressions\">\n",
       "<span class=\"book-readers-status-count\">88</span>\n",
       "<span>отзывов</span>\n",
       "</a>\n",
       "</div>\n",
       "<div class=\"col-sm-2 col-xs-4 book-readers-status\">\n",
       "<a href=\"https://topliba.com/books/736796/quotes\">\n",
       "<span class=\"book-readers-status-count\">20</span>\n",
       "<span>цитат</span>\n",
       "</a>\n",
       "</div>\n",
       "</div>\n",
       "</div>"
      ]
     },
     "execution_count": 18,
     "metadata": {},
     "output_type": "execute_result"
    }
   ],
   "source": [
    "book_readers = soup.find(lambda tag: tag.name == 'div' and tag.get('class') == ['book-readers'])\n",
    "book_readers"
   ]
  },
  {
   "cell_type": "code",
   "execution_count": 19,
   "metadata": {},
   "outputs": [
    {
     "name": "stdout",
     "output_type": "stream",
     "text": [
      "Количество читателей: 490\n",
      "Количество отзывов: 88\n"
     ]
    }
   ],
   "source": [
    "# Находим все span элементы с классом 'book-readers-status-count'\n",
    "readers_count_elements = soup.find_all('span', class_='book-readers-status-count')\n",
    "\n",
    "book_readership_count = readers_count_elements[0].string  \n",
    "book_comment_count = readers_count_elements[1].string  \n",
    "\n",
    "print(\"Количество читателей:\", book_readership_count)\n",
    "print(\"Количество отзывов:\", book_comment_count)"
   ]
  },
  {
   "cell_type": "markdown",
   "metadata": {},
   "source": [
    "### Получим аннотацию к книге\n",
    "Аннотация находится в параграфе с классом fsBigX. \n",
    "Также удалим лишние пробелы в начале и конце строки и заменим неразрывный пробел обычным пробелом."
   ]
  },
  {
   "cell_type": "code",
   "execution_count": 20,
   "metadata": {},
   "outputs": [
    {
     "data": {
      "text/plain": [
       "'После смерти великого императора Орриана на престол вступает его единственный сын, которому в наследство достается не только страна, но и телохранитель. Карриану не нужен такой довесок к короне, однако нарушить волю отца он не рискует. Мару тоже не нравится это решение, но приказ хозяина для него превыше собственных предпочтений. Для двух врагов подобное соседство — худшее, что только можно измыслить. Тень, не желающая оберегать нового императора, и император, ненавидящий свою тень… Казалось бы, у этих двоих нет и не может быть ничего общего. Но жизнь все расставляет по своим местам.'"
      ]
     },
     "execution_count": 20,
     "metadata": {},
     "output_type": "execute_result"
    }
   ],
   "source": [
    "book_announs = soup.find(lambda tag: tag.name == 'div' and tag.get('class') == ['description']).text\n",
    "book_announs = book_announs.strip()\n",
    "book_announs"
   ]
  },
  {
   "cell_type": "markdown",
   "metadata": {},
   "source": [
    "### Получение данных о жанре"
   ]
  },
  {
   "cell_type": "code",
   "execution_count": 86,
   "metadata": {},
   "outputs": [
    {
     "data": {
      "text/plain": [
       "[<div class=\"col-lg-12\">\n",
       " <rating _avgrating=\"4.75\" _rating=\"0\" _ratingsnumber=\"251\" _showavgrating=\"true\" _showavgratingtext=\"true\" _url=\"/books/736796/ratings\" _user=\"\" class=\"pull-left\"></rating>\n",
       " <meta content=\"1\" itemprop=\"worstRating\"/>\n",
       " <meta content=\"5\" itemprop=\"bestRating\"/>\n",
       " <meta content=\"251\" itemprop=\"ratingCount\"/>\n",
       " <meta content=\"4.75\" itemprop=\"ratingValue\"/>\n",
       " </div>,\n",
       " <div class=\"col-lg-12\">\n",
       " <a href=\"https://topliba.com/genres/12090\" title=\"Книги жанра Фэнтези\">Фэнтези</a>, <a href=\"https://topliba.com/genres/12147\" title=\"Книги жанра Попаданцы\">Попаданцы</a>\n",
       " </div>,\n",
       " <div class=\"col-lg-12\">\n",
       "         Год выхода: <a href=\"https://topliba.com/years/2020\" title=\"Книги 2020 года\">2020</a>\n",
       " </div>,\n",
       " <div class=\"col-lg-12\">\n",
       "             Серия: <a href=\"https://topliba.com/series/267\" title='Книги серии \"Магия фэнтези\"'>Магия фэнтези</a>, <a href=\"https://topliba.com/series/370269\" title='Книги серии \"Слуга императора\"'>Слуга императора</a> (#2)\n",
       "         </div>,\n",
       " <div class=\"col-lg-12\">\n",
       " <a href=\"https://topliba.com/tags/%D0%BF%D0%BE%D0%BF%D0%B0%D0%B4%D0%B0%D0%BD%D0%BA%D0%B0%20%D0%B2%20%D0%B4%D0%B5%D1%82%D1%81%D0%BA%D0%BE%D0%B5%20%D1%82%D0%B5%D0%BB%D0%BE\" title='Книги по тегу \"попаданка в детское тело\"'>#попаданка в детское тело</a>, <a href=\"https://topliba.com/tags/%D0%BF%D0%BE%D0%BF%D0%B0%D0%B4%D0%B0%D0%BD%D0%BA%D0%B0%20%D0%B2%20%D1%82%D0%B5%D0%BB%D0%BE%20%D0%BC%D1%83%D0%B6%D1%87%D0%B8%D0%BD%D1%8B\" title='Книги по тегу \"попаданка в тело мужчины\"'>#попаданка в тело мужчины</a>, <a href=\"https://topliba.com/tags/%D1%81%D0%B8%D0%BB%D1%8C%D0%BD%D0%B0%D1%8F%20%D0%B3%D0%B5%D1%80%D0%BE%D0%B8%D0%BD%D1%8F\" title='Книги по тегу \"сильная героиня\"'>#сильная героиня</a>, <a href=\"https://topliba.com/tags/%D1%82%D0%B5%D0%BB%D0%BE%D1%85%D1%80%D0%B0%D0%BD%D0%B8%D1%82%D0%B5%D0%BB%D1%8C\" title='Книги по тегу \"телохранитель\"'>#телохранитель</a>\n",
       " </div>,\n",
       " <div class=\"col-lg-12\">\n",
       " <i aria-hidden=\"true\" class=\"fa fa-clock-o\"></i> примерно 350 стр., прочитаете за 35 дней (10 стр./день)\n",
       "                         </div>,\n",
       " <div class=\"col-lg-12\">\n",
       " <div class=\"emotion-rating emotion-rating_small\">\n",
       " <ul class=\"emotion-rating__list\">\n",
       " <li class=\"emotion-rating__item\" title=\"\">\n",
       " <img alt=\"Советую\" class=\"emotion-rating__img\" height=\"20\" src=\"/images/emotions/thumbsup.png\"/>\n",
       " <span class=\"emotion-rating__count\">72</span>\n",
       " </li>\n",
       " <li class=\"emotion-rating__item\" title=\"не оторваться\">\n",
       " <img alt=\"Советую\" class=\"emotion-rating__img\" height=\"20\" src=\"/images/emotions/rocket.png\"/>\n",
       " <span class=\"emotion-rating__count\">66</span>\n",
       " </li>\n",
       " <li class=\"emotion-rating__item\" title=\"до слез\">\n",
       " <img alt=\"Советую\" class=\"emotion-rating__img\" height=\"20\" src=\"/images/emotions/droplet.png\"/>\n",
       " <span class=\"emotion-rating__count\">14</span>\n",
       " </li>\n",
       " </ul>\n",
       " </div>\n",
       " </div>,\n",
       " <div class=\"col-lg-12\">\n",
       " <ul class=\"nav nav-tabs\" role=\"tablist\">\n",
       " <li class=\"active\" role=\"presentation\"><a aria-controls=\"description\" data-toggle=\"tab\" href=\"#description\" role=\"tab\">Аннотация</a></li>\n",
       " </ul>\n",
       " <div class=\"tab-content\">\n",
       " <div class=\"tab-pane fade in active\" id=\"description\" itemprop=\"description\" role=\"tabpanel\" v-pre=\"\">\n",
       " <div class=\"description\"><p>После смерти великого императора Орриана на престол вступает его единственный сын, которому в наследство достается не только страна, но и телохранитель. Карриану не нужен такой довесок к короне, однако нарушить волю отца он не рискует. Мару тоже не нравится это решение, но приказ хозяина для него превыше собственных предпочтений. Для двух врагов подобное соседство — худшее, что только можно измыслить. Тень, не желающая оберегать нового императора, и император, ненавидящий свою тень… Казалось бы, у этих двоих нет и не может быть ничего общего. Но жизнь все расставляет по своим местам.</p></div>\n",
       " </div>\n",
       " </div>\n",
       " </div>,\n",
       " <div class=\"col-lg-12\">\n",
       " <div class=\"alert-info\">\n",
       " <i class=\"fa fa-exclamation-circle\"></i>\n",
       "                 Доступен ознакомительный фрагмент\n",
       "             </div>\n",
       " <noindex>\n",
       " </noindex>\n",
       " <p></p>\n",
       " <noindex>\n",
       " <a class=\"download-btn\" href=\"https://topliba.com/books/736796/trial/fb2\" rel=\"nofollow\" title=\"Скачать книгу Лисина Александра - Щит императора (fb2)\">Скачать fb2</a>\n",
       " <a class=\"download-btn\" href=\"https://topliba.com/books/736796/trial/epub\" rel=\"nofollow\" title=\"Скачать книгу Лисина Александра - Щит императора (epub)\">Скачать epub</a>\n",
       " <a class=\"download-btn\" href=\"https://topliba.com/books/736796/full\" rel=\"nofollow\" target=\"_blank\" title=\"Скачать книгу Лисина Александра - Щит императора\">Скачать полную версию</a>\n",
       " </noindex>\n",
       " <p></p>\n",
       " <noindex>\n",
       " <div class=\"litres_fragment_body\" style=\"width: 100%; height: auto;\"></div>\n",
       " </noindex>\n",
       " </div>,\n",
       " <div class=\"col-lg-12\">\n",
       " <div class=\"book-readers\">\n",
       " <div class=\"col-lg-8 col-sm-12 well-sm\">\n",
       " <div class=\"col-sm-2 col-xs-4 book-readers-status\">\n",
       " <span class=\"book-readers-status-count\">490</span>\n",
       " <span>читателей</span>\n",
       " </div>\n",
       " <div class=\"col-sm-2 col-xs-4 book-readers-status\">\n",
       " <a href=\"https://topliba.com/books/736796/impressions\">\n",
       " <span class=\"book-readers-status-count\">88</span>\n",
       " <span>отзывов</span>\n",
       " </a>\n",
       " </div>\n",
       " <div class=\"col-sm-2 col-xs-4 book-readers-status\">\n",
       " <a href=\"https://topliba.com/books/736796/quotes\">\n",
       " <span class=\"book-readers-status-count\">20</span>\n",
       " <span>цитат</span>\n",
       " </a>\n",
       " </div>\n",
       " </div>\n",
       " </div>\n",
       " </div>,\n",
       " <div class=\"col-lg-12\">\n",
       " <div class=\"panel panel-default\">\n",
       " <div class=\"panel-body\">\n",
       " <div id=\"impression-627846-comments\"></div>\n",
       " </div>\n",
       " </div>\n",
       " </div>,\n",
       " <div class=\"col-lg-12\">\n",
       " <div class=\"panel panel-default\">\n",
       " <div class=\"panel-body\">\n",
       " <div id=\"impression-622352-comments\"></div>\n",
       " </div>\n",
       " </div>\n",
       " </div>,\n",
       " <div class=\"col-lg-12\">\n",
       " <div class=\"panel panel-default\">\n",
       " <div class=\"panel-body\">\n",
       " <div id=\"impression-606403-comments\"></div>\n",
       " </div>\n",
       " </div>\n",
       " </div>,\n",
       " <div class=\"col-lg-12\">\n",
       " <div class=\"panel panel-default\">\n",
       " <div class=\"panel-body\">\n",
       " <div id=\"impression-549366-comments\"></div>\n",
       " </div>\n",
       " </div>\n",
       " </div>,\n",
       " <div class=\"col-lg-12\">\n",
       " <div class=\"panel panel-default\">\n",
       " <div class=\"panel-body\">\n",
       " <div id=\"impression-525900-comments\"></div>\n",
       " </div>\n",
       " </div>\n",
       " </div>,\n",
       " <div class=\"col-lg-12\">\n",
       " <div class=\"panel panel-default\">\n",
       " <div class=\"panel-body\">\n",
       " <div id=\"impression-522924-comments\"></div>\n",
       " </div>\n",
       " </div>\n",
       " </div>,\n",
       " <div class=\"col-lg-12\">\n",
       " <div class=\"panel panel-default\">\n",
       " <div class=\"panel-body\">\n",
       " <div id=\"impression-515729-comments\"></div>\n",
       " </div>\n",
       " </div>\n",
       " </div>,\n",
       " <div class=\"col-lg-12\">\n",
       " <div class=\"contacts\">\n",
       " <noindex>\n",
       "                         ©2024 ТопЛиба • по всем вопросам писать на <a href=\"mailto:contact@topliba.com\" rel=\"nofollow\">contact@topliba.com</a>\n",
       " </noindex>\n",
       " </div>\n",
       " </div>]"
      ]
     },
     "execution_count": 86,
     "metadata": {},
     "output_type": "execute_result"
    }
   ],
   "source": [
    "# Находим все теги div с классом 'col-lg-12'\n",
    "search_elements = soup.find_all('div', class_='col-lg-12')\n",
    "search_elements"
   ]
  },
  {
   "cell_type": "markdown",
   "metadata": {},
   "source": [
    "div class=\"col-lg-12\"><a href=\"https://topliba.com/genres/12090\" title=\"Книги жанра Фэнтези\">Фэнтези</a>, <a href=\"https://topliba.com/genres/12147\" title=\"Книги жанра Попаданцы\">Попаданцы</a></div>"
   ]
  },
  {
   "cell_type": "markdown",
   "metadata": {},
   "source": [
    "Запишем итоговую функцию для сбора данных по книге."
   ]
  },
  {
   "cell_type": "code",
   "execution_count": 105,
   "metadata": {},
   "outputs": [],
   "source": [
    "def getBookData(film_page):\n",
    "    book_data = pd.DataFrame(columns=['Author', 'Description', 'Readers', 'Comments'], index=[0])\n",
    "    \n",
    "    response = requests.get(film_page, headers={'User-Agent': UserAgent().chrome})\n",
    "    \n",
    "    if not response.ok:\n",
    "        # если сервер нам отказал, вернем статус ошибки \n",
    "        return response.status_code\n",
    "    \n",
    "    # получаем содержимое страницы и переводим в суп\n",
    "    html = response.content\n",
    "    soup = BeautifulSoup(response.content, 'html.parser')\n",
    "           \n",
    "    book_author = soup.find(lambda tag: tag.name == 'h2' and tag.get('class') == ['book-author'])\n",
    "    book_author = book_author.text.replace(\"\\n\", \"\")\n",
    "    book_data['Author'] = book_author\n",
    "    \n",
    "    book_announs = soup.find(lambda tag: tag.name == 'div' and tag.get('class') == ['description']).text\n",
    "    book_announs = book_announs.strip()\n",
    "    book_data['Description']= book_announs\n",
    "      \n",
    "    readers_count_elements = soup.find_all('span', class_='book-readers-status-count')\n",
    "\n",
    "    book_readership_count = readers_count_elements[0].string  \n",
    "    book_data['Readers'] = book_readership_count\n",
    "    \n",
    "    book_comment_count = readers_count_elements[1].string  \n",
    "    book_data['Comments'] = book_comment_count\n",
    "    \n",
    "    return book_data"
   ]
  },
  {
   "cell_type": "code",
   "execution_count": 106,
   "metadata": {},
   "outputs": [
    {
     "data": {
      "text/html": [
       "<div>\n",
       "<style scoped>\n",
       "    .dataframe tbody tr th:only-of-type {\n",
       "        vertical-align: middle;\n",
       "    }\n",
       "\n",
       "    .dataframe tbody tr th {\n",
       "        vertical-align: top;\n",
       "    }\n",
       "\n",
       "    .dataframe thead th {\n",
       "        text-align: right;\n",
       "    }\n",
       "</style>\n",
       "<table border=\"1\" class=\"dataframe\">\n",
       "  <thead>\n",
       "    <tr style=\"text-align: right;\">\n",
       "      <th></th>\n",
       "      <th>Author</th>\n",
       "      <th>Description</th>\n",
       "      <th>Readers</th>\n",
       "      <th>Comments</th>\n",
       "    </tr>\n",
       "  </thead>\n",
       "  <tbody>\n",
       "    <tr>\n",
       "      <th>0</th>\n",
       "      <td>Александра Лисина</td>\n",
       "      <td>После смерти великого императора Орриана на пр...</td>\n",
       "      <td>490</td>\n",
       "      <td>88</td>\n",
       "    </tr>\n",
       "  </tbody>\n",
       "</table>\n",
       "</div>"
      ],
      "text/plain": [
       "              Author                                        Description  \\\n",
       "0  Александра Лисина  После смерти великого императора Орриана на пр...   \n",
       "\n",
       "  Readers Comments  \n",
       "0     490       88  "
      ]
     },
     "execution_count": 106,
     "metadata": {},
     "output_type": "execute_result"
    }
   ],
   "source": [
    "getBookData('https://topliba.com/books/736796')"
   ]
  },
  {
   "cell_type": "markdown",
   "metadata": {},
   "source": [
    "# Парсинг"
   ]
  },
  {
   "cell_type": "markdown",
   "metadata": {},
   "source": [
    "## Получение информации по всем книгам\n",
    "Соберем информацию по всем книгам. Для начала создадим пустой датафрейм, в который мы будем добавлять информацию по каждой книге."
   ]
  },
  {
   "cell_type": "code",
   "execution_count": 122,
   "metadata": {},
   "outputs": [
    {
     "data": {
      "text/html": [
       "<div>\n",
       "<style scoped>\n",
       "    .dataframe tbody tr th:only-of-type {\n",
       "        vertical-align: middle;\n",
       "    }\n",
       "\n",
       "    .dataframe tbody tr th {\n",
       "        vertical-align: top;\n",
       "    }\n",
       "\n",
       "    .dataframe thead th {\n",
       "        text-align: right;\n",
       "    }\n",
       "</style>\n",
       "<table border=\"1\" class=\"dataframe\">\n",
       "  <thead>\n",
       "    <tr style=\"text-align: right;\">\n",
       "      <th></th>\n",
       "      <th>Author</th>\n",
       "      <th>Description</th>\n",
       "      <th>Readers</th>\n",
       "      <th>Comments</th>\n",
       "    </tr>\n",
       "  </thead>\n",
       "  <tbody>\n",
       "  </tbody>\n",
       "</table>\n",
       "</div>"
      ],
      "text/plain": [
       "Empty DataFrame\n",
       "Columns: [Author, Description, Readers, Comments]\n",
       "Index: []"
      ]
     },
     "execution_count": 122,
     "metadata": {},
     "output_type": "execute_result"
    }
   ],
   "source": [
    "final_df = pd.DataFrame(columns=['Author', 'Description', 'Readers', 'Comments'])\n",
    "final_df.head()"
   ]
  },
  {
   "cell_type": "code",
   "execution_count": 123,
   "metadata": {},
   "outputs": [],
   "source": [
    "book_links = getPageLinks(1000)"
   ]
  },
  {
   "cell_type": "markdown",
   "metadata": {},
   "source": [
    "Цикл для сбора информации по всем фильмам."
   ]
  },
  {
   "cell_type": "code",
   "execution_count": 139,
   "metadata": {},
   "outputs": [
    {
     "data": {
      "application/vnd.jupyter.widget-view+json": {
       "model_id": "033ddc9c2f674c0cbe28fb93cf1f5a48",
       "version_major": 2,
       "version_minor": 0
      },
      "text/plain": [
       "  0%|          | 0/24 [00:00<?, ?it/s]"
      ]
     },
     "metadata": {},
     "output_type": "display_data"
    }
   ],
   "source": [
    "book_data_list = []\n",
    "for book_link in tqdm(book_links):\n",
    "    try: \n",
    "        book_data = getBookData(book_link)\n",
    "        book_data_list.append(book_data)\n",
    "        time.sleep(3)\n",
    "    except Exception as e:\n",
    "        print(\"Ошибка при парсинге\", book_link)\n",
    "        print(e)\n",
    "\n",
    "final_df = pd.DataFrame(book_data_list)"
   ]
  },
  {
   "cell_type": "code",
   "execution_count": 146,
   "metadata": {},
   "outputs": [
    {
     "data": {
      "text/html": [
       "<div>\n",
       "<style scoped>\n",
       "    .dataframe tbody tr th:only-of-type {\n",
       "        vertical-align: middle;\n",
       "    }\n",
       "\n",
       "    .dataframe tbody tr th {\n",
       "        vertical-align: top;\n",
       "    }\n",
       "\n",
       "    .dataframe thead th {\n",
       "        text-align: right;\n",
       "    }\n",
       "</style>\n",
       "<table border=\"1\" class=\"dataframe\">\n",
       "  <thead>\n",
       "    <tr style=\"text-align: right;\">\n",
       "      <th></th>\n",
       "      <th>Author</th>\n",
       "      <th>Description</th>\n",
       "      <th>Readers</th>\n",
       "      <th>Comments</th>\n",
       "    </tr>\n",
       "  </thead>\n",
       "  <tbody>\n",
       "    <tr>\n",
       "      <th>0</th>\n",
       "      <td>Надежда Соколова</td>\n",
       "      <td>Никто не спрашивал меня, когда отправил в друг...</td>\n",
       "      <td>244</td>\n",
       "      <td>21</td>\n",
       "    </tr>\n",
       "    <tr>\n",
       "      <th>1</th>\n",
       "      <td>Крепкая Элья</td>\n",
       "      <td>«В борьбе двух хищников побеждают только падал...</td>\n",
       "      <td>39</td>\n",
       "      <td>3</td>\n",
       "    </tr>\n",
       "    <tr>\n",
       "      <th>2</th>\n",
       "      <td>Наталья Якобсон</td>\n",
       "      <td>Младший из трех принцев красив, умен, любим в ...</td>\n",
       "      <td>22</td>\n",
       "      <td>0</td>\n",
       "    </tr>\n",
       "    <tr>\n",
       "      <th>3</th>\n",
       "      <td>Рианнон Илларионова</td>\n",
       "      <td>Главная героиня отправляется учиться в школу з...</td>\n",
       "      <td>5</td>\n",
       "      <td>0</td>\n",
       "    </tr>\n",
       "    <tr>\n",
       "      <th>4</th>\n",
       "      <td>Сумеречный Эльф</td>\n",
       "      <td>Капитан Сварт, мстительный пират, давно мечтае...</td>\n",
       "      <td>6</td>\n",
       "      <td>0</td>\n",
       "    </tr>\n",
       "  </tbody>\n",
       "</table>\n",
       "</div>"
      ],
      "text/plain": [
       "                Author                                        Description  \\\n",
       "0     Надежда Соколова  Никто не спрашивал меня, когда отправил в друг...   \n",
       "1         Крепкая Элья  «В борьбе двух хищников побеждают только падал...   \n",
       "2      Наталья Якобсон  Младший из трех принцев красив, умен, любим в ...   \n",
       "3  Рианнон Илларионова  Главная героиня отправляется учиться в школу з...   \n",
       "4      Сумеречный Эльф  Капитан Сварт, мстительный пират, давно мечтае...   \n",
       "\n",
       "  Readers Comments  \n",
       "0     244       21  \n",
       "1      39        3  \n",
       "2      22        0  \n",
       "3       5        0  \n",
       "4       6        0  "
      ]
     },
     "execution_count": 146,
     "metadata": {},
     "output_type": "execute_result"
    }
   ],
   "source": [
    "final_df.head()"
   ]
  },
  {
   "cell_type": "code",
   "execution_count": 145,
   "metadata": {},
   "outputs": [
    {
     "data": {
      "application/vnd.jupyter.widget-view+json": {
       "model_id": "3b0f3c2e49ce44cb90f5ff4c78d59500",
       "version_major": 2,
       "version_minor": 0
      },
      "text/plain": [
       "  0%|          | 0/24 [00:00<?, ?it/s]"
      ]
     },
     "metadata": {},
     "output_type": "display_data"
    }
   ],
   "source": [
    "from tqdm.notebook import tqdm\n",
    "\n",
    "for book_link in tqdm(book_links):\n",
    "    try: \n",
    "        book_data = getData(book_link)\n",
    "        final_df = pd.concat((final_df, book_data), axis=0)\n",
    "        time.sleep(3)\n",
    "    except:\n",
    "        continue"
   ]
  },
  {
   "cell_type": "code",
   "execution_count": 141,
   "metadata": {},
   "outputs": [
    {
     "data": {
      "text/html": [
       "<div>\n",
       "<style scoped>\n",
       "    .dataframe tbody tr th:only-of-type {\n",
       "        vertical-align: middle;\n",
       "    }\n",
       "\n",
       "    .dataframe tbody tr th {\n",
       "        vertical-align: top;\n",
       "    }\n",
       "\n",
       "    .dataframe thead th {\n",
       "        text-align: right;\n",
       "    }\n",
       "</style>\n",
       "<table border=\"1\" class=\"dataframe\">\n",
       "  <thead>\n",
       "    <tr style=\"text-align: right;\">\n",
       "      <th></th>\n",
       "      <th>Author</th>\n",
       "      <th>Description</th>\n",
       "      <th>Readers</th>\n",
       "      <th>Comments</th>\n",
       "    </tr>\n",
       "  </thead>\n",
       "  <tbody>\n",
       "    <tr>\n",
       "      <th>0</th>\n",
       "      <td>Надежда Соколова</td>\n",
       "      <td>Никто не спрашивал меня, когда отправил в друг...</td>\n",
       "      <td>244</td>\n",
       "      <td>21</td>\n",
       "    </tr>\n",
       "    <tr>\n",
       "      <th>1</th>\n",
       "      <td>Крепкая Элья</td>\n",
       "      <td>«В борьбе двух хищников побеждают только падал...</td>\n",
       "      <td>39</td>\n",
       "      <td>3</td>\n",
       "    </tr>\n",
       "    <tr>\n",
       "      <th>2</th>\n",
       "      <td>Наталья Якобсон</td>\n",
       "      <td>Младший из трех принцев красив, умен, любим в ...</td>\n",
       "      <td>22</td>\n",
       "      <td>0</td>\n",
       "    </tr>\n",
       "    <tr>\n",
       "      <th>3</th>\n",
       "      <td>Рианнон Илларионова</td>\n",
       "      <td>Главная героиня отправляется учиться в школу з...</td>\n",
       "      <td>5</td>\n",
       "      <td>0</td>\n",
       "    </tr>\n",
       "    <tr>\n",
       "      <th>4</th>\n",
       "      <td>Сумеречный Эльф</td>\n",
       "      <td>Капитан Сварт, мстительный пират, давно мечтае...</td>\n",
       "      <td>6</td>\n",
       "      <td>0</td>\n",
       "    </tr>\n",
       "    <tr>\n",
       "      <th>5</th>\n",
       "      <td>Axiom</td>\n",
       "      <td>Между империей Бима и царством Охвот разжигает...</td>\n",
       "      <td>9</td>\n",
       "      <td>0</td>\n",
       "    </tr>\n",
       "    <tr>\n",
       "      <th>6</th>\n",
       "      <td>Алиса Элер</td>\n",
       "      <td>Говорят, однажды посмотрев в глаза Ши, никогда...</td>\n",
       "      <td>9</td>\n",
       "      <td>0</td>\n",
       "    </tr>\n",
       "    <tr>\n",
       "      <th>7</th>\n",
       "      <td>Алиса Элер</td>\n",
       "      <td>\"Ветер, холодный и злой, рвет плащ, срывает с ...</td>\n",
       "      <td>10</td>\n",
       "      <td>0</td>\n",
       "    </tr>\n",
       "    <tr>\n",
       "      <th>8</th>\n",
       "      <td>Андрей Пучков</td>\n",
       "      <td>Ты живёшь в своей квартире спокойной и размере...</td>\n",
       "      <td>9</td>\n",
       "      <td>0</td>\n",
       "    </tr>\n",
       "    <tr>\n",
       "      <th>9</th>\n",
       "      <td>Иван Шмелев</td>\n",
       "      <td>Аллен становится признанным Специалистом. Если...</td>\n",
       "      <td>7</td>\n",
       "      <td>0</td>\n",
       "    </tr>\n",
       "    <tr>\n",
       "      <th>10</th>\n",
       "      <td>Лариса Тихонова</td>\n",
       "      <td>Думаете, они всего лишь герои суеверий? Тогда ...</td>\n",
       "      <td>19</td>\n",
       "      <td>0</td>\n",
       "    </tr>\n",
       "    <tr>\n",
       "      <th>11</th>\n",
       "      <td>Игорь Лахов</td>\n",
       "      <td>Сан Саныч прожил долгую и трудную жизнь — помо...</td>\n",
       "      <td>113</td>\n",
       "      <td>7</td>\n",
       "    </tr>\n",
       "    <tr>\n",
       "      <th>12</th>\n",
       "      <td>Василий Митрохин, Митроха</td>\n",
       "      <td>Вольный пересказ всем известной русской народн...</td>\n",
       "      <td>4</td>\n",
       "      <td>2</td>\n",
       "    </tr>\n",
       "    <tr>\n",
       "      <th>13</th>\n",
       "      <td>Тина Зелень</td>\n",
       "      <td>Вопрос: сколько сюрпризов таит женское коварст...</td>\n",
       "      <td>205</td>\n",
       "      <td>39</td>\n",
       "    </tr>\n",
       "    <tr>\n",
       "      <th>14</th>\n",
       "      <td>Джой Моен</td>\n",
       "      <td>На одном из северных побережий Сканды стоит об...</td>\n",
       "      <td>7</td>\n",
       "      <td>0</td>\n",
       "    </tr>\n",
       "    <tr>\n",
       "      <th>15</th>\n",
       "      <td>SelenaAlfer</td>\n",
       "      <td>Путешествуя, Лина приезжает в очередной тихий ...</td>\n",
       "      <td>7</td>\n",
       "      <td>0</td>\n",
       "    </tr>\n",
       "    <tr>\n",
       "      <th>16</th>\n",
       "      <td>Марина Гришина</td>\n",
       "      <td>1 часть дилогии!Рэя никогда бы не подумала, чт...</td>\n",
       "      <td>37</td>\n",
       "      <td>0</td>\n",
       "    </tr>\n",
       "    <tr>\n",
       "      <th>17</th>\n",
       "      <td>Фея Ветра</td>\n",
       "      <td>Что будет, если пойти за магическими ингредиен...</td>\n",
       "      <td>9</td>\n",
       "      <td>0</td>\n",
       "    </tr>\n",
       "    <tr>\n",
       "      <th>18</th>\n",
       "      <td>Мария Берестова</td>\n",
       "      <td>Дерек бежит от друга-тирана, одиночества и нел...</td>\n",
       "      <td>32</td>\n",
       "      <td>0</td>\n",
       "    </tr>\n",
       "    <tr>\n",
       "      <th>19</th>\n",
       "      <td>Татьяна Барматти</td>\n",
       "      <td>Попав в другой мир, превратившись в лисичку, я...</td>\n",
       "      <td>128</td>\n",
       "      <td>5</td>\n",
       "    </tr>\n",
       "    <tr>\n",
       "      <th>20</th>\n",
       "      <td>Энни Мо</td>\n",
       "      <td>— Я? О… я пойду по моховой тропинке. Говорят, ...</td>\n",
       "      <td>6</td>\n",
       "      <td>0</td>\n",
       "    </tr>\n",
       "    <tr>\n",
       "      <th>21</th>\n",
       "      <td>Нинель Мягкова, Нинель Нуар</td>\n",
       "      <td>Мне наконец-то доверили первое настоящее задан...</td>\n",
       "      <td>163</td>\n",
       "      <td>7</td>\n",
       "    </tr>\n",
       "    <tr>\n",
       "      <th>22</th>\n",
       "      <td>Энни Мо</td>\n",
       "      <td>Альтернативный мир, альтернативная столица без...</td>\n",
       "      <td>8</td>\n",
       "      <td>0</td>\n",
       "    </tr>\n",
       "    <tr>\n",
       "      <th>23</th>\n",
       "      <td>Axiom</td>\n",
       "      <td>О том, как зародились Пять Вечностей. О людях,...</td>\n",
       "      <td>3</td>\n",
       "      <td>0</td>\n",
       "    </tr>\n",
       "  </tbody>\n",
       "</table>\n",
       "</div>"
      ],
      "text/plain": [
       "                         Author  \\\n",
       "0              Надежда Соколова   \n",
       "1                  Крепкая Элья   \n",
       "2               Наталья Якобсон   \n",
       "3           Рианнон Илларионова   \n",
       "4               Сумеречный Эльф   \n",
       "5                         Axiom   \n",
       "6                    Алиса Элер   \n",
       "7                    Алиса Элер   \n",
       "8                 Андрей Пучков   \n",
       "9                   Иван Шмелев   \n",
       "10              Лариса Тихонова   \n",
       "11                  Игорь Лахов   \n",
       "12    Василий Митрохин, Митроха   \n",
       "13                  Тина Зелень   \n",
       "14                    Джой Моен   \n",
       "15                  SelenaAlfer   \n",
       "16               Марина Гришина   \n",
       "17                    Фея Ветра   \n",
       "18              Мария Берестова   \n",
       "19             Татьяна Барматти   \n",
       "20                      Энни Мо   \n",
       "21  Нинель Мягкова, Нинель Нуар   \n",
       "22                      Энни Мо   \n",
       "23                        Axiom   \n",
       "\n",
       "                                          Description Readers Comments  \n",
       "0   Никто не спрашивал меня, когда отправил в друг...     244       21  \n",
       "1   «В борьбе двух хищников побеждают только падал...      39        3  \n",
       "2   Младший из трех принцев красив, умен, любим в ...      22        0  \n",
       "3   Главная героиня отправляется учиться в школу з...       5        0  \n",
       "4   Капитан Сварт, мстительный пират, давно мечтае...       6        0  \n",
       "5   Между империей Бима и царством Охвот разжигает...       9        0  \n",
       "6   Говорят, однажды посмотрев в глаза Ши, никогда...       9        0  \n",
       "7   \"Ветер, холодный и злой, рвет плащ, срывает с ...      10        0  \n",
       "8   Ты живёшь в своей квартире спокойной и размере...       9        0  \n",
       "9   Аллен становится признанным Специалистом. Если...       7        0  \n",
       "10  Думаете, они всего лишь герои суеверий? Тогда ...      19        0  \n",
       "11  Сан Саныч прожил долгую и трудную жизнь — помо...     113        7  \n",
       "12  Вольный пересказ всем известной русской народн...       4        2  \n",
       "13  Вопрос: сколько сюрпризов таит женское коварст...     205       39  \n",
       "14  На одном из северных побережий Сканды стоит об...       7        0  \n",
       "15  Путешествуя, Лина приезжает в очередной тихий ...       7        0  \n",
       "16  1 часть дилогии!Рэя никогда бы не подумала, чт...      37        0  \n",
       "17  Что будет, если пойти за магическими ингредиен...       9        0  \n",
       "18  Дерек бежит от друга-тирана, одиночества и нел...      32        0  \n",
       "19  Попав в другой мир, превратившись в лисичку, я...     128        5  \n",
       "20  — Я? О… я пойду по моховой тропинке. Говорят, ...       6        0  \n",
       "21  Мне наконец-то доверили первое настоящее задан...     163        7  \n",
       "22  Альтернативный мир, альтернативная столица без...       8        0  \n",
       "23  О том, как зародились Пять Вечностей. О людях,...       3        0  "
      ]
     },
     "execution_count": 141,
     "metadata": {},
     "output_type": "execute_result"
    }
   ],
   "source": [
    "final_df.head(30)"
   ]
  },
  {
   "cell_type": "code",
   "execution_count": null,
   "metadata": {},
   "outputs": [],
   "source": []
  }
 ],
 "metadata": {
  "kernelspec": {
   "display_name": "Python 3 (ipykernel)",
   "language": "python",
   "name": "python3"
  },
  "language_info": {
   "codemirror_mode": {
    "name": "ipython",
    "version": 3
   },
   "file_extension": ".py",
   "mimetype": "text/x-python",
   "name": "python",
   "nbconvert_exporter": "python",
   "pygments_lexer": "ipython3",
   "version": "3.9.16"
  }
 },
 "nbformat": 4,
 "nbformat_minor": 4
}
